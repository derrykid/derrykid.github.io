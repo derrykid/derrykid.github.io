{
 "cells": [
  {
   "cell_type": "code",
   "execution_count": 1,
   "id": "861053e2",
   "metadata": {},
   "outputs": [
    {
     "data": {
      "text/html": [
       "<div>\n",
       "<style scoped>\n",
       "    .dataframe tbody tr th:only-of-type {\n",
       "        vertical-align: middle;\n",
       "    }\n",
       "\n",
       "    .dataframe tbody tr th {\n",
       "        vertical-align: top;\n",
       "    }\n",
       "\n",
       "    .dataframe thead th {\n",
       "        text-align: right;\n",
       "    }\n",
       "</style>\n",
       "<table border=\"1\" class=\"dataframe\">\n",
       "  <thead>\n",
       "    <tr style=\"text-align: right;\">\n",
       "      <th></th>\n",
       "      <th>Fee</th>\n",
       "      <th>Duration</th>\n",
       "    </tr>\n",
       "  </thead>\n",
       "  <tbody>\n",
       "    <tr>\n",
       "      <th>0</th>\n",
       "      <td>22000.0</td>\n",
       "      <td>30days</td>\n",
       "    </tr>\n",
       "    <tr>\n",
       "      <th>1</th>\n",
       "      <td>25000.0</td>\n",
       "      <td>50days</td>\n",
       "    </tr>\n",
       "    <tr>\n",
       "      <th>2</th>\n",
       "      <td>23000.0</td>\n",
       "      <td>30days</td>\n",
       "    </tr>\n",
       "    <tr>\n",
       "      <th>3</th>\n",
       "      <td>NaN</td>\n",
       "      <td>35days</td>\n",
       "    </tr>\n",
       "    <tr>\n",
       "      <th>4</th>\n",
       "      <td>26000.0</td>\n",
       "      <td>40days</td>\n",
       "    </tr>\n",
       "  </tbody>\n",
       "</table>\n",
       "</div>"
      ],
      "text/plain": [
       "       Fee Duration\n",
       "0  22000.0   30days\n",
       "1  25000.0   50days\n",
       "2  23000.0   30days\n",
       "3      NaN   35days\n",
       "4  26000.0   40days"
      ]
     },
     "execution_count": 1,
     "metadata": {},
     "output_type": "execute_result"
    }
   ],
   "source": [
    "import pandas as pd\n",
    "import numpy as np\n",
    "\n",
    "technologies= {\n",
    "    'Fee' :[22000,25000,23000,np.NaN,26000],\n",
    "    'Duration':['30days','50days','30days','35days','40days']\n",
    "          }\n",
    "\n",
    "df = pd.DataFrame(technologies)\n",
    "df"
   ]
  },
  {
   "cell_type": "markdown",
   "id": "7e31d751",
   "metadata": {},
   "source": [
    "# with dict\n",
    "\n",
    "map/reflect each value based on the dict"
   ]
  },
  {
   "cell_type": "code",
   "execution_count": 2,
   "id": "569c64e3",
   "metadata": {},
   "outputs": [
    {
     "data": {
      "text/html": [
       "<div>\n",
       "<style scoped>\n",
       "    .dataframe tbody tr th:only-of-type {\n",
       "        vertical-align: middle;\n",
       "    }\n",
       "\n",
       "    .dataframe tbody tr th {\n",
       "        vertical-align: top;\n",
       "    }\n",
       "\n",
       "    .dataframe thead th {\n",
       "        text-align: right;\n",
       "    }\n",
       "</style>\n",
       "<table border=\"1\" class=\"dataframe\">\n",
       "  <thead>\n",
       "    <tr style=\"text-align: right;\">\n",
       "      <th></th>\n",
       "      <th>Fee</th>\n",
       "      <th>Duration</th>\n",
       "      <th>tax</th>\n",
       "    </tr>\n",
       "  </thead>\n",
       "  <tbody>\n",
       "    <tr>\n",
       "      <th>0</th>\n",
       "      <td>22000.0</td>\n",
       "      <td>30days</td>\n",
       "      <td>100.0</td>\n",
       "    </tr>\n",
       "    <tr>\n",
       "      <th>1</th>\n",
       "      <td>25000.0</td>\n",
       "      <td>50days</td>\n",
       "      <td>200.0</td>\n",
       "    </tr>\n",
       "    <tr>\n",
       "      <th>2</th>\n",
       "      <td>23000.0</td>\n",
       "      <td>30days</td>\n",
       "      <td>100.0</td>\n",
       "    </tr>\n",
       "    <tr>\n",
       "      <th>3</th>\n",
       "      <td>NaN</td>\n",
       "      <td>35days</td>\n",
       "      <td>NaN</td>\n",
       "    </tr>\n",
       "    <tr>\n",
       "      <th>4</th>\n",
       "      <td>26000.0</td>\n",
       "      <td>40days</td>\n",
       "      <td>150.0</td>\n",
       "    </tr>\n",
       "  </tbody>\n",
       "</table>\n",
       "</div>"
      ],
      "text/plain": [
       "       Fee Duration    tax\n",
       "0  22000.0   30days  100.0\n",
       "1  25000.0   50days  200.0\n",
       "2  23000.0   30days  100.0\n",
       "3      NaN   35days    NaN\n",
       "4  26000.0   40days  150.0"
      ]
     },
     "execution_count": 2,
     "metadata": {},
     "output_type": "execute_result"
    }
   ],
   "source": [
    "hashmap = {'30days': 100, '40days': 150, '50days': 200}\n",
    "\n",
    "df['tax'] = df['Duration'].map(hashmap)\n",
    "df"
   ]
  },
  {
   "cell_type": "markdown",
   "id": "103f4db2",
   "metadata": {},
   "source": [
    "# with function\n",
    "\n",
    "It works on one row at a time"
   ]
  },
  {
   "cell_type": "code",
   "execution_count": 3,
   "id": "dfdc0144",
   "metadata": {},
   "outputs": [
    {
     "name": "stdout",
     "output_type": "stream",
     "text": [
      "Doing work\n",
      "Doing work\n",
      "Doing work\n",
      "Doing work\n",
      "Doing work\n"
     ]
    },
    {
     "data": {
      "text/plain": [
       "0    23500.0\n",
       "1    26500.0\n",
       "2    24500.0\n",
       "3        NaN\n",
       "4    27500.0\n",
       "Name: Fee, dtype: float64"
      ]
     },
     "execution_count": 3,
     "metadata": {},
     "output_type": "execute_result"
    }
   ],
   "source": [
    "def cus_function(each):\n",
    "    print(\"Doing work\")\n",
    "    return each + 1500\n",
    "\n",
    "df['Fee'].map(cus_function)"
   ]
  },
  {
   "cell_type": "markdown",
   "id": "a9953404",
   "metadata": {},
   "source": [
    "# with lambda"
   ]
  },
  {
   "cell_type": "code",
   "execution_count": 4,
   "id": "b7a5dcaf",
   "metadata": {},
   "outputs": [],
   "source": [
    "out = df['Fee'].map(lambda each : each + 1500)"
   ]
  },
  {
   "cell_type": "code",
   "execution_count": 5,
   "id": "0e602aeb",
   "metadata": {},
   "outputs": [
    {
     "data": {
      "text/plain": [
       "True"
      ]
     },
     "execution_count": 5,
     "metadata": {},
     "output_type": "execute_result"
    }
   ],
   "source": [
    "bool_count = pd.Series([True, True, False, False, True, False])\n",
    "bool_count.value_counts()[True] == bool_count.value_counts().loc[True]"
   ]
  },
  {
   "cell_type": "code",
   "execution_count": 6,
   "id": "83eb9e87",
   "metadata": {},
   "outputs": [
    {
     "data": {
      "text/plain": [
       "3"
      ]
     },
     "execution_count": 6,
     "metadata": {},
     "output_type": "execute_result"
    }
   ],
   "source": [
    "bool_count.sum()"
   ]
  },
  {
   "cell_type": "markdown",
   "id": "23212173",
   "metadata": {},
   "source": [
    "## Apply\n",
    "\n",
    "Apply upon dataframe to create  a dataframe\n",
    "\n",
    "`df.apply(func, axis=$)`\n",
    "\n",
    "axis: {0 or ‘index’, 1 or ‘columns’}, default 0"
   ]
  },
  {
   "cell_type": "code",
   "execution_count": 7,
   "id": "fb1d23bd",
   "metadata": {},
   "outputs": [
    {
     "data": {
      "text/html": [
       "<div>\n",
       "<style scoped>\n",
       "    .dataframe tbody tr th:only-of-type {\n",
       "        vertical-align: middle;\n",
       "    }\n",
       "\n",
       "    .dataframe tbody tr th {\n",
       "        vertical-align: top;\n",
       "    }\n",
       "\n",
       "    .dataframe thead th {\n",
       "        text-align: right;\n",
       "    }\n",
       "</style>\n",
       "<table border=\"1\" class=\"dataframe\">\n",
       "  <thead>\n",
       "    <tr style=\"text-align: right;\">\n",
       "      <th></th>\n",
       "      <th>age</th>\n",
       "      <th>time</th>\n",
       "    </tr>\n",
       "  </thead>\n",
       "  <tbody>\n",
       "    <tr>\n",
       "      <th>0</th>\n",
       "      <td>121</td>\n",
       "      <td>-52</td>\n",
       "    </tr>\n",
       "    <tr>\n",
       "      <th>1</th>\n",
       "      <td>141</td>\n",
       "      <td>-43</td>\n",
       "    </tr>\n",
       "    <tr>\n",
       "      <th>2</th>\n",
       "      <td>131</td>\n",
       "      <td>-78</td>\n",
       "    </tr>\n",
       "    <tr>\n",
       "      <th>3</th>\n",
       "      <td>155</td>\n",
       "      <td>-61</td>\n",
       "    </tr>\n",
       "    <tr>\n",
       "      <th>4</th>\n",
       "      <td>156</td>\n",
       "      <td>-68</td>\n",
       "    </tr>\n",
       "    <tr>\n",
       "      <th>5</th>\n",
       "      <td>151</td>\n",
       "      <td>-57</td>\n",
       "    </tr>\n",
       "    <tr>\n",
       "      <th>6</th>\n",
       "      <td>146</td>\n",
       "      <td>-67</td>\n",
       "    </tr>\n",
       "    <tr>\n",
       "      <th>7</th>\n",
       "      <td>120</td>\n",
       "      <td>-58</td>\n",
       "    </tr>\n",
       "    <tr>\n",
       "      <th>8</th>\n",
       "      <td>145</td>\n",
       "      <td>-47</td>\n",
       "    </tr>\n",
       "    <tr>\n",
       "      <th>9</th>\n",
       "      <td>136</td>\n",
       "      <td>-47</td>\n",
       "    </tr>\n",
       "  </tbody>\n",
       "</table>\n",
       "</div>"
      ],
      "text/plain": [
       "   age  time\n",
       "0  121   -52\n",
       "1  141   -43\n",
       "2  131   -78\n",
       "3  155   -61\n",
       "4  156   -68\n",
       "5  151   -57\n",
       "6  146   -67\n",
       "7  120   -58\n",
       "8  145   -47\n",
       "9  136   -47"
      ]
     },
     "execution_count": 7,
     "metadata": {},
     "output_type": "execute_result"
    }
   ],
   "source": [
    "age_list = np.random.randint(18, 60, (10, 2))\n",
    "df = pd.DataFrame(age_list, columns=['age', 'time'])\n",
    "\n",
    "def more_cols(df : pd.DataFrame) -> pd.DataFrame:\n",
    "    df['age'] = df['age'] + 100\n",
    "    df['time'] = df['time'] - 100\n",
    "    return df\n",
    "\n",
    "# target the \"columns\". the series\n",
    "df.apply(more_cols, axis='columns')"
   ]
  },
  {
   "cell_type": "code",
   "execution_count": 8,
   "id": "5597ac71",
   "metadata": {},
   "outputs": [
    {
     "data": {
      "text/html": [
       "<div>\n",
       "<style scoped>\n",
       "    .dataframe tbody tr th:only-of-type {\n",
       "        vertical-align: middle;\n",
       "    }\n",
       "\n",
       "    .dataframe tbody tr th {\n",
       "        vertical-align: top;\n",
       "    }\n",
       "\n",
       "    .dataframe thead th {\n",
       "        text-align: right;\n",
       "    }\n",
       "</style>\n",
       "<table border=\"1\" class=\"dataframe\">\n",
       "  <thead>\n",
       "    <tr style=\"text-align: right;\">\n",
       "      <th></th>\n",
       "      <th>age</th>\n",
       "      <th>time</th>\n",
       "    </tr>\n",
       "  </thead>\n",
       "  <tbody>\n",
       "    <tr>\n",
       "      <th>0</th>\n",
       "      <td>1121</td>\n",
       "      <td>948</td>\n",
       "    </tr>\n",
       "    <tr>\n",
       "      <th>1</th>\n",
       "      <td>1141</td>\n",
       "      <td>957</td>\n",
       "    </tr>\n",
       "    <tr>\n",
       "      <th>2</th>\n",
       "      <td>1131</td>\n",
       "      <td>922</td>\n",
       "    </tr>\n",
       "    <tr>\n",
       "      <th>3</th>\n",
       "      <td>1155</td>\n",
       "      <td>939</td>\n",
       "    </tr>\n",
       "    <tr>\n",
       "      <th>4</th>\n",
       "      <td>1156</td>\n",
       "      <td>932</td>\n",
       "    </tr>\n",
       "    <tr>\n",
       "      <th>5</th>\n",
       "      <td>1151</td>\n",
       "      <td>943</td>\n",
       "    </tr>\n",
       "    <tr>\n",
       "      <th>6</th>\n",
       "      <td>1146</td>\n",
       "      <td>933</td>\n",
       "    </tr>\n",
       "    <tr>\n",
       "      <th>7</th>\n",
       "      <td>1120</td>\n",
       "      <td>942</td>\n",
       "    </tr>\n",
       "    <tr>\n",
       "      <th>8</th>\n",
       "      <td>1145</td>\n",
       "      <td>953</td>\n",
       "    </tr>\n",
       "    <tr>\n",
       "      <th>9</th>\n",
       "      <td>1136</td>\n",
       "      <td>953</td>\n",
       "    </tr>\n",
       "  </tbody>\n",
       "</table>\n",
       "</div>"
      ],
      "text/plain": [
       "    age  time\n",
       "0  1121   948\n",
       "1  1141   957\n",
       "2  1131   922\n",
       "3  1155   939\n",
       "4  1156   932\n",
       "5  1151   943\n",
       "6  1146   933\n",
       "7  1120   942\n",
       "8  1145   953\n",
       "9  1136   953"
      ]
     },
     "execution_count": 8,
     "metadata": {},
     "output_type": "execute_result"
    }
   ],
   "source": [
    "def on_index(df : pd.DataFrame) -> pd.DataFrame:\n",
    "    return df + 1000\n",
    "\n",
    "# target at each row\n",
    "df.apply(on_index, axis=\"index\")"
   ]
  },
  {
   "cell_type": "code",
   "execution_count": 13,
   "id": "1ff7d737",
   "metadata": {},
   "outputs": [
    {
     "data": {
      "text/plain": [
       "0             once\n",
       "1             once\n",
       "2       many times\n",
       "3            twice\n",
       "4       many times\n",
       "           ...    \n",
       "3328         twice\n",
       "3329    many times\n",
       "3330         twice\n",
       "3331         twice\n",
       "3332    many times\n",
       "Length: 3333, dtype: object"
      ]
     },
     "execution_count": 13,
     "metadata": {},
     "output_type": "execute_result"
    }
   ],
   "source": [
    "def call_frequency(df : pd.DataFrame) -> str:\n",
    "    count = df['Customer service calls']\n",
    "    if count == 1.0:\n",
    "        return \"once\"\n",
    "    elif count == 2.0:\n",
    "        return \"twice\"\n",
    "    else:\n",
    "        return \"many times\"\n",
    "    \n",
    "\n",
    "df = pd.read_csv(\"telco_churn.csv\")\n",
    "df.apply(call_frequency, axis='columns')"
   ]
  },
  {
   "cell_type": "code",
   "execution_count": null,
   "id": "f2a27710",
   "metadata": {},
   "outputs": [],
   "source": []
  }
 ],
 "metadata": {
  "kernelspec": {
   "display_name": "Python 3 (ipykernel)",
   "language": "python",
   "name": "python3"
  },
  "language_info": {
   "codemirror_mode": {
    "name": "ipython",
    "version": 3
   },
   "file_extension": ".py",
   "mimetype": "text/x-python",
   "name": "python",
   "nbconvert_exporter": "python",
   "pygments_lexer": "ipython3",
   "version": "3.10.8"
  }
 },
 "nbformat": 4,
 "nbformat_minor": 5
}
