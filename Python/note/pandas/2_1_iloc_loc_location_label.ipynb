{
 "cells": [
  {
   "cell_type": "markdown",
   "id": "8e7eded3-1210-4880-b5d1-a8bce6c290ba",
   "metadata": {},
   "source": [
    "[Stackoverflow](https://stackoverflow.com/a/31593712)\n",
    "\n",
    "# Label vs. Location\n",
    "\n",
    "The main difference between `iloc` and `loc` is\n",
    "\n",
    "- `loc` gets rows (and/or columns) with particular **labels**.\n",
    "- `iloc` gets rows (and/or columns) with particular **locations**."
   ]
  },
  {
   "cell_type": "code",
   "execution_count": 2,
   "id": "88587aa4-0936-4f4f-bc7d-408c668ea40a",
   "metadata": {},
   "outputs": [
    {
     "data": {
      "text/plain": [
       "49    a\n",
       "48    b\n",
       "47    c\n",
       "0     d\n",
       "1     e\n",
       "2     f\n",
       "dtype: object"
      ]
     },
     "execution_count": 2,
     "metadata": {},
     "output_type": "execute_result"
    }
   ],
   "source": [
    "import pandas as pd\n",
    "\n",
    "df = pd.Series(list(\"abcdef\"), index=[49, 48, 47, 0, 1, 2])\n",
    "df"
   ]
  },
  {
   "cell_type": "markdown",
   "id": "a7998eed-b2bf-4a36-b57d-2bca1270b438",
   "metadata": {},
   "source": [
    "Location of label"
   ]
  },
  {
   "cell_type": "code",
   "execution_count": 3,
   "id": "7f6f16bf-ccc6-4180-bfe1-a38acb7802b8",
   "metadata": {},
   "outputs": [
    {
     "data": {
      "text/plain": [
       "'d'"
      ]
     },
     "execution_count": 3,
     "metadata": {},
     "output_type": "execute_result"
    }
   ],
   "source": [
    "df.loc[0]"
   ]
  },
  {
   "cell_type": "markdown",
   "id": "3e3dcf01-5ff9-4880-9f67-5d8be3ac6fc7",
   "metadata": {},
   "source": [
    "Think as **index**"
   ]
  },
  {
   "cell_type": "code",
   "execution_count": 4,
   "id": "4f1174a2-cdfd-49a6-833c-d88d9b7c7c25",
   "metadata": {},
   "outputs": [
    {
     "data": {
      "text/plain": [
       "'a'"
      ]
     },
     "execution_count": 4,
     "metadata": {},
     "output_type": "execute_result"
    }
   ],
   "source": [
    "df.iloc[0]"
   ]
  },
  {
   "cell_type": "markdown",
   "id": "1c16ef21",
   "metadata": {},
   "source": [
    "## Second arg of `loc(label, column_name)`"
   ]
  },
  {
   "cell_type": "code",
   "execution_count": 17,
   "id": "8645ff01",
   "metadata": {},
   "outputs": [
    {
     "data": {
      "text/plain": [
       "42"
      ]
     },
     "execution_count": 17,
     "metadata": {},
     "output_type": "execute_result"
    }
   ],
   "source": [
    "hashmap = {\"John\": [42], \"Tommy\": [45]}\n",
    "df = pd.DataFrame(hashmap)\n",
    "\n",
    "# label 0, a.k.a. index\n",
    "df.loc[0, \"John\"]"
   ]
  },
  {
   "cell_type": "markdown",
   "id": "36e4ec7c",
   "metadata": {},
   "source": [
    "# Choose between iloc and loc\n",
    "\n",
    "> loc, label, can be string; iloc is numerical value\n",
    "\n",
    "When choosing or transitioning between loc and iloc, there is one \"gotcha\" worth keeping in mind, which is that the two methods use slightly different indexing schemes.\n",
    "\n",
    "iloc uses the Python stdlib indexing scheme, where the first element of the range is included and the last one excluded. So `0:10` will select entries `0,...,9`. loc, meanwhile, indexes inclusively. So `0:10` will select entries `0,...,10`.\n",
    "\n",
    "Why the change? Remember that loc can index any stdlib type: strings, for example. If we have a DataFrame with index values `Apples, ..., Potatoes, ...`, and we want to select \"all the alphabetical fruit choices between Apples and Potatoes\", then it's a lot more convenient to index `df.loc['Apples':'Potatoes']` than it is to index something like `df.loc['Apples', 'Potatoet']`.\n",
    "\n",
    "This is particularly confusing when the DataFrame index is a simple numerical list, e.g. `0,...,1000`. In this case `df.iloc[0:1000]` will return 1000 entries, while `df.loc[0:1000]` return 1001 of them! To get 1000 elements using loc, you will need to go one lower and ask for `df.loc[0:999]`.\n",
    "\n",
    "Otherwise, the semantics of using loc are the same as those for iloc."
   ]
  },
  {
   "cell_type": "code",
   "execution_count": null,
   "id": "fd1eb4af",
   "metadata": {},
   "outputs": [],
   "source": []
  }
 ],
 "metadata": {
  "kernelspec": {
   "display_name": "Python 3 (ipykernel)",
   "language": "python",
   "name": "python3"
  },
  "language_info": {
   "codemirror_mode": {
    "name": "ipython",
    "version": 3
   },
   "file_extension": ".py",
   "mimetype": "text/x-python",
   "name": "python",
   "nbconvert_exporter": "python",
   "pygments_lexer": "ipython3",
   "version": "3.11.1"
  }
 },
 "nbformat": 4,
 "nbformat_minor": 5
}
