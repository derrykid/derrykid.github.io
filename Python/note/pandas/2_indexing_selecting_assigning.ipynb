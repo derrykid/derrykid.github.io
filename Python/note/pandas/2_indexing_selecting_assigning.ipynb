{
 "cells": [
  {
   "cell_type": "code",
   "execution_count": 1,
   "id": "14b0807b",
   "metadata": {},
   "outputs": [
    {
     "data": {
      "text/html": [
       "<div>\n",
       "<style scoped>\n",
       "    .dataframe tbody tr th:only-of-type {\n",
       "        vertical-align: middle;\n",
       "    }\n",
       "\n",
       "    .dataframe tbody tr th {\n",
       "        vertical-align: top;\n",
       "    }\n",
       "\n",
       "    .dataframe thead th {\n",
       "        text-align: right;\n",
       "    }\n",
       "</style>\n",
       "<table border=\"1\" class=\"dataframe\">\n",
       "  <thead>\n",
       "    <tr style=\"text-align: right;\">\n",
       "      <th></th>\n",
       "      <th>student_no</th>\n",
       "      <th>department</th>\n",
       "    </tr>\n",
       "  </thead>\n",
       "  <tbody>\n",
       "    <tr>\n",
       "      <th>0</th>\n",
       "      <td>1</td>\n",
       "      <td>computer</td>\n",
       "    </tr>\n",
       "    <tr>\n",
       "      <th>1</th>\n",
       "      <td>2</td>\n",
       "      <td>music</td>\n",
       "    </tr>\n",
       "    <tr>\n",
       "      <th>2</th>\n",
       "      <td>3</td>\n",
       "      <td>medical</td>\n",
       "    </tr>\n",
       "  </tbody>\n",
       "</table>\n",
       "</div>"
      ],
      "text/plain": [
       "   student_no department\n",
       "0           1   computer\n",
       "1           2      music\n",
       "2           3    medical"
      ]
     },
     "execution_count": 1,
     "metadata": {},
     "output_type": "execute_result"
    }
   ],
   "source": [
    "import pandas as pd\n",
    "\n",
    "df = pd.read_csv(\"sample.csv\", index_col=0)\n",
    "df"
   ]
  },
  {
   "cell_type": "markdown",
   "id": "af2883e4",
   "metadata": {},
   "source": [
    "# Accessor"
   ]
  },
  {
   "cell_type": "markdown",
   "id": "cfbf8b4e",
   "metadata": {},
   "source": [
    "DataFrame object has attributes, a.k.a field variables in Java\n",
    "\n",
    "to access, use dictionary-like syntax or simply access like field variable\n",
    "\n",
    "- `df['col_name']`\n",
    "- `df.col_name`\n",
    "\n",
    "Returns `Series` object"
   ]
  },
  {
   "cell_type": "code",
   "execution_count": 2,
   "id": "2fd08223",
   "metadata": {},
   "outputs": [
    {
     "data": {
      "text/plain": [
       "True"
      ]
     },
     "execution_count": 2,
     "metadata": {},
     "output_type": "execute_result"
    }
   ],
   "source": [
    "df['department'] is df.department"
   ]
  },
  {
   "cell_type": "code",
   "execution_count": 3,
   "id": "9fc51800",
   "metadata": {},
   "outputs": [
    {
     "data": {
      "text/plain": [
       "pandas.core.series.Series"
      ]
     },
     "execution_count": 3,
     "metadata": {},
     "output_type": "execute_result"
    }
   ],
   "source": [
    "type(df['department'])"
   ]
  },
  {
   "cell_type": "markdown",
   "id": "925d52f2",
   "metadata": {},
   "source": [
    "# Conditional Selection\n",
    "\n",
    "Selection expression gives us a `Pandas.Series` of `True/False`. We can use that to filter rows we want\n",
    "\n",
    "`df[(column with predicate)]`\n",
    "\n",
    "**Note that 2 conditions must surround with parentheses**:\n",
    "```\n",
    "df[(df[A]) & (df[B])]\n",
    "```\n",
    "\n",
    "1. evaluate left, 2. then right, 3.then combine together"
   ]
  },
  {
   "cell_type": "code",
   "execution_count": 4,
   "id": "e96c9e3a",
   "metadata": {},
   "outputs": [
    {
     "data": {
      "text/html": [
       "<div>\n",
       "<style scoped>\n",
       "    .dataframe tbody tr th:only-of-type {\n",
       "        vertical-align: middle;\n",
       "    }\n",
       "\n",
       "    .dataframe tbody tr th {\n",
       "        vertical-align: top;\n",
       "    }\n",
       "\n",
       "    .dataframe thead th {\n",
       "        text-align: right;\n",
       "    }\n",
       "</style>\n",
       "<table border=\"1\" class=\"dataframe\">\n",
       "  <thead>\n",
       "    <tr style=\"text-align: right;\">\n",
       "      <th></th>\n",
       "      <th>Unnamed: 0</th>\n",
       "      <th>State</th>\n",
       "      <th>Account length</th>\n",
       "      <th>Area code</th>\n",
       "      <th>International plan</th>\n",
       "      <th>Voice mail plan</th>\n",
       "      <th>Number vmail messages</th>\n",
       "      <th>Total day minutes</th>\n",
       "      <th>Total day calls</th>\n",
       "      <th>Total day charge</th>\n",
       "      <th>...</th>\n",
       "      <th>Total night minutes</th>\n",
       "      <th>Total night calls</th>\n",
       "      <th>Total night charge</th>\n",
       "      <th>Total intl minutes</th>\n",
       "      <th>Total intl calls</th>\n",
       "      <th>Total intl charge</th>\n",
       "      <th>Customer service calls</th>\n",
       "      <th>Churn</th>\n",
       "      <th>New Column</th>\n",
       "      <th>Churn Binary</th>\n",
       "    </tr>\n",
       "  </thead>\n",
       "  <tbody>\n",
       "    <tr>\n",
       "      <th>3</th>\n",
       "      <td>3</td>\n",
       "      <td>OH</td>\n",
       "      <td>84</td>\n",
       "      <td>408</td>\n",
       "      <td>Yes</td>\n",
       "      <td>No</td>\n",
       "      <td>0</td>\n",
       "      <td>299.4</td>\n",
       "      <td>71.0</td>\n",
       "      <td>50.90</td>\n",
       "      <td>...</td>\n",
       "      <td>196.9</td>\n",
       "      <td>89.0</td>\n",
       "      <td>8.86</td>\n",
       "      <td>6.6</td>\n",
       "      <td>7</td>\n",
       "      <td>1.78</td>\n",
       "      <td>2.0</td>\n",
       "      <td>False</td>\n",
       "      <td>100</td>\n",
       "      <td>0</td>\n",
       "    </tr>\n",
       "    <tr>\n",
       "      <th>205</th>\n",
       "      <td>231</td>\n",
       "      <td>OH</td>\n",
       "      <td>63</td>\n",
       "      <td>415</td>\n",
       "      <td>Yes</td>\n",
       "      <td>Yes</td>\n",
       "      <td>36</td>\n",
       "      <td>199.0</td>\n",
       "      <td>110.0</td>\n",
       "      <td>33.83</td>\n",
       "      <td>...</td>\n",
       "      <td>197.6</td>\n",
       "      <td>92.0</td>\n",
       "      <td>8.89</td>\n",
       "      <td>11.0</td>\n",
       "      <td>6</td>\n",
       "      <td>2.97</td>\n",
       "      <td>1.0</td>\n",
       "      <td>False</td>\n",
       "      <td>100</td>\n",
       "      <td>0</td>\n",
       "    </tr>\n",
       "    <tr>\n",
       "      <th>782</th>\n",
       "      <td>808</td>\n",
       "      <td>OH</td>\n",
       "      <td>61</td>\n",
       "      <td>510</td>\n",
       "      <td>Yes</td>\n",
       "      <td>Yes</td>\n",
       "      <td>16</td>\n",
       "      <td>143.5</td>\n",
       "      <td>76.0</td>\n",
       "      <td>24.40</td>\n",
       "      <td>...</td>\n",
       "      <td>147.7</td>\n",
       "      <td>95.0</td>\n",
       "      <td>6.65</td>\n",
       "      <td>11.3</td>\n",
       "      <td>3</td>\n",
       "      <td>3.05</td>\n",
       "      <td>0.0</td>\n",
       "      <td>False</td>\n",
       "      <td>100</td>\n",
       "      <td>0</td>\n",
       "    </tr>\n",
       "    <tr>\n",
       "      <th>1212</th>\n",
       "      <td>1238</td>\n",
       "      <td>OH</td>\n",
       "      <td>147</td>\n",
       "      <td>415</td>\n",
       "      <td>Yes</td>\n",
       "      <td>Yes</td>\n",
       "      <td>24</td>\n",
       "      <td>219.9</td>\n",
       "      <td>118.0</td>\n",
       "      <td>37.38</td>\n",
       "      <td>...</td>\n",
       "      <td>352.5</td>\n",
       "      <td>111.0</td>\n",
       "      <td>15.86</td>\n",
       "      <td>8.1</td>\n",
       "      <td>4</td>\n",
       "      <td>2.19</td>\n",
       "      <td>3.0</td>\n",
       "      <td>False</td>\n",
       "      <td>100</td>\n",
       "      <td>0</td>\n",
       "    </tr>\n",
       "    <tr>\n",
       "      <th>1392</th>\n",
       "      <td>1418</td>\n",
       "      <td>OH</td>\n",
       "      <td>29</td>\n",
       "      <td>415</td>\n",
       "      <td>Yes</td>\n",
       "      <td>Yes</td>\n",
       "      <td>37</td>\n",
       "      <td>235.0</td>\n",
       "      <td>101.0</td>\n",
       "      <td>39.95</td>\n",
       "      <td>...</td>\n",
       "      <td>139.8</td>\n",
       "      <td>106.0</td>\n",
       "      <td>6.29</td>\n",
       "      <td>5.7</td>\n",
       "      <td>7</td>\n",
       "      <td>1.54</td>\n",
       "      <td>2.0</td>\n",
       "      <td>False</td>\n",
       "      <td>100</td>\n",
       "      <td>0</td>\n",
       "    </tr>\n",
       "    <tr>\n",
       "      <th>1836</th>\n",
       "      <td>1862</td>\n",
       "      <td>OH</td>\n",
       "      <td>133</td>\n",
       "      <td>408</td>\n",
       "      <td>Yes</td>\n",
       "      <td>No</td>\n",
       "      <td>0</td>\n",
       "      <td>254.7</td>\n",
       "      <td>103.0</td>\n",
       "      <td>43.30</td>\n",
       "      <td>...</td>\n",
       "      <td>178.1</td>\n",
       "      <td>103.0</td>\n",
       "      <td>8.01</td>\n",
       "      <td>8.0</td>\n",
       "      <td>3</td>\n",
       "      <td>2.16</td>\n",
       "      <td>0.0</td>\n",
       "      <td>True</td>\n",
       "      <td>100</td>\n",
       "      <td>1</td>\n",
       "    </tr>\n",
       "    <tr>\n",
       "      <th>2568</th>\n",
       "      <td>2594</td>\n",
       "      <td>OH</td>\n",
       "      <td>115</td>\n",
       "      <td>510</td>\n",
       "      <td>Yes</td>\n",
       "      <td>No</td>\n",
       "      <td>0</td>\n",
       "      <td>345.3</td>\n",
       "      <td>81.0</td>\n",
       "      <td>58.70</td>\n",
       "      <td>...</td>\n",
       "      <td>217.5</td>\n",
       "      <td>107.0</td>\n",
       "      <td>9.79</td>\n",
       "      <td>11.8</td>\n",
       "      <td>8</td>\n",
       "      <td>3.19</td>\n",
       "      <td>1.0</td>\n",
       "      <td>True</td>\n",
       "      <td>100</td>\n",
       "      <td>1</td>\n",
       "    </tr>\n",
       "    <tr>\n",
       "      <th>2878</th>\n",
       "      <td>2904</td>\n",
       "      <td>OH</td>\n",
       "      <td>136</td>\n",
       "      <td>408</td>\n",
       "      <td>Yes</td>\n",
       "      <td>No</td>\n",
       "      <td>0</td>\n",
       "      <td>183.4</td>\n",
       "      <td>103.0</td>\n",
       "      <td>31.18</td>\n",
       "      <td>...</td>\n",
       "      <td>200.4</td>\n",
       "      <td>122.0</td>\n",
       "      <td>9.02</td>\n",
       "      <td>10.4</td>\n",
       "      <td>9</td>\n",
       "      <td>2.81</td>\n",
       "      <td>2.0</td>\n",
       "      <td>False</td>\n",
       "      <td>100</td>\n",
       "      <td>0</td>\n",
       "    </tr>\n",
       "    <tr>\n",
       "      <th>3183</th>\n",
       "      <td>3209</td>\n",
       "      <td>OH</td>\n",
       "      <td>68</td>\n",
       "      <td>415</td>\n",
       "      <td>Yes</td>\n",
       "      <td>Yes</td>\n",
       "      <td>24</td>\n",
       "      <td>125.7</td>\n",
       "      <td>92.0</td>\n",
       "      <td>21.37</td>\n",
       "      <td>...</td>\n",
       "      <td>214.5</td>\n",
       "      <td>108.0</td>\n",
       "      <td>9.65</td>\n",
       "      <td>14.2</td>\n",
       "      <td>6</td>\n",
       "      <td>3.83</td>\n",
       "      <td>3.0</td>\n",
       "      <td>True</td>\n",
       "      <td>100</td>\n",
       "      <td>1</td>\n",
       "    </tr>\n",
       "  </tbody>\n",
       "</table>\n",
       "<p>9 rows × 23 columns</p>\n",
       "</div>"
      ],
      "text/plain": [
       "      Unnamed: 0 State  Account length  Area code International plan  \\\n",
       "3              3    OH              84        408                Yes   \n",
       "205          231    OH              63        415                Yes   \n",
       "782          808    OH              61        510                Yes   \n",
       "1212        1238    OH             147        415                Yes   \n",
       "1392        1418    OH              29        415                Yes   \n",
       "1836        1862    OH             133        408                Yes   \n",
       "2568        2594    OH             115        510                Yes   \n",
       "2878        2904    OH             136        408                Yes   \n",
       "3183        3209    OH              68        415                Yes   \n",
       "\n",
       "     Voice mail plan  Number vmail messages  Total day minutes  \\\n",
       "3                 No                      0              299.4   \n",
       "205              Yes                     36              199.0   \n",
       "782              Yes                     16              143.5   \n",
       "1212             Yes                     24              219.9   \n",
       "1392             Yes                     37              235.0   \n",
       "1836              No                      0              254.7   \n",
       "2568              No                      0              345.3   \n",
       "2878              No                      0              183.4   \n",
       "3183             Yes                     24              125.7   \n",
       "\n",
       "      Total day calls  Total day charge  ...  Total night minutes  \\\n",
       "3                71.0             50.90  ...                196.9   \n",
       "205             110.0             33.83  ...                197.6   \n",
       "782              76.0             24.40  ...                147.7   \n",
       "1212            118.0             37.38  ...                352.5   \n",
       "1392            101.0             39.95  ...                139.8   \n",
       "1836            103.0             43.30  ...                178.1   \n",
       "2568             81.0             58.70  ...                217.5   \n",
       "2878            103.0             31.18  ...                200.4   \n",
       "3183             92.0             21.37  ...                214.5   \n",
       "\n",
       "      Total night calls  Total night charge  Total intl minutes  \\\n",
       "3                  89.0                8.86                 6.6   \n",
       "205                92.0                8.89                11.0   \n",
       "782                95.0                6.65                11.3   \n",
       "1212              111.0               15.86                 8.1   \n",
       "1392              106.0                6.29                 5.7   \n",
       "1836              103.0                8.01                 8.0   \n",
       "2568              107.0                9.79                11.8   \n",
       "2878              122.0                9.02                10.4   \n",
       "3183              108.0                9.65                14.2   \n",
       "\n",
       "      Total intl calls  Total intl charge  Customer service calls  Churn  \\\n",
       "3                    7               1.78                     2.0  False   \n",
       "205                  6               2.97                     1.0  False   \n",
       "782                  3               3.05                     0.0  False   \n",
       "1212                 4               2.19                     3.0  False   \n",
       "1392                 7               1.54                     2.0  False   \n",
       "1836                 3               2.16                     0.0   True   \n",
       "2568                 8               3.19                     1.0   True   \n",
       "2878                 9               2.81                     2.0  False   \n",
       "3183                 6               3.83                     3.0   True   \n",
       "\n",
       "      New Column  Churn Binary  \n",
       "3            100             0  \n",
       "205          100             0  \n",
       "782          100             0  \n",
       "1212         100             0  \n",
       "1392         100             0  \n",
       "1836         100             1  \n",
       "2568         100             1  \n",
       "2878         100             0  \n",
       "3183         100             1  \n",
       "\n",
       "[9 rows x 23 columns]"
      ]
     },
     "execution_count": 4,
     "metadata": {},
     "output_type": "execute_result"
    }
   ],
   "source": [
    "state_df = pd.read_csv(\"output.csv\")\n",
    "\n",
    "# Series of True/False\n",
    "state_df[\"State\"] == \"OH\"\n",
    "\n",
    "# multiple conditions\n",
    "state_df[(state_df[\"State\"] == \"OH\") & (state_df[\"International plan\"] == \"Yes\")]"
   ]
  },
  {
   "cell_type": "markdown",
   "id": "e6262e6d",
   "metadata": {},
   "source": [
    "## SQL like\n",
    "\n",
    "- `isin()`\n",
    "- `isnull(), notnull()`"
   ]
  },
  {
   "cell_type": "code",
   "execution_count": 5,
   "id": "c84728be",
   "metadata": {},
   "outputs": [
    {
     "data": {
      "text/plain": [
       "0       True\n",
       "1       True\n",
       "2       True\n",
       "3       True\n",
       "4       True\n",
       "        ... \n",
       "3302    True\n",
       "3303    True\n",
       "3304    True\n",
       "3305    True\n",
       "3306    True\n",
       "Name: State, Length: 3307, dtype: bool"
      ]
     },
     "execution_count": 5,
     "metadata": {},
     "output_type": "execute_result"
    }
   ],
   "source": [
    "state_df[\"State\"].isin([\"OH\", \"WV\"])\n",
    "state_df[\"State\"].notnull()\n",
    "\n",
    "# to exclude the undesire \n",
    "~state_df[\"State\"].isin([\"OH\", \"WV\"])"
   ]
  },
  {
   "cell_type": "markdown",
   "id": "69f517a0",
   "metadata": {},
   "source": [
    "# Indexing - loc, iloc\n",
    "\n",
    "You can look at file `2_1_iloc_loc_location_label.ipynb`\n",
    "\n",
    "pandas provides 2 accessors to retrieve the data. Pandas is **row-based**. Think the object as a list of rows.\n",
    "\n",
    "||col_1|col_2|\n",
    "|-|-|-|\n",
    "|32|1|2|\n",
    "|12|1|2|\n",
    "\n",
    "- `iloc[]` - select data based on its position, like the 1st, 2nd position\n",
    "- `loc[]` - select based on index\n",
    "\n",
    "**\"Square brackets\"**:\n",
    "\n",
    "`iloc[0]`: give us `[1, 2]`\n",
    "\n",
    "`loc[0]`: error; `loc[12]`: `[1, 2]`\n",
    "\n",
    "second argumenst specify the column name\n",
    "`df.loc[0, \"col_name\"]`"
   ]
  },
  {
   "cell_type": "code",
   "execution_count": 6,
   "id": "2d0e174e",
   "metadata": {},
   "outputs": [
    {
     "data": {
      "text/html": [
       "<div>\n",
       "<style scoped>\n",
       "    .dataframe tbody tr th:only-of-type {\n",
       "        vertical-align: middle;\n",
       "    }\n",
       "\n",
       "    .dataframe tbody tr th {\n",
       "        vertical-align: top;\n",
       "    }\n",
       "\n",
       "    .dataframe thead th {\n",
       "        text-align: right;\n",
       "    }\n",
       "</style>\n",
       "<table border=\"1\" class=\"dataframe\">\n",
       "  <thead>\n",
       "    <tr style=\"text-align: right;\">\n",
       "      <th></th>\n",
       "      <th>student_no</th>\n",
       "      <th>department</th>\n",
       "    </tr>\n",
       "  </thead>\n",
       "  <tbody>\n",
       "    <tr>\n",
       "      <th>1</th>\n",
       "      <td>0</td>\n",
       "      <td>computer</td>\n",
       "    </tr>\n",
       "    <tr>\n",
       "      <th>2</th>\n",
       "      <td>1</td>\n",
       "      <td>music</td>\n",
       "    </tr>\n",
       "    <tr>\n",
       "      <th>3</th>\n",
       "      <td>2</td>\n",
       "      <td>medical</td>\n",
       "    </tr>\n",
       "  </tbody>\n",
       "</table>\n",
       "</div>"
      ],
      "text/plain": [
       "   student_no department\n",
       "1           0   computer\n",
       "2           1      music\n",
       "3           2    medical"
      ]
     },
     "execution_count": 6,
     "metadata": {},
     "output_type": "execute_result"
    }
   ],
   "source": [
    "df = pd.read_csv(\"sample.csv\", index_col=1)\n",
    "df # pay attention to the df, index starts with 1"
   ]
  },
  {
   "cell_type": "code",
   "execution_count": 7,
   "id": "4175a826",
   "metadata": {},
   "outputs": [
    {
     "data": {
      "text/plain": [
       "'music'"
      ]
     },
     "execution_count": 7,
     "metadata": {},
     "output_type": "execute_result"
    }
   ],
   "source": [
    "# access the \"2nd\" row\n",
    "df.iloc[1]\n",
    "\n",
    "# access the value\n",
    "df.iloc[1, 1]"
   ]
  },
  {
   "cell_type": "code",
   "execution_count": 8,
   "id": "ea083b82",
   "metadata": {},
   "outputs": [
    {
     "data": {
      "text/plain": [
       "1    computer\n",
       "2       music\n",
       "3     medical\n",
       "Name: department, dtype: object"
      ]
     },
     "execution_count": 8,
     "metadata": {},
     "output_type": "execute_result"
    }
   ],
   "source": [
    "# access like python list\n",
    "# access all rows, with \"second\" column\n",
    "df.iloc[:, 1]"
   ]
  },
  {
   "cell_type": "code",
   "execution_count": 9,
   "id": "5c4d1aa3",
   "metadata": {},
   "outputs": [
    {
     "data": {
      "text/plain": [
       "'medical'"
      ]
     },
     "execution_count": 9,
     "metadata": {},
     "output_type": "execute_result"
    }
   ],
   "source": [
    "# negative index works\n",
    "df.iloc[-1, 1]"
   ]
  },
  {
   "cell_type": "code",
   "execution_count": 10,
   "id": "6b4c9ba7",
   "metadata": {},
   "outputs": [
    {
     "data": {
      "text/plain": [
       "student_no        1\n",
       "department    music\n",
       "Name: 2, dtype: object"
      ]
     },
     "execution_count": 10,
     "metadata": {},
     "output_type": "execute_result"
    }
   ],
   "source": [
    "# access by index\n",
    "df.loc[2]"
   ]
  },
  {
   "cell_type": "markdown",
   "id": "ff542e6b",
   "metadata": {},
   "source": [
    "## Setting index\n",
    "This is useful if you can come up with an index for the dataset which is better than the current one."
   ]
  },
  {
   "cell_type": "code",
   "execution_count": 11,
   "id": "eefc9824",
   "metadata": {},
   "outputs": [
    {
     "data": {
      "text/html": [
       "<div>\n",
       "<style scoped>\n",
       "    .dataframe tbody tr th:only-of-type {\n",
       "        vertical-align: middle;\n",
       "    }\n",
       "\n",
       "    .dataframe tbody tr th {\n",
       "        vertical-align: top;\n",
       "    }\n",
       "\n",
       "    .dataframe thead th {\n",
       "        text-align: right;\n",
       "    }\n",
       "</style>\n",
       "<table border=\"1\" class=\"dataframe\">\n",
       "  <thead>\n",
       "    <tr style=\"text-align: right;\">\n",
       "      <th></th>\n",
       "      <th>student_no</th>\n",
       "    </tr>\n",
       "    <tr>\n",
       "      <th>department</th>\n",
       "      <th></th>\n",
       "    </tr>\n",
       "  </thead>\n",
       "  <tbody>\n",
       "    <tr>\n",
       "      <th>computer</th>\n",
       "      <td>0</td>\n",
       "    </tr>\n",
       "    <tr>\n",
       "      <th>music</th>\n",
       "      <td>1</td>\n",
       "    </tr>\n",
       "    <tr>\n",
       "      <th>medical</th>\n",
       "      <td>2</td>\n",
       "    </tr>\n",
       "  </tbody>\n",
       "</table>\n",
       "</div>"
      ],
      "text/plain": [
       "            student_no\n",
       "department            \n",
       "computer             0\n",
       "music                1\n",
       "medical              2"
      ]
     },
     "execution_count": 11,
     "metadata": {},
     "output_type": "execute_result"
    }
   ],
   "source": [
    "df.set_index(\"department\")"
   ]
  },
  {
   "cell_type": "markdown",
   "id": "1ea6310d",
   "metadata": {},
   "source": [
    "# Assign"
   ]
  },
  {
   "cell_type": "markdown",
   "id": "46169d19",
   "metadata": {},
   "source": [
    "## Create new column\n",
    "\n",
    "Create a new column is easy. Assign the value to the column will do it."
   ]
  },
  {
   "cell_type": "code",
   "execution_count": 12,
   "id": "32dd5ba8",
   "metadata": {},
   "outputs": [
    {
     "data": {
      "text/html": [
       "<div>\n",
       "<style scoped>\n",
       "    .dataframe tbody tr th:only-of-type {\n",
       "        vertical-align: middle;\n",
       "    }\n",
       "\n",
       "    .dataframe tbody tr th {\n",
       "        vertical-align: top;\n",
       "    }\n",
       "\n",
       "    .dataframe thead th {\n",
       "        text-align: right;\n",
       "    }\n",
       "</style>\n",
       "<table border=\"1\" class=\"dataframe\">\n",
       "  <thead>\n",
       "    <tr style=\"text-align: right;\">\n",
       "      <th></th>\n",
       "      <th>student_no</th>\n",
       "      <th>department</th>\n",
       "      <th>location</th>\n",
       "    </tr>\n",
       "  </thead>\n",
       "  <tbody>\n",
       "    <tr>\n",
       "      <th>1</th>\n",
       "      <td>0</td>\n",
       "      <td>computer</td>\n",
       "      <td>Ireland</td>\n",
       "    </tr>\n",
       "    <tr>\n",
       "      <th>2</th>\n",
       "      <td>1</td>\n",
       "      <td>music</td>\n",
       "      <td>Ireland</td>\n",
       "    </tr>\n",
       "    <tr>\n",
       "      <th>3</th>\n",
       "      <td>2</td>\n",
       "      <td>medical</td>\n",
       "      <td>Ireland</td>\n",
       "    </tr>\n",
       "  </tbody>\n",
       "</table>\n",
       "</div>"
      ],
      "text/plain": [
       "   student_no department location\n",
       "1           0   computer  Ireland\n",
       "2           1      music  Ireland\n",
       "3           2    medical  Ireland"
      ]
     },
     "execution_count": 12,
     "metadata": {},
     "output_type": "execute_result"
    }
   ],
   "source": [
    "df[\"location\"] = \"Ireland\"\n",
    "df"
   ]
  },
  {
   "cell_type": "markdown",
   "id": "b1a0bfd5",
   "metadata": {},
   "source": [
    "You can offer an iterable too"
   ]
  },
  {
   "cell_type": "code",
   "execution_count": 13,
   "id": "14544267",
   "metadata": {},
   "outputs": [],
   "source": [
    "aList = [3, 5, 7]\n",
    "\n",
    "df[\"count\"] = aList"
   ]
  },
  {
   "cell_type": "code",
   "execution_count": 14,
   "id": "39bf9b27",
   "metadata": {},
   "outputs": [
    {
     "data": {
      "text/html": [
       "<div>\n",
       "<style scoped>\n",
       "    .dataframe tbody tr th:only-of-type {\n",
       "        vertical-align: middle;\n",
       "    }\n",
       "\n",
       "    .dataframe tbody tr th {\n",
       "        vertical-align: top;\n",
       "    }\n",
       "\n",
       "    .dataframe thead th {\n",
       "        text-align: right;\n",
       "    }\n",
       "</style>\n",
       "<table border=\"1\" class=\"dataframe\">\n",
       "  <thead>\n",
       "    <tr style=\"text-align: right;\">\n",
       "      <th></th>\n",
       "      <th>student_no</th>\n",
       "      <th>department</th>\n",
       "      <th>location</th>\n",
       "      <th>count</th>\n",
       "    </tr>\n",
       "  </thead>\n",
       "  <tbody>\n",
       "    <tr>\n",
       "      <th>1</th>\n",
       "      <td>0</td>\n",
       "      <td>computer</td>\n",
       "      <td>Ireland</td>\n",
       "      <td>3</td>\n",
       "    </tr>\n",
       "    <tr>\n",
       "      <th>2</th>\n",
       "      <td>1</td>\n",
       "      <td>music</td>\n",
       "      <td>Ireland</td>\n",
       "      <td>5</td>\n",
       "    </tr>\n",
       "    <tr>\n",
       "      <th>3</th>\n",
       "      <td>2</td>\n",
       "      <td>medical</td>\n",
       "      <td>Ireland</td>\n",
       "      <td>7</td>\n",
       "    </tr>\n",
       "  </tbody>\n",
       "</table>\n",
       "</div>"
      ],
      "text/plain": [
       "   student_no department location  count\n",
       "1           0   computer  Ireland      3\n",
       "2           1      music  Ireland      5\n",
       "3           2    medical  Ireland      7"
      ]
     },
     "execution_count": 14,
     "metadata": {},
     "output_type": "execute_result"
    }
   ],
   "source": [
    "df"
   ]
  },
  {
   "cell_type": "code",
   "execution_count": null,
   "id": "69bd8021",
   "metadata": {},
   "outputs": [],
   "source": []
  }
 ],
 "metadata": {
  "kernelspec": {
   "display_name": "Python 3 (ipykernel)",
   "language": "python",
   "name": "python3"
  },
  "language_info": {
   "codemirror_mode": {
    "name": "ipython",
    "version": 3
   },
   "file_extension": ".py",
   "mimetype": "text/x-python",
   "name": "python",
   "nbconvert_exporter": "python",
   "pygments_lexer": "ipython3",
   "version": "3.10.8"
  }
 },
 "nbformat": 4,
 "nbformat_minor": 5
}
