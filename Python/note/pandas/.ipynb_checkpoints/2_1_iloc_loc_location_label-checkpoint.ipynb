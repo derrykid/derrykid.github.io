{
 "cells": [
  {
   "cell_type": "markdown",
   "id": "8e7eded3-1210-4880-b5d1-a8bce6c290ba",
   "metadata": {},
   "source": [
    "[Stackoverflow](https://stackoverflow.com/a/31593712)\n",
    "\n",
    "# Label vs. Location\n",
    "\n",
    "The main difference between `iloc` and `loc` is\n",
    "\n",
    "- `loc` gets rows (and/or columns) with particular **labels**.\n",
    "- `iloc` gets rows (and/or columns) with particular **locations**."
   ]
  },
  {
   "cell_type": "code",
   "execution_count": 5,
   "id": "88587aa4-0936-4f4f-bc7d-408c668ea40a",
   "metadata": {},
   "outputs": [
    {
     "data": {
      "text/plain": [
       "49    a\n",
       "48    b\n",
       "47    c\n",
       "0     d\n",
       "1     e\n",
       "2     f\n",
       "dtype: object"
      ]
     },
     "execution_count": 5,
     "metadata": {},
     "output_type": "execute_result"
    }
   ],
   "source": [
    "import pandas as pd\n",
    "\n",
    "df = pd.Series(list(\"abcdef\"), index=[49, 48, 47, 0, 1, 2])\n",
    "df"
   ]
  },
  {
   "cell_type": "markdown",
   "id": "a7998eed-b2bf-4a36-b57d-2bca1270b438",
   "metadata": {},
   "source": [
    "Location of label"
   ]
  },
  {
   "cell_type": "code",
   "execution_count": 6,
   "id": "7f6f16bf-ccc6-4180-bfe1-a38acb7802b8",
   "metadata": {},
   "outputs": [
    {
     "data": {
      "text/plain": [
       "'d'"
      ]
     },
     "execution_count": 6,
     "metadata": {},
     "output_type": "execute_result"
    }
   ],
   "source": [
    "df.loc[0]"
   ]
  },
  {
   "cell_type": "markdown",
   "id": "3e3dcf01-5ff9-4880-9f67-5d8be3ac6fc7",
   "metadata": {},
   "source": [
    "Think as **index**"
   ]
  },
  {
   "cell_type": "code",
   "execution_count": 7,
   "id": "4f1174a2-cdfd-49a6-833c-d88d9b7c7c25",
   "metadata": {},
   "outputs": [
    {
     "data": {
      "text/plain": [
       "'a'"
      ]
     },
     "execution_count": 7,
     "metadata": {},
     "output_type": "execute_result"
    }
   ],
   "source": [
    "df.iloc[0]"
   ]
  },
  {
   "cell_type": "code",
   "execution_count": null,
   "id": "b17feb25-8302-4d6c-8c65-dccb884b6807",
   "metadata": {},
   "outputs": [],
   "source": []
  }
 ],
 "metadata": {
  "kernelspec": {
   "display_name": "Python 3 (ipykernel)",
   "language": "python",
   "name": "python3"
  },
  "language_info": {
   "codemirror_mode": {
    "name": "ipython",
    "version": 3
   },
   "file_extension": ".py",
   "mimetype": "text/x-python",
   "name": "python",
   "nbconvert_exporter": "python",
   "pygments_lexer": "ipython3",
   "version": "3.10.8"
  }
 },
 "nbformat": 4,
 "nbformat_minor": 5
}
