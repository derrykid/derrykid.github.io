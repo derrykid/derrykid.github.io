{
 "cells": [
  {
   "cell_type": "code",
   "execution_count": 1,
   "id": "3d72909c-2af3-44a6-9397-4de95e552ce9",
   "metadata": {},
   "outputs": [],
   "source": [
    "import pandas as pd"
   ]
  },
  {
   "cell_type": "markdown",
   "id": "01c51e02-8ab2-4dca-919d-2715f21eba29",
   "metadata": {},
   "source": [
    "# Series\n",
    "\n",
    "It's an object, similar to List in Python. \n",
    "It has attributes of:\n",
    "- index\n",
    "- name\n",
    "\n",
    "By passing one column name in dataframe, it returns a Series"
   ]
  },
  {
   "cell_type": "code",
   "execution_count": 2,
   "id": "f1120252-d329-4407-80bd-340f66486fe3",
   "metadata": {},
   "outputs": [],
   "source": [
    "df = pd.read_csv('sample.csv')\n",
    "departmentSeries = df['department']"
   ]
  },
  {
   "cell_type": "code",
   "execution_count": 3,
   "id": "070ba855-e7d4-4d51-b57a-4fc6957bf122",
   "metadata": {
    "tags": []
   },
   "outputs": [
    {
     "data": {
      "text/plain": [
       "0    computer\n",
       "1       music\n",
       "2     medical\n",
       "Name: department, dtype: object"
      ]
     },
     "execution_count": 3,
     "metadata": {},
     "output_type": "execute_result"
    }
   ],
   "source": [
    "departmentSeries"
   ]
  },
  {
   "cell_type": "markdown",
   "id": "2ced4cb3-aa01-44ce-b556-156487ce325a",
   "metadata": {},
   "source": [
    "You can fetch the attributes by following"
   ]
  },
  {
   "cell_type": "code",
   "execution_count": 4,
   "id": "7b7a48b9-026a-47f6-99cf-9fce1e6ce63d",
   "metadata": {},
   "outputs": [
    {
     "data": {
      "text/plain": [
       "RangeIndex(start=0, stop=3, step=1)"
      ]
     },
     "execution_count": 4,
     "metadata": {},
     "output_type": "execute_result"
    }
   ],
   "source": [
    "departmentSeries.index"
   ]
  },
  {
   "cell_type": "code",
   "execution_count": 5,
   "id": "7c03fcd7-29b7-49b8-b2a6-42ce1f6cfb67",
   "metadata": {},
   "outputs": [
    {
     "data": {
      "text/plain": [
       "'department'"
      ]
     },
     "execution_count": 5,
     "metadata": {},
     "output_type": "execute_result"
    }
   ],
   "source": [
    "departmentSeries.name"
   ]
  },
  {
   "cell_type": "markdown",
   "id": "a0864d8c-7e9b-4acf-bf85-99923772d071",
   "metadata": {},
   "source": [
    "## Read\n",
    "By passing the index"
   ]
  },
  {
   "cell_type": "code",
   "execution_count": 6,
   "id": "3f32142a-8808-4b4c-9015-f4549de0cec1",
   "metadata": {},
   "outputs": [
    {
     "data": {
      "text/plain": [
       "'computer'"
      ]
     },
     "execution_count": 6,
     "metadata": {},
     "output_type": "execute_result"
    }
   ],
   "source": [
    "departmentSeries[0]"
   ]
  },
  {
   "cell_type": "markdown",
   "id": "3542b7df-a114-4f80-9d78-bace8fdf02ef",
   "metadata": {},
   "source": [
    "### iterate"
   ]
  },
  {
   "cell_type": "markdown",
   "id": "ae37cf73-6359-4b61-95c9-8b767c04b52e",
   "metadata": {},
   "source": [
    "#### over every value"
   ]
  },
  {
   "cell_type": "code",
   "execution_count": 7,
   "id": "ebe27c5b-fc99-403e-ada6-28b1a77c2fe9",
   "metadata": {},
   "outputs": [
    {
     "name": "stdout",
     "output_type": "stream",
     "text": [
      "computer\n",
      "music\n",
      "medical\n"
     ]
    }
   ],
   "source": [
    "for item in departmentSeries:\n",
    "    print(item)"
   ]
  },
  {
   "cell_type": "markdown",
   "id": "eef1221f-12cb-41f7-b9cb-b3d27fcc9174",
   "metadata": {},
   "source": [
    "#### over every (index, value) pair\n",
    "\n",
    "By `items()`"
   ]
  },
  {
   "cell_type": "code",
   "execution_count": 8,
   "id": "614082b3-fbcd-4660-b4ef-84835943cccf",
   "metadata": {},
   "outputs": [
    {
     "name": "stdout",
     "output_type": "stream",
     "text": [
      "0 computer\n",
      "1 music\n",
      "2 medical\n"
     ]
    }
   ],
   "source": [
    "for index, value in departmentSeries.items():\n",
    "    print(index, value)"
   ]
  },
  {
   "cell_type": "markdown",
   "id": "e2e5f861-799b-486d-ad55-530fdf597229",
   "metadata": {},
   "source": [
    "### check if a value is in Series\n",
    "\n",
    "One cannot simply use `in` to test."
   ]
  },
  {
   "cell_type": "code",
   "execution_count": 9,
   "id": "a17fea58-0b38-45c6-97e8-41087ddf378c",
   "metadata": {},
   "outputs": [
    {
     "data": {
      "text/plain": [
       "False"
      ]
     },
     "execution_count": 9,
     "metadata": {},
     "output_type": "execute_result"
    }
   ],
   "source": [
    "'computer' in departmentSeries"
   ]
  },
  {
   "cell_type": "markdown",
   "id": "d661d62e-30f9-447e-bd46-715bccdd4cab",
   "metadata": {},
   "source": [
    "You must use `.values` to **create an narray**, then iterate"
   ]
  },
  {
   "cell_type": "code",
   "execution_count": 10,
   "id": "3e4b0bd0-ae51-4085-93e2-670d01f1687b",
   "metadata": {},
   "outputs": [
    {
     "data": {
      "text/plain": [
       "True"
      ]
     },
     "execution_count": 10,
     "metadata": {},
     "output_type": "execute_result"
    }
   ],
   "source": [
    "'computer' in departmentSeries.values"
   ]
  },
  {
   "cell_type": "markdown",
   "id": "ff500153-8147-43c0-bee8-2522776fa0ad",
   "metadata": {},
   "source": [
    "### `series.str` handling\n",
    "\n",
    "[Series handling](https://pandas.pydata.org/docs/reference/series.html#api-series-str)\n",
    "\n",
    "> Series.str can be used to access the values of the series as strings and apply several methods to it"
   ]
  },
  {
   "cell_type": "code",
   "execution_count": 11,
   "id": "cfa8f7b3-b4bb-48a1-bd65-cda43ec3d168",
   "metadata": {},
   "outputs": [
    {
     "data": {
      "text/plain": [
       "0    Computer\n",
       "1       Music\n",
       "2     Medical\n",
       "Name: department, dtype: object"
      ]
     },
     "execution_count": 11,
     "metadata": {},
     "output_type": "execute_result"
    }
   ],
   "source": [
    "df['department'].str.capitalize()"
   ]
  },
  {
   "cell_type": "markdown",
   "id": "b5d7b03b-fe1d-49e6-8376-dfca97adb87d",
   "metadata": {},
   "source": [
    "## Update"
   ]
  },
  {
   "cell_type": "markdown",
   "id": "586156f9-1313-41be-9785-856f8cbff6ea",
   "metadata": {},
   "source": [
    "Update by index"
   ]
  },
  {
   "cell_type": "code",
   "execution_count": 12,
   "id": "126771ea-4605-48ea-86d2-b9438bb4c884",
   "metadata": {},
   "outputs": [
    {
     "name": "stderr",
     "output_type": "stream",
     "text": [
      "/tmp/ipykernel_5171/1860361975.py:1: SettingWithCopyWarning: \n",
      "A value is trying to be set on a copy of a slice from a DataFrame\n",
      "\n",
      "See the caveats in the documentation: https://pandas.pydata.org/pandas-docs/stable/user_guide/indexing.html#returning-a-view-versus-a-copy\n",
      "  departmentSeries.iloc[1] = 'Music'\n"
     ]
    },
    {
     "data": {
      "text/plain": [
       "0    computer\n",
       "1       Music\n",
       "2     medical\n",
       "Name: department, dtype: object"
      ]
     },
     "execution_count": 12,
     "metadata": {},
     "output_type": "execute_result"
    }
   ],
   "source": [
    "departmentSeries.iloc[1] = 'Music'\n",
    "departmentSeries"
   ]
  },
  {
   "cell_type": "markdown",
   "id": "07e8268a-9072-4c63-acb5-a61095944035",
   "metadata": {},
   "source": [
    "## Filter\n",
    "\n",
    "It's common to filter/mask the data you want.\n",
    "\n",
    "1. Simply provide the condition in the series, then you will get an boolean array.\n",
    "2. pass that array to the dataframe, you will get new dataframe"
   ]
  },
  {
   "cell_type": "code",
   "execution_count": 13,
   "id": "d963fd78-27e4-431b-8038-8ab06248def6",
   "metadata": {},
   "outputs": [],
   "source": [
    "desired_numbers = (df['student_no'] == 101)"
   ]
  },
  {
   "cell_type": "code",
   "execution_count": 14,
   "id": "eb4d8cd4-4f74-440c-bedd-f3f59c17a35f",
   "metadata": {},
   "outputs": [
    {
     "data": {
      "text/html": [
       "<div>\n",
       "<style scoped>\n",
       "    .dataframe tbody tr th:only-of-type {\n",
       "        vertical-align: middle;\n",
       "    }\n",
       "\n",
       "    .dataframe tbody tr th {\n",
       "        vertical-align: top;\n",
       "    }\n",
       "\n",
       "    .dataframe thead th {\n",
       "        text-align: right;\n",
       "    }\n",
       "</style>\n",
       "<table border=\"1\" class=\"dataframe\">\n",
       "  <thead>\n",
       "    <tr style=\"text-align: right;\">\n",
       "      <th></th>\n",
       "      <th>student_no</th>\n",
       "      <th>department</th>\n",
       "    </tr>\n",
       "  </thead>\n",
       "  <tbody>\n",
       "  </tbody>\n",
       "</table>\n",
       "</div>"
      ],
      "text/plain": [
       "Empty DataFrame\n",
       "Columns: [student_no, department]\n",
       "Index: []"
      ]
     },
     "execution_count": 14,
     "metadata": {},
     "output_type": "execute_result"
    }
   ],
   "source": [
    "df[desired_numbers]"
   ]
  },
  {
   "cell_type": "markdown",
   "id": "992f4f60-01cb-46bb-af89-d378fe6bb4b2",
   "metadata": {},
   "source": [
    "More frequently, some make it more compact."
   ]
  },
  {
   "cell_type": "code",
   "execution_count": 15,
   "id": "40afd463-2866-47f7-951a-7b05869f918f",
   "metadata": {},
   "outputs": [
    {
     "data": {
      "text/html": [
       "<div>\n",
       "<style scoped>\n",
       "    .dataframe tbody tr th:only-of-type {\n",
       "        vertical-align: middle;\n",
       "    }\n",
       "\n",
       "    .dataframe tbody tr th {\n",
       "        vertical-align: top;\n",
       "    }\n",
       "\n",
       "    .dataframe thead th {\n",
       "        text-align: right;\n",
       "    }\n",
       "</style>\n",
       "<table border=\"1\" class=\"dataframe\">\n",
       "  <thead>\n",
       "    <tr style=\"text-align: right;\">\n",
       "      <th></th>\n",
       "      <th>student_no</th>\n",
       "      <th>department</th>\n",
       "    </tr>\n",
       "  </thead>\n",
       "  <tbody>\n",
       "  </tbody>\n",
       "</table>\n",
       "</div>"
      ],
      "text/plain": [
       "Empty DataFrame\n",
       "Columns: [student_no, department]\n",
       "Index: []"
      ]
     },
     "execution_count": 15,
     "metadata": {},
     "output_type": "execute_result"
    }
   ],
   "source": [
    "df[df['student_no'] == 101]"
   ]
  },
  {
   "cell_type": "markdown",
   "id": "e41ec514-1019-408c-aaa4-8f5e5d042406",
   "metadata": {},
   "source": [
    "### Get the unique item from a series"
   ]
  },
  {
   "cell_type": "code",
   "execution_count": 17,
   "id": "29a4975c-2f1d-49da-923e-f5a1fb58c6ed",
   "metadata": {},
   "outputs": [
    {
     "data": {
      "text/plain": [
       "array(['computer', 'Music', 'medical'], dtype=object)"
      ]
     },
     "execution_count": 17,
     "metadata": {},
     "output_type": "execute_result"
    }
   ],
   "source": [
    "df['department'].unique()"
   ]
  },
  {
   "cell_type": "code",
   "execution_count": null,
   "id": "c60f688d-1cb6-41fc-bd75-582c74f88bae",
   "metadata": {},
   "outputs": [],
   "source": []
  }
 ],
 "metadata": {
  "kernelspec": {
   "display_name": "Python 3 (ipykernel)",
   "language": "python",
   "name": "python3"
  },
  "language_info": {
   "codemirror_mode": {
    "name": "ipython",
    "version": 3
   },
   "file_extension": ".py",
   "mimetype": "text/x-python",
   "name": "python",
   "nbconvert_exporter": "python",
   "pygments_lexer": "ipython3",
   "version": "3.10.8"
  }
 },
 "nbformat": 4,
 "nbformat_minor": 5
}
