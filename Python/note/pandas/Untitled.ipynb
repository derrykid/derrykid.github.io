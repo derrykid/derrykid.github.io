{
 "cells": [
  {
   "cell_type": "markdown",
   "id": "ab8efad1-ddfc-40d4-9725-033456762964",
   "metadata": {},
   "source": [
    "[gist](https://gist.github.com/why-not/4582705)"
   ]
  },
  {
   "cell_type": "markdown",
   "id": "87f8a131-6bc7-437e-a54f-d8d7a56c86bd",
   "metadata": {},
   "source": [
    "# 創建 dataframe"
   ]
  },
  {
   "cell_type": "code",
   "execution_count": 1,
   "id": "8f6a961a-3c7a-44c4-b0e0-ff83c80f1b0a",
   "metadata": {},
   "outputs": [
    {
     "data": {
      "text/html": [
       "<div>\n",
       "<style scoped>\n",
       "    .dataframe tbody tr th:only-of-type {\n",
       "        vertical-align: middle;\n",
       "    }\n",
       "\n",
       "    .dataframe tbody tr th {\n",
       "        vertical-align: top;\n",
       "    }\n",
       "\n",
       "    .dataframe thead th {\n",
       "        text-align: right;\n",
       "    }\n",
       "</style>\n",
       "<table border=\"1\" class=\"dataframe\">\n",
       "  <thead>\n",
       "    <tr style=\"text-align: right;\">\n",
       "      <th></th>\n",
       "      <th>student_no</th>\n",
       "      <th>department</th>\n",
       "    </tr>\n",
       "  </thead>\n",
       "  <tbody>\n",
       "    <tr>\n",
       "      <th>0</th>\n",
       "      <td>1</td>\n",
       "      <td>computer|John</td>\n",
       "    </tr>\n",
       "    <tr>\n",
       "      <th>1</th>\n",
       "      <td>2</td>\n",
       "      <td>music|Jay</td>\n",
       "    </tr>\n",
       "    <tr>\n",
       "      <th>2</th>\n",
       "      <td>3</td>\n",
       "      <td>medical|Mary</td>\n",
       "    </tr>\n",
       "  </tbody>\n",
       "</table>\n",
       "</div>"
      ],
      "text/plain": [
       "   student_no     department\n",
       "0           1  computer|John\n",
       "1           2      music|Jay\n",
       "2           3   medical|Mary"
      ]
     },
     "execution_count": 1,
     "metadata": {},
     "output_type": "execute_result"
    }
   ],
   "source": [
    "import pandas as pd\n",
    "\n",
    "dataframe = pd.read_csv(\"data/sample.csv\")\n",
    "        # pd.read_excel('tmp.xlsx')\n",
    "dataframe"
   ]
  },
  {
   "cell_type": "code",
   "execution_count": 22,
   "id": "51e4adec-1962-46dc-a2a9-2fb0d21458c0",
   "metadata": {},
   "outputs": [
    {
     "data": {
      "text/plain": [
       "pandas.core.frame.DataFrame"
      ]
     },
     "execution_count": 22,
     "metadata": {},
     "output_type": "execute_result"
    }
   ],
   "source": [
    "type(dataframe)"
   ]
  },
  {
   "cell_type": "markdown",
   "id": "47679bbc-0c17-43bf-9eba-7681e69e3df4",
   "metadata": {},
   "source": [
    "# 操控 dataframe"
   ]
  },
  {
   "cell_type": "code",
   "execution_count": 23,
   "id": "95264287-f485-4318-8353-99a53eed10b7",
   "metadata": {},
   "outputs": [
    {
     "data": {
      "text/plain": [
       "0    computer\n",
       "1       music\n",
       "2     medical\n",
       "Name: department, dtype: object"
      ]
     },
     "execution_count": 23,
     "metadata": {},
     "output_type": "execute_result"
    }
   ],
   "source": [
    "dataframe['department']"
   ]
  },
  {
   "cell_type": "code",
   "execution_count": 24,
   "id": "cd69d0a5-6873-4875-8f67-5b1e0f77fb6c",
   "metadata": {},
   "outputs": [
    {
     "data": {
      "text/plain": [
       "pandas.core.series.Series"
      ]
     },
     "execution_count": 24,
     "metadata": {},
     "output_type": "execute_result"
    }
   ],
   "source": [
    "type(dataframe['department'])"
   ]
  },
  {
   "cell_type": "code",
   "execution_count": 27,
   "id": "f9410391-0cca-430d-83d3-58b8e33967c7",
   "metadata": {},
   "outputs": [
    {
     "data": {
      "text/plain": [
       "'computer'"
      ]
     },
     "execution_count": 27,
     "metadata": {},
     "output_type": "execute_result"
    }
   ],
   "source": [
    "# list-lie\n",
    "dataframe['department'][0]"
   ]
  },
  {
   "cell_type": "markdown",
   "id": "f8607d89-e749-408a-aba2-be1a4f080f8c",
   "metadata": {},
   "source": [
    "# 資料篩選"
   ]
  },
  {
   "cell_type": "code",
   "execution_count": 28,
   "id": "e420bb76-3d3f-4e70-9b1f-02cd301792a8",
   "metadata": {},
   "outputs": [
    {
     "data": {
      "text/html": [
       "<div>\n",
       "<style scoped>\n",
       "    .dataframe tbody tr th:only-of-type {\n",
       "        vertical-align: middle;\n",
       "    }\n",
       "\n",
       "    .dataframe tbody tr th {\n",
       "        vertical-align: top;\n",
       "    }\n",
       "\n",
       "    .dataframe thead th {\n",
       "        text-align: right;\n",
       "    }\n",
       "</style>\n",
       "<table border=\"1\" class=\"dataframe\">\n",
       "  <thead>\n",
       "    <tr style=\"text-align: right;\">\n",
       "      <th></th>\n",
       "      <th>student_no</th>\n",
       "      <th>department</th>\n",
       "    </tr>\n",
       "  </thead>\n",
       "  <tbody>\n",
       "    <tr>\n",
       "      <th>0</th>\n",
       "      <td>1</td>\n",
       "      <td>computer</td>\n",
       "    </tr>\n",
       "  </tbody>\n",
       "</table>\n",
       "</div>"
      ],
      "text/plain": [
       "   student_no department\n",
       "0           1   computer"
      ]
     },
     "execution_count": 28,
     "metadata": {},
     "output_type": "execute_result"
    }
   ],
   "source": [
    "dataframe[   dataframe['student_no'] == 1   ]\n",
    "\n",
    "# select ... where"
   ]
  },
  {
   "cell_type": "code",
   "execution_count": 29,
   "id": "2c65ffe4-1715-4490-a948-685f5cb39ad4",
   "metadata": {},
   "outputs": [],
   "source": [
    "bools = dataframe['student_no'] == 1"
   ]
  },
  {
   "cell_type": "code",
   "execution_count": 30,
   "id": "a62e7be9-c6d2-4aa3-be47-181542580e49",
   "metadata": {},
   "outputs": [
    {
     "data": {
      "text/plain": [
       "0     True\n",
       "1    False\n",
       "2    False\n",
       "Name: student_no, dtype: bool"
      ]
     },
     "execution_count": 30,
     "metadata": {},
     "output_type": "execute_result"
    }
   ],
   "source": [
    "bools"
   ]
  },
  {
   "cell_type": "code",
   "execution_count": 31,
   "id": "ed4fa779-700b-4a7e-b352-e0df48a96756",
   "metadata": {},
   "outputs": [
    {
     "data": {
      "text/html": [
       "<div>\n",
       "<style scoped>\n",
       "    .dataframe tbody tr th:only-of-type {\n",
       "        vertical-align: middle;\n",
       "    }\n",
       "\n",
       "    .dataframe tbody tr th {\n",
       "        vertical-align: top;\n",
       "    }\n",
       "\n",
       "    .dataframe thead th {\n",
       "        text-align: right;\n",
       "    }\n",
       "</style>\n",
       "<table border=\"1\" class=\"dataframe\">\n",
       "  <thead>\n",
       "    <tr style=\"text-align: right;\">\n",
       "      <th></th>\n",
       "      <th>student_no</th>\n",
       "      <th>department</th>\n",
       "    </tr>\n",
       "  </thead>\n",
       "  <tbody>\n",
       "    <tr>\n",
       "      <th>0</th>\n",
       "      <td>1</td>\n",
       "      <td>computer</td>\n",
       "    </tr>\n",
       "  </tbody>\n",
       "</table>\n",
       "</div>"
      ],
      "text/plain": [
       "   student_no department\n",
       "0           1   computer"
      ]
     },
     "execution_count": 31,
     "metadata": {},
     "output_type": "execute_result"
    }
   ],
   "source": [
    "dataframe[bools]"
   ]
  },
  {
   "cell_type": "code",
   "execution_count": 2,
   "id": "482f23a0-39d4-4e6d-9729-5b47b7270394",
   "metadata": {},
   "outputs": [
    {
     "data": {
      "text/html": [
       "<div>\n",
       "<style scoped>\n",
       "    .dataframe tbody tr th:only-of-type {\n",
       "        vertical-align: middle;\n",
       "    }\n",
       "\n",
       "    .dataframe tbody tr th {\n",
       "        vertical-align: top;\n",
       "    }\n",
       "\n",
       "    .dataframe thead th {\n",
       "        text-align: right;\n",
       "    }\n",
       "</style>\n",
       "<table border=\"1\" class=\"dataframe\">\n",
       "  <thead>\n",
       "    <tr style=\"text-align: right;\">\n",
       "      <th></th>\n",
       "      <th>student_no</th>\n",
       "      <th>department</th>\n",
       "    </tr>\n",
       "  </thead>\n",
       "  <tbody>\n",
       "    <tr>\n",
       "      <th>0</th>\n",
       "      <td>1</td>\n",
       "      <td>computer|John</td>\n",
       "    </tr>\n",
       "    <tr>\n",
       "      <th>1</th>\n",
       "      <td>2</td>\n",
       "      <td>music|Jay</td>\n",
       "    </tr>\n",
       "    <tr>\n",
       "      <th>2</th>\n",
       "      <td>3</td>\n",
       "      <td>medical|Mary</td>\n",
       "    </tr>\n",
       "  </tbody>\n",
       "</table>\n",
       "</div>"
      ],
      "text/plain": [
       "   student_no     department\n",
       "0           1  computer|John\n",
       "1           2      music|Jay\n",
       "2           3   medical|Mary"
      ]
     },
     "execution_count": 2,
     "metadata": {},
     "output_type": "execute_result"
    }
   ],
   "source": [
    "df = dataframe\n",
    "df"
   ]
  },
  {
   "cell_type": "code",
   "execution_count": 6,
   "id": "d0ca6b53-fd9b-4b47-97da-140b4abb2076",
   "metadata": {},
   "outputs": [
    {
     "data": {
      "text/html": [
       "<div>\n",
       "<style scoped>\n",
       "    .dataframe tbody tr th:only-of-type {\n",
       "        vertical-align: middle;\n",
       "    }\n",
       "\n",
       "    .dataframe tbody tr th {\n",
       "        vertical-align: top;\n",
       "    }\n",
       "\n",
       "    .dataframe thead th {\n",
       "        text-align: right;\n",
       "    }\n",
       "</style>\n",
       "<table border=\"1\" class=\"dataframe\">\n",
       "  <thead>\n",
       "    <tr style=\"text-align: right;\">\n",
       "      <th></th>\n",
       "      <th>student_no</th>\n",
       "      <th>department</th>\n",
       "      <th>dep</th>\n",
       "      <th>name</th>\n",
       "    </tr>\n",
       "  </thead>\n",
       "  <tbody>\n",
       "    <tr>\n",
       "      <th>0</th>\n",
       "      <td>1</td>\n",
       "      <td>computer|John</td>\n",
       "      <td>computer</td>\n",
       "      <td>John</td>\n",
       "    </tr>\n",
       "    <tr>\n",
       "      <th>1</th>\n",
       "      <td>2</td>\n",
       "      <td>music|Jay</td>\n",
       "      <td>music</td>\n",
       "      <td>Jay</td>\n",
       "    </tr>\n",
       "    <tr>\n",
       "      <th>2</th>\n",
       "      <td>3</td>\n",
       "      <td>medical|Mary</td>\n",
       "      <td>medical</td>\n",
       "      <td>Mary</td>\n",
       "    </tr>\n",
       "  </tbody>\n",
       "</table>\n",
       "</div>"
      ],
      "text/plain": [
       "   student_no     department       dep  name\n",
       "0           1  computer|John  computer  John\n",
       "1           2      music|Jay     music   Jay\n",
       "2           3   medical|Mary   medical  Mary"
      ]
     },
     "execution_count": 6,
     "metadata": {},
     "output_type": "execute_result"
    }
   ],
   "source": [
    "def calc(string):\n",
    "    return string.split(\"|\")\n",
    "\n",
    "df['dep'], df['name'] = zip(*df['department'].map(calc))\n",
    "df"
   ]
  },
  {
   "cell_type": "code",
   "execution_count": 30,
   "id": "e12fc00d-584c-44a8-b47b-59e13b1986f2",
   "metadata": {},
   "outputs": [],
   "source": [
    "a = ['Wigan', 'Stoke', 'Bolton', 'West Brom', 'West Ham', 'Aston Villa',\n",
    "       'Arsenal', 'Fulham', 'Manchester Utd', 'Hull', 'Sunderland',\n",
    "       'Blackburn', 'Everton', 'Chelsea', 'Newcastle', 'Middlesbrough',\n",
    "       'Liverpool', 'Portsmouth', 'Tottenham', 'Manchester City', 'Derby',\n",
    "       'Birmingham', 'Reading', 'Wolves', 'Burnley', 'Blackpool',\n",
    "       'Swansea', 'QPR', 'Norwich', 'Southampton', 'Cardiff',\n",
    "       'Crystal Palace', 'Leicester', 'Bournemouth', 'Watford',\n",
    "       'Huddersfield', 'Brighton', 'Sheffield Utd', 'Leeds', 'Brentford']\n",
    "\n"
   ]
  },
  {
   "cell_type": "code",
   "execution_count": 31,
   "id": "87326cf9-d52e-437d-90ac-e14314e8d85c",
   "metadata": {},
   "outputs": [
    {
     "data": {
      "text/plain": [
       "40"
      ]
     },
     "execution_count": 31,
     "metadata": {},
     "output_type": "execute_result"
    }
   ],
   "source": [
    "len(a)"
   ]
  },
  {
   "cell_type": "code",
   "execution_count": null,
   "id": "0189f737-6afd-426f-9c4c-8614ee033e6b",
   "metadata": {},
   "outputs": [],
   "source": []
  }
 ],
 "metadata": {
  "kernelspec": {
   "display_name": "Python 3 (ipykernel)",
   "language": "python",
   "name": "python3"
  },
  "language_info": {
   "codemirror_mode": {
    "name": "ipython",
    "version": 3
   },
   "file_extension": ".py",
   "mimetype": "text/x-python",
   "name": "python",
   "nbconvert_exporter": "python",
   "pygments_lexer": "ipython3",
   "version": "3.10.8"
  }
 },
 "nbformat": 4,
 "nbformat_minor": 5
}
