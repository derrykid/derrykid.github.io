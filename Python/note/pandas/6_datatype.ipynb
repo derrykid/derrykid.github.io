{
 "cells": [
  {
   "cell_type": "code",
   "execution_count": 1,
   "id": "c36abe77-ca44-4377-9dcc-a79dbb885962",
   "metadata": {},
   "outputs": [],
   "source": [
    "import pandas as pd\n",
    "\n",
    "df = pd.read_csv('data/sample.csv')"
   ]
  },
  {
   "cell_type": "markdown",
   "id": "66d6e5aa-26d7-4aef-822e-385faa11a8f7",
   "metadata": {},
   "source": [
    "# Data types"
   ]
  },
  {
   "cell_type": "code",
   "execution_count": 2,
   "id": "3ecb9967-2466-41d2-b411-0fc372eedbf3",
   "metadata": {},
   "outputs": [
    {
     "data": {
      "text/plain": [
       "student_no     int64\n",
       "department    object\n",
       "dtype: object"
      ]
     },
     "execution_count": 2,
     "metadata": {},
     "output_type": "execute_result"
    }
   ],
   "source": [
    "# a Series shows every column types\n",
    "df.dtypes"
   ]
  },
  {
   "cell_type": "code",
   "execution_count": 3,
   "id": "e392394a-725b-450d-b724-8c693ef89d91",
   "metadata": {},
   "outputs": [
    {
     "data": {
      "text/plain": [
       "dtype('int64')"
      ]
     },
     "execution_count": 3,
     "metadata": {},
     "output_type": "execute_result"
    }
   ],
   "source": [
    "# or specify a column\n",
    "df['student_no'].dtype"
   ]
  },
  {
   "cell_type": "markdown",
   "id": "65dc5283-0016-45ad-adee-c84a4b5f5906",
   "metadata": {},
   "source": [
    "One peculiarity to keep in mind (and on display very clearly here) is that columns consisting entirely of strings do not get their own type; they are instead given the object type."
   ]
  },
  {
   "cell_type": "code",
   "execution_count": 4,
   "id": "be0472ee-9aaa-4707-8ea8-777f86d41c61",
   "metadata": {},
   "outputs": [
    {
     "data": {
      "text/plain": [
       "dtype('O')"
      ]
     },
     "execution_count": 4,
     "metadata": {},
     "output_type": "execute_result"
    }
   ],
   "source": [
    "df['department'].dtype"
   ]
  },
  {
   "cell_type": "code",
   "execution_count": 5,
   "id": "95d8af96-123b-4c97-bfa1-671c4f56af6b",
   "metadata": {},
   "outputs": [
    {
     "data": {
      "text/plain": [
       "Int64Index([0, 1, 2], dtype='int64')"
      ]
     },
     "execution_count": 5,
     "metadata": {},
     "output_type": "execute_result"
    }
   ],
   "source": [
    "# index has type as well\n",
    "df.index"
   ]
  },
  {
   "cell_type": "markdown",
   "id": "5782de84-296e-4164-a614-c172db241c4c",
   "metadata": {},
   "source": [
    "# Convert dtype to another"
   ]
  },
  {
   "cell_type": "code",
   "execution_count": 6,
   "id": "06e310e6-ab5c-4773-b6a1-56815c659424",
   "metadata": {},
   "outputs": [
    {
     "data": {
      "text/plain": [
       "0    True\n",
       "1    True\n",
       "2    True\n",
       "Name: student_no, dtype: bool"
      ]
     },
     "execution_count": 6,
     "metadata": {},
     "output_type": "execute_result"
    }
   ],
   "source": [
    "# both works\n",
    "df['student_no'].astype(float) == df['student_no'].astype('float') "
   ]
  },
  {
   "cell_type": "code",
   "execution_count": null,
   "id": "0fe36d1e-929c-4fb6-b709-0e1a47959357",
   "metadata": {},
   "outputs": [],
   "source": []
  },
  {
   "cell_type": "code",
   "execution_count": null,
   "id": "5e6afa54-a918-4bf6-9d26-3e9fdc1f7f0c",
   "metadata": {},
   "outputs": [],
   "source": []
  }
 ],
 "metadata": {
  "kernelspec": {
   "display_name": "Python 3 (ipykernel)",
   "language": "python",
   "name": "python3"
  },
  "language_info": {
   "codemirror_mode": {
    "name": "ipython",
    "version": 3
   },
   "file_extension": ".py",
   "mimetype": "text/x-python",
   "name": "python",
   "nbconvert_exporter": "python",
   "pygments_lexer": "ipython3",
   "version": "3.10.8"
  }
 },
 "nbformat": 4,
 "nbformat_minor": 5
}
