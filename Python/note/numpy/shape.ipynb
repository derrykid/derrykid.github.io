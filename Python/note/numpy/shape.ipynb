{
 "cells": [
  {
   "cell_type": "code",
   "execution_count": 8,
   "id": "a2d1d398-542e-416c-b76b-3a72802c84a9",
   "metadata": {},
   "outputs": [],
   "source": [
    "import numpy as np"
   ]
  },
  {
   "cell_type": "markdown",
   "id": "4f1dec4c-fe19-4a18-a0d9-87e811c1950c",
   "metadata": {},
   "source": [
    "NumPy uses **row-major indexing**\n",
    "\n",
    "For 1D array: `row`.\n",
    "\n",
    "For 2D array it's `row-column`. \n",
    "\n",
    "For 3D it is `depth-row-column`\n",
    "\n",
    "For 4D it's `something-something-row-column`\n",
    "\n",
    "`np.shape` returns a tuple that describes your ndarray"
   ]
  },
  {
   "cell_type": "code",
   "execution_count": 40,
   "id": "4a65048c-2fb3-42d4-95dd-2b7f1cf780ac",
   "metadata": {},
   "outputs": [
    {
     "data": {
      "text/plain": [
       "(3,)"
      ]
     },
     "execution_count": 40,
     "metadata": {},
     "output_type": "execute_result"
    }
   ],
   "source": [
    "# 1d\n",
    "one_d = np.array([2, 2, 3])\n",
    "one_d.shape"
   ]
  },
  {
   "cell_type": "markdown",
   "id": "aeb91400-6242-428b-8a74-3f14e334898e",
   "metadata": {},
   "source": [
    "## Numpy dimensions"
   ]
  },
  {
   "cell_type": "markdown",
   "id": "62a08459-7a74-454b-9893-962e0b99919b",
   "metadata": {},
   "source": [
    "Image, standing infront of a big drawer, a drawer that contains many boxes.\n",
    "\n",
    "1-d array will be: the drawer in front of you, has index tag on it, open it, there's nothing.\n",
    "\n",
    "2-d array: you open the first drawer: there are something inside. The items are *toy, cup, candy*.\n",
    "\n",
    "Then you open the second drawer: items are *glass, headset, sticky notes*.\n",
    "\n",
    "Now if we represent it as a 2-d array:"
   ]
  },
  {
   "cell_type": "markdown",
   "id": "98d62fb7-bae9-455d-9e5a-47a734e2e7fe",
   "metadata": {},
   "source": [
    "## 2D array"
   ]
  },
  {
   "cell_type": "code",
   "execution_count": 38,
   "id": "48ed9f56-b462-409f-b292-3117227c991e",
   "metadata": {},
   "outputs": [],
   "source": [
    "drawer = [  [\"toy\", \"cup\", \"candy\"], \n",
    "            [\"glass\", \"headset\", \"sticky notes\"]  ]"
   ]
  },
  {
   "cell_type": "markdown",
   "id": "e30e39a4-997d-4645-acd3-925a5ee37c51",
   "metadata": {},
   "source": [
    "When we open the first drawer:"
   ]
  },
  {
   "cell_type": "code",
   "execution_count": 39,
   "id": "fe019b65-3332-4223-828e-6796be8de65c",
   "metadata": {},
   "outputs": [
    {
     "data": {
      "text/plain": [
       "['toy', 'cup', 'candy']"
      ]
     },
     "execution_count": 39,
     "metadata": {},
     "output_type": "execute_result"
    }
   ],
   "source": [
    "drawer[0]"
   ]
  },
  {
   "cell_type": "markdown",
   "id": "49cd960a-03d5-41f1-bf14-aedfcd8c7f77",
   "metadata": {},
   "source": [
    "get the first drawer, the second item"
   ]
  },
  {
   "cell_type": "code",
   "execution_count": 37,
   "id": "635a6755-1776-4b75-b186-514b7131834b",
   "metadata": {},
   "outputs": [
    {
     "data": {
      "text/plain": [
       "'cup'"
      ]
     },
     "execution_count": 37,
     "metadata": {},
     "output_type": "execute_result"
    }
   ],
   "source": [
    "drawer[0][1]"
   ]
  },
  {
   "cell_type": "code",
   "execution_count": 41,
   "id": "43fd10a4-cc22-4091-b2d4-32a5d6003465",
   "metadata": {},
   "outputs": [
    {
     "name": "stdout",
     "output_type": "stream",
     "text": [
      "(2, 3)\n"
     ]
    },
    {
     "data": {
      "text/plain": [
       "array([[1, 2, 3],\n",
       "       [7, 8, 9]])"
      ]
     },
     "execution_count": 41,
     "metadata": {},
     "output_type": "execute_result"
    }
   ],
   "source": [
    "two_d = np.array([[1, 2, 3],\n",
    "                  [7, 8, 9]])\n",
    "print(two_d.shape)\n",
    "two_d"
   ]
  },
  {
   "cell_type": "markdown",
   "id": "7d76e3b4-ded9-492e-a4ac-8812731e4227",
   "metadata": {
    "tags": []
   },
   "source": [
    "## 3d array\n",
    "\n",
    "From 3D array and above, it's different. Now it is: `depth-row-column`\n",
    "\n",
    "Imagine this file cabinet:\n",
    "\n",
    "![File cabinet](https://encrypted-tbn3.gstatic.com/shopping?q=tbn:ANd9GcRO8J8xSuuR_wtSF74GgofKpxePBjBHlxkQTIMFyZJu-x_fpHMI9yyvFcRNoVj0Td-A5LKzQHGXnhHKddHwExUUa9k1z67HoDn7Ugya414enGL_RbWRAUquyCk&usqp=CAE)\n",
    "\n",
    "And there are extra depth inside this, like this:\n",
    "\n",
    "![drawer inside file cabinet](https://encrypted-tbn3.gstatic.com/shopping?q=tbn:ANd9GcTDlXvUbKyWlJi7_eaVCn0Kv9dARAcSE0Ssru_avRiB4OfHLP7gI1mGuxbvRQtCHO0PYuDbJ1NK4eJapNbyjRVmpV2PK1-cx2sJ6ARhv0I&usqp=CAE)\n",
    "\n",
    "So, we can think of it as: we have a huge drawer, it has 2 huge boxes, that is depth 2. \n",
    "\n",
    "We open it, there are another 4 boxes, that is 4 rows. \n",
    "\n",
    "Then inside that, we have our *toy, cup, candy*. That are 3 columns.\n",
    "\n",
    "So it is: `depth-row-column`: `(2, 4, 3)`"
   ]
  },
  {
   "cell_type": "markdown",
   "id": "6baf3723-6919-43e3-9ad3-353f76439619",
   "metadata": {},
   "source": [
    "Now, numpy 3d array: `depth-row-column`:"
   ]
  },
  {
   "cell_type": "code",
   "execution_count": 45,
   "id": "c9d99704-9503-4074-a50c-70d6b01c59d4",
   "metadata": {},
   "outputs": [
    {
     "name": "stdout",
     "output_type": "stream",
     "text": [
      "depth-row-column (2, 3, 4)\n"
     ]
    }
   ],
   "source": [
    "three_d = np.array([\n",
    "                    [[1., 2., 3., 4.],\n",
    "                     [5., 6., 7., 8.],\n",
    "                     [9., 10., 11., 12.]],\n",
    "\n",
    "                     [[-1., -2., -3., -4.],\n",
    "                     [-5., -6., -7., -8.],\n",
    "                     [-8., -10., -11., -12.]]\n",
    "                   ])\n",
    "print(\"depth-row-column\", three_d.shape)"
   ]
  },
  {
   "cell_type": "code",
   "execution_count": 46,
   "id": "1f5fbf63-5f32-491f-b834-b29edc53518f",
   "metadata": {},
   "outputs": [
    {
     "data": {
      "text/plain": [
       "-10.0"
      ]
     },
     "execution_count": 46,
     "metadata": {},
     "output_type": "execute_result"
    }
   ],
   "source": [
    "three_d[1][2][1]"
   ]
  },
  {
   "cell_type": "code",
   "execution_count": null,
   "id": "cd419e66-9400-474d-bd36-7c85b14f43ed",
   "metadata": {},
   "outputs": [],
   "source": []
  }
 ],
 "metadata": {
  "kernelspec": {
   "display_name": "Python 3 (ipykernel)",
   "language": "python",
   "name": "python3"
  },
  "language_info": {
   "codemirror_mode": {
    "name": "ipython",
    "version": 3
   },
   "file_extension": ".py",
   "mimetype": "text/x-python",
   "name": "python",
   "nbconvert_exporter": "python",
   "pygments_lexer": "ipython3",
   "version": "3.10.8"
  }
 },
 "nbformat": 4,
 "nbformat_minor": 5
}
