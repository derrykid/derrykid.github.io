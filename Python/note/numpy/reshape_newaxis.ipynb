{
 "cells": [
  {
   "cell_type": "code",
   "execution_count": 1,
   "id": "dc880320-11dc-46a7-bbee-7fc20b2c3021",
   "metadata": {},
   "outputs": [],
   "source": [
    "import numpy as np"
   ]
  },
  {
   "cell_type": "markdown",
   "id": "a6adf8cb-ce4b-45c1-a972-5b00aa1ac275",
   "metadata": {
    "tags": []
   },
   "source": [
    "# Reshaping of arrays\n",
    "\n",
    "> Note that for this to work, the size of the initial array must match the size of the reshaped array. Where possible, the reshape method will use a no-copy view of the initial array"
   ]
  },
  {
   "cell_type": "code",
   "execution_count": 2,
   "id": "a6bbb413-8879-4d4f-8609-3c2e13d4dda1",
   "metadata": {},
   "outputs": [
    {
     "data": {
      "text/plain": [
       "array([[1, 2, 3],\n",
       "       [4, 5, 6],\n",
       "       [7, 8, 9]])"
      ]
     },
     "execution_count": 2,
     "metadata": {},
     "output_type": "execute_result"
    }
   ],
   "source": [
    "grid = np.arange(1, 10)\n",
    "grid_reshape = grid.reshape((3, 3))\n",
    "grid_reshape"
   ]
  },
  {
   "cell_type": "code",
   "execution_count": 3,
   "id": "1822d2b9-ce50-44ea-aac3-30edc8821d20",
   "metadata": {},
   "outputs": [
    {
     "data": {
      "text/plain": [
       "array([[1, 2, 3]])"
      ]
     },
     "execution_count": 3,
     "metadata": {},
     "output_type": "execute_result"
    }
   ],
   "source": [
    "x = np.array([1, 2, 3])\n",
    "x = x.reshape((1, 3))\n",
    "x"
   ]
  },
  {
   "cell_type": "code",
   "execution_count": 4,
   "id": "b2c624cc-49fb-4edf-b277-ce9d696f4c8b",
   "metadata": {},
   "outputs": [
    {
     "data": {
      "text/plain": [
       "(1, 3)"
      ]
     },
     "execution_count": 4,
     "metadata": {},
     "output_type": "execute_result"
    }
   ],
   "source": [
    "x.shape"
   ]
  },
  {
   "cell_type": "markdown",
   "id": "5cb4ff8f-fd98-4679-954c-4039cf99539d",
   "metadata": {},
   "source": [
    "## `reshape(-1, 1)` : from 1 dimension to 2 dimensions"
   ]
  },
  {
   "cell_type": "code",
   "execution_count": 9,
   "id": "c73d3876-cc35-439a-ae58-db83336e0058",
   "metadata": {},
   "outputs": [
    {
     "name": "stdout",
     "output_type": "stream",
     "text": [
      "(10,)\n",
      "[0 1 2 3 4 5 6 7 8 9]\n"
     ]
    }
   ],
   "source": [
    "x = np.arange(10)\n",
    "print(x.shape)\n",
    "print(x)"
   ]
  },
  {
   "cell_type": "code",
   "execution_count": 10,
   "id": "8e862b5b-7c2e-4211-8753-6d924fd19c2d",
   "metadata": {},
   "outputs": [
    {
     "name": "stdout",
     "output_type": "stream",
     "text": [
      "(10, 1)\n",
      "[[0]\n",
      " [1]\n",
      " [2]\n",
      " [3]\n",
      " [4]\n",
      " [5]\n",
      " [6]\n",
      " [7]\n",
      " [8]\n",
      " [9]]\n"
     ]
    }
   ],
   "source": [
    "x = x.reshape(-1, 1)\n",
    "print(x.shape)\n",
    "print(x)"
   ]
  },
  {
   "cell_type": "markdown",
   "id": "9cef982a-ebbe-4bfb-a75f-eb558cc769bb",
   "metadata": {},
   "source": [
    "# `np.newaxis`"
   ]
  },
  {
   "cell_type": "markdown",
   "id": "c4bea60a-31d1-442d-a93a-7c78d74c691c",
   "metadata": {},
   "source": [
    "Another way to reshape is `np.newaxis`\n",
    "\n",
    "[stackoverflow](https://stackoverflow.com/questions/29241056/how-do-i-use-np-newaxis)\n",
    "\n",
    "![numpy newaxis](https://i.stack.imgur.com/zkMBy.png)"
   ]
  },
  {
   "cell_type": "code",
   "execution_count": 7,
   "id": "5dc3f85d-a95b-483a-be41-9bd7ae262195",
   "metadata": {},
   "outputs": [
    {
     "data": {
      "text/plain": [
       "array([[[ 0],\n",
       "        [ 1],\n",
       "        [ 2],\n",
       "        [ 3],\n",
       "        [ 4],\n",
       "        [ 5],\n",
       "        [ 6],\n",
       "        [ 7],\n",
       "        [ 8],\n",
       "        [ 9],\n",
       "        [10],\n",
       "        [11],\n",
       "        [12],\n",
       "        [13],\n",
       "        [14],\n",
       "        [15],\n",
       "        [16],\n",
       "        [17],\n",
       "        [18],\n",
       "        [19],\n",
       "        [20],\n",
       "        [21],\n",
       "        [22],\n",
       "        [23],\n",
       "        [24],\n",
       "        [25],\n",
       "        [26],\n",
       "        [27],\n",
       "        [28],\n",
       "        [29]]])"
      ]
     },
     "execution_count": 7,
     "metadata": {},
     "output_type": "execute_result"
    }
   ],
   "source": [
    "x[np.newaxis, :]"
   ]
  },
  {
   "cell_type": "code",
   "execution_count": null,
   "id": "4eeff65c-d262-4f05-8bb4-3d1186bf0783",
   "metadata": {
    "tags": []
   },
   "outputs": [],
   "source": [
    "x[:, np.newaxis]"
   ]
  }
 ],
 "metadata": {
  "kernelspec": {
   "display_name": "Python 3 (ipykernel)",
   "language": "python",
   "name": "python3"
  },
  "language_info": {
   "codemirror_mode": {
    "name": "ipython",
    "version": 3
   },
   "file_extension": ".py",
   "mimetype": "text/x-python",
   "name": "python",
   "nbconvert_exporter": "python",
   "pygments_lexer": "ipython3",
   "version": "3.10.8"
  }
 },
 "nbformat": 4,
 "nbformat_minor": 5
}
