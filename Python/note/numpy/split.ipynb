{
 "cells": [
  {
   "cell_type": "code",
   "execution_count": 1,
   "id": "d73d949d-1bcf-49d1-9b15-2b79d1094b3f",
   "metadata": {},
   "outputs": [],
   "source": [
    "import numpy as np"
   ]
  },
  {
   "cell_type": "markdown",
   "id": "edb29a0c-d2ce-43b0-9f41-d9212df26de8",
   "metadata": {},
   "source": [
    "# Splitting of arrays"
   ]
  },
  {
   "cell_type": "markdown",
   "id": "5a040496-710f-4a57-84ab-5342e4471d5b",
   "metadata": {},
   "source": [
    "The below splits the array into 3 variables"
   ]
  },
  {
   "cell_type": "code",
   "execution_count": 2,
   "id": "4853e7f7-1f4b-4cd7-86dc-7411a736bd4d",
   "metadata": {},
   "outputs": [
    {
     "name": "stdout",
     "output_type": "stream",
     "text": [
      "[1 2 3] [99 99] [3 2 1]\n"
     ]
    }
   ],
   "source": [
    "x = [1, 2, 3, 99, 99, 3, 2, 1]\n",
    "x1, x2, x3 = np.split(x, [3, 5])\n",
    "print(x1, x2, x3)"
   ]
  },
  {
   "cell_type": "code",
   "execution_count": 3,
   "id": "c5f0954f-38fd-4299-840d-bb5ba449b836",
   "metadata": {},
   "outputs": [
    {
     "data": {
      "text/plain": [
       "array([[ 0,  1,  2,  3],\n",
       "       [ 4,  5,  6,  7],\n",
       "       [ 8,  9, 10, 11],\n",
       "       [12, 13, 14, 15]])"
      ]
     },
     "execution_count": 3,
     "metadata": {},
     "output_type": "execute_result"
    }
   ],
   "source": [
    "grid = np.arange(16).reshape((4, 4))\n",
    "grid"
   ]
  },
  {
   "cell_type": "code",
   "execution_count": 4,
   "id": "238aaa39-ca21-4536-8816-7bdd9db9b7a0",
   "metadata": {},
   "outputs": [
    {
     "name": "stdout",
     "output_type": "stream",
     "text": [
      "[[0 1 2 3]\n",
      " [4 5 6 7]]\n",
      "[[ 8  9 10 11]\n",
      " [12 13 14 15]]\n"
     ]
    }
   ],
   "source": [
    "upper, lower = np.vsplit(grid, [2])\n",
    "print(upper)\n",
    "print(lower)"
   ]
  },
  {
   "cell_type": "code",
   "execution_count": 5,
   "id": "e36650d1-306f-45f5-9844-b4a6eef84458",
   "metadata": {},
   "outputs": [
    {
     "name": "stdout",
     "output_type": "stream",
     "text": [
      "[[ 0  1]\n",
      " [ 4  5]\n",
      " [ 8  9]\n",
      " [12 13]]\n",
      "[[ 2  3]\n",
      " [ 6  7]\n",
      " [10 11]\n",
      " [14 15]]\n"
     ]
    }
   ],
   "source": [
    "left, right = np.hsplit(grid, [2])\n",
    "print(left)\n",
    "print(right)"
   ]
  },
  {
   "cell_type": "markdown",
   "id": "65a9a319-3927-48de-b49d-bbe0d5e25ce8",
   "metadata": {
    "tags": []
   },
   "source": [
    "### The slice is Not-a-copy - modification takes place\n",
    "\n",
    ">The value actually changes if you modify\n",
    "\n",
    "Use `copy()` to create a copy"
   ]
  },
  {
   "cell_type": "code",
   "execution_count": 6,
   "id": "91b18d63-f485-44b1-82e3-f33957df6e2e",
   "metadata": {},
   "outputs": [],
   "source": [
    "x = np.array([1, 3, 5])\n",
    "subX = x[:2]\n",
    "subX[0] = 99"
   ]
  },
  {
   "cell_type": "code",
   "execution_count": 7,
   "id": "1807209d-a8f1-4d52-bb40-b6d30632c0d4",
   "metadata": {},
   "outputs": [
    {
     "data": {
      "text/plain": [
       "array([99,  3,  5])"
      ]
     },
     "execution_count": 7,
     "metadata": {},
     "output_type": "execute_result"
    }
   ],
   "source": [
    "x"
   ]
  },
  {
   "cell_type": "markdown",
   "id": "771bae10-d786-4da4-be30-bae5c4dedc70",
   "metadata": {},
   "source": [
    "For Python list, the slicing subarray does not change!"
   ]
  },
  {
   "cell_type": "code",
   "execution_count": 8,
   "id": "8d32f3e6-c1ff-47bb-91ae-d8eb0b5f0627",
   "metadata": {},
   "outputs": [
    {
     "data": {
      "text/plain": [
       "[-33]"
      ]
     },
     "execution_count": 8,
     "metadata": {},
     "output_type": "execute_result"
    }
   ],
   "source": [
    "pythonList = [1, 3, 6]\n",
    "secondList = pythonList[:1]\n",
    "secondList[0] = -33\n",
    "secondList"
   ]
  },
  {
   "cell_type": "code",
   "execution_count": 9,
   "id": "78d8587a-1338-482f-84ad-ca2f243c2839",
   "metadata": {
    "jupyter": {
     "source_hidden": true
    },
    "tags": []
   },
   "outputs": [
    {
     "data": {
      "text/plain": [
       "[1, 3, 6]"
      ]
     },
     "execution_count": 9,
     "metadata": {},
     "output_type": "execute_result"
    }
   ],
   "source": [
    "pythonList"
   ]
  }
 ],
 "metadata": {
  "kernelspec": {
   "display_name": "Python 3 (ipykernel)",
   "language": "python",
   "name": "python3"
  },
  "language_info": {
   "codemirror_mode": {
    "name": "ipython",
    "version": 3
   },
   "file_extension": ".py",
   "mimetype": "text/x-python",
   "name": "python",
   "nbconvert_exporter": "python",
   "pygments_lexer": "ipython3",
   "version": "3.10.8"
  }
 },
 "nbformat": 4,
 "nbformat_minor": 5
}
