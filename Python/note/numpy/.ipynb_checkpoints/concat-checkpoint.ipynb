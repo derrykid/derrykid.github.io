{
 "cells": [
  {
   "cell_type": "code",
   "execution_count": 1,
   "id": "5ef02c85-1c0c-41e5-9d77-5e7381f1744f",
   "metadata": {},
   "outputs": [],
   "source": [
    "import numpy as np"
   ]
  },
  {
   "cell_type": "markdown",
   "id": "24a4b2c5-c6b5-48ea-82e6-4d47d5089443",
   "metadata": {},
   "source": [
    "### `np.concatenate(*args)`\n",
    "\n",
    "You can concatenate as many as you want by passing the arrays.\n",
    "For 1d array, the elements length doesn't matter.\n",
    "For 2d+ array, the number of elements must match."
   ]
  },
  {
   "cell_type": "code",
   "execution_count": 2,
   "id": "66408fca-31b0-40d5-a52a-b8a537beb830",
   "metadata": {
    "tags": []
   },
   "outputs": [
    {
     "data": {
      "text/plain": [
       "array([1, 2, 3, 6, 7, 2, 3, 8, 3, 3, 3, 3, 3, 3])"
      ]
     },
     "execution_count": 2,
     "metadata": {},
     "output_type": "execute_result"
    }
   ],
   "source": [
    "x = np.array([1, 2, 3])\n",
    "y = np.array([6, 7, 2, 3, 8])\n",
    "z = np.array([3, 3, 3, 3, 3, 3])\n",
    "np.concatenate([x, y, z])"
   ]
  },
  {
   "cell_type": "markdown",
   "id": "d8e8b88f-873d-4e6c-8685-1ffa988bc77f",
   "metadata": {},
   "source": [
    "#### Concatenate 2d array"
   ]
  },
  {
   "cell_type": "code",
   "execution_count": 3,
   "id": "26cdc335-cc48-480b-a274-56af8a50d3ea",
   "metadata": {},
   "outputs": [],
   "source": [
    "x = np.array([[1, 3, 5],\n",
    "              [7, 8, 9]])\n",
    "y = np.array([[-1, -3, -5],\n",
    "              [-2, -12, -52]])"
   ]
  },
  {
   "cell_type": "code",
   "execution_count": 4,
   "id": "06924bcb-19f2-418d-a556-98ae4f1a1c48",
   "metadata": {},
   "outputs": [
    {
     "data": {
      "text/plain": [
       "array([[  1,   3,   5],\n",
       "       [  7,   8,   9],\n",
       "       [ -1,  -3,  -5],\n",
       "       [ -2, -12, -52]])"
      ]
     },
     "execution_count": 4,
     "metadata": {},
     "output_type": "execute_result"
    }
   ],
   "source": [
    "np.concatenate([x, y])"
   ]
  },
  {
   "cell_type": "markdown",
   "id": "f366891d-bf06-4705-b61c-6aae32083a7f",
   "metadata": {},
   "source": [
    "This concatenation seems like you **append your array to it**."
   ]
  },
  {
   "cell_type": "markdown",
   "id": "f1be488a-1b2c-493d-88b7-415c2261fb56",
   "metadata": {},
   "source": [
    "This code snippet, instead, specify `axis=1`. \n",
    "*Default is `axis=0`*.\n",
    "It concatenates the first axist."
   ]
  },
  {
   "cell_type": "code",
   "execution_count": 5,
   "id": "26382101-5131-4c6e-add8-a4be103fbab8",
   "metadata": {},
   "outputs": [
    {
     "data": {
      "text/plain": [
       "array([[  1,   3,   5,  -1,  -3,  -5],\n",
       "       [  7,   8,   9,  -2, -12, -52]])"
      ]
     },
     "execution_count": 5,
     "metadata": {},
     "output_type": "execute_result"
    }
   ],
   "source": [
    "np.concatenate([x, y], axis=1)"
   ]
  },
  {
   "cell_type": "markdown",
   "id": "a42324a0-b449-44b0-b81f-a73bbf9b4dd4",
   "metadata": {},
   "source": [
    "#### Concatenate mixed dimensions array"
   ]
  },
  {
   "cell_type": "code",
   "execution_count": 6,
   "id": "fa643251-0081-4c3e-bad5-c70461c7f28f",
   "metadata": {},
   "outputs": [],
   "source": [
    "x = np.array([1, 2, 3])\n",
    "grid = np.array([[-1, -2, -5],\n",
    "                 [-4, -5, -1]])"
   ]
  },
  {
   "cell_type": "markdown",
   "id": "af1640a2-ccc1-4b9f-9c5e-257d42bd26dd",
   "metadata": {},
   "source": [
    "vertically stack the arrays"
   ]
  },
  {
   "cell_type": "code",
   "execution_count": 7,
   "id": "0322a8e0-1d21-4ff6-b966-ec745b2b0436",
   "metadata": {},
   "outputs": [
    {
     "data": {
      "text/plain": [
       "array([[ 1,  2,  3],\n",
       "       [-1, -2, -5],\n",
       "       [-4, -5, -1]])"
      ]
     },
     "execution_count": 7,
     "metadata": {},
     "output_type": "execute_result"
    }
   ],
   "source": [
    "np.vstack([x, grid])"
   ]
  },
  {
   "cell_type": "markdown",
   "id": "052e810e-3981-4924-a5bb-c2c91a9a5fa0",
   "metadata": {},
   "source": [
    "horizontally stack the arrays"
   ]
  },
  {
   "cell_type": "code",
   "execution_count": 8,
   "id": "811d8c23-448b-424c-957f-341b8cc6f379",
   "metadata": {
    "tags": []
   },
   "outputs": [
    {
     "data": {
      "text/plain": [
       "array([[-1, -2, -5, 10],\n",
       "       [-4, -5, -1, 83]])"
      ]
     },
     "execution_count": 8,
     "metadata": {},
     "output_type": "execute_result"
    }
   ],
   "source": [
    "y = np.array([[10], [83]])\n",
    "np.hstack([grid, y])"
   ]
  },
  {
   "cell_type": "markdown",
   "id": "30d5f007-6437-48d8-b62e-91aa7b2a0a97",
   "metadata": {},
   "source": [
    "# concat 2 arrays\n",
    "\n",
    "[concat two 1d array to a 2d array](https://stackoverflow.com/questions/17710672/create-a-two-dimensional-array-with-two-one-dimensional-arrays#:~:text=If%20you%20wish%20to%20combine,T%20will%20do%20it.)"
   ]
  },
  {
   "cell_type": "code",
   "execution_count": 9,
   "id": "34cad65c-0bad-4684-82cb-a0d8411f681c",
   "metadata": {},
   "outputs": [
    {
     "data": {
      "text/plain": [
       "array([[ 6.04841274,  9.0846043 ],\n",
       "       [ 9.29087897, 25.96066855],\n",
       "       [ 5.455203  , 30.20572841],\n",
       "       [12.33947964, 26.81771178],\n",
       "       [ 3.16446376, 31.7349186 ],\n",
       "       [ 9.43776564, 41.44045359],\n",
       "       [12.63582039, 40.48339439],\n",
       "       [ 5.72868549, 31.23078088],\n",
       "       [19.4883197 ,  9.44455438],\n",
       "       [11.48502295, 16.28739009]])"
      ]
     },
     "execution_count": 9,
     "metadata": {},
     "output_type": "execute_result"
    }
   ],
   "source": [
    "x_1 = np.absolute(np.random.randn(10) * 10)\n",
    "x_2 = np.absolute(np.random.randn(10) * 30)\n",
    "\n",
    "np.vstack((x_1, x_2)).T"
   ]
  },
  {
   "cell_type": "code",
   "execution_count": null,
   "id": "f76d9e95-8ffa-4e32-af76-f560aff4f056",
   "metadata": {},
   "outputs": [],
   "source": []
  }
 ],
 "metadata": {
  "kernelspec": {
   "display_name": "Python 3 (ipykernel)",
   "language": "python",
   "name": "python3"
  },
  "language_info": {
   "codemirror_mode": {
    "name": "ipython",
    "version": 3
   },
   "file_extension": ".py",
   "mimetype": "text/x-python",
   "name": "python",
   "nbconvert_exporter": "python",
   "pygments_lexer": "ipython3",
   "version": "3.10.8"
  }
 },
 "nbformat": 4,
 "nbformat_minor": 5
}
