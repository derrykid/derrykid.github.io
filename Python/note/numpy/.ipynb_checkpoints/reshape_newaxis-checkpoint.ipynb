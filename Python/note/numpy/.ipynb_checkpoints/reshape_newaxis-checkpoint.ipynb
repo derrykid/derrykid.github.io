{
 "cells": [
  {
   "cell_type": "code",
   "execution_count": 1,
   "id": "dc880320-11dc-46a7-bbee-7fc20b2c3021",
   "metadata": {},
   "outputs": [],
   "source": [
    "import numpy as np"
   ]
  },
  {
   "cell_type": "markdown",
   "id": "a6adf8cb-ce4b-45c1-a972-5b00aa1ac275",
   "metadata": {
    "tags": []
   },
   "source": [
    "# Reshaping of arrays\n",
    "\n",
    "> Note that for this to work, the size of the initial array must match the size of the reshaped array. Where possible, the reshape method will use a no-copy view of the initial array"
   ]
  },
  {
   "cell_type": "code",
   "execution_count": 2,
   "id": "a6bbb413-8879-4d4f-8609-3c2e13d4dda1",
   "metadata": {},
   "outputs": [
    {
     "data": {
      "text/plain": [
       "array([[1, 2, 3],\n",
       "       [4, 5, 6],\n",
       "       [7, 8, 9]])"
      ]
     },
     "execution_count": 2,
     "metadata": {},
     "output_type": "execute_result"
    }
   ],
   "source": [
    "grid = np.arange(1, 10)\n",
    "grid_reshape = grid.reshape((3, 3))\n",
    "grid_reshape"
   ]
  },
  {
   "cell_type": "code",
   "execution_count": 3,
   "id": "1822d2b9-ce50-44ea-aac3-30edc8821d20",
   "metadata": {},
   "outputs": [
    {
     "data": {
      "text/plain": [
       "array([[1, 2, 3]])"
      ]
     },
     "execution_count": 3,
     "metadata": {},
     "output_type": "execute_result"
    }
   ],
   "source": [
    "x = np.array([1, 2, 3])\n",
    "x.reshape((1, 3))  # this does not re-assign to x. \n",
    "                   # so this is a view"
   ]
  },
  {
   "cell_type": "markdown",
   "id": "c4bea60a-31d1-442d-a93a-7c78d74c691c",
   "metadata": {},
   "source": [
    "Another way to reshape is `np.newaxis`\n",
    "\n",
    "[stackoverflow](https://stackoverflow.com/questions/29241056/how-do-i-use-np-newaxis)\n",
    "\n",
    "![numpy newaxis](https://i.stack.imgur.com/zkMBy.png)"
   ]
  },
  {
   "cell_type": "code",
   "execution_count": 4,
   "id": "5dc3f85d-a95b-483a-be41-9bd7ae262195",
   "metadata": {},
   "outputs": [
    {
     "data": {
      "text/plain": [
       "array([[1, 2, 3]])"
      ]
     },
     "execution_count": 4,
     "metadata": {},
     "output_type": "execute_result"
    }
   ],
   "source": [
    "x[np.newaxis, :]"
   ]
  },
  {
   "cell_type": "code",
   "execution_count": 5,
   "id": "e06b394c-a694-4de7-b486-01b08e1912f3",
   "metadata": {},
   "outputs": [
    {
     "data": {
      "text/plain": [
       "array([[1],\n",
       "       [2],\n",
       "       [3]])"
      ]
     },
     "execution_count": 5,
     "metadata": {},
     "output_type": "execute_result"
    }
   ],
   "source": [
    "x.reshape((3, 1))"
   ]
  },
  {
   "cell_type": "code",
   "execution_count": 6,
   "id": "4eeff65c-d262-4f05-8bb4-3d1186bf0783",
   "metadata": {
    "tags": []
   },
   "outputs": [
    {
     "data": {
      "text/plain": [
       "array([[1],\n",
       "       [2],\n",
       "       [3]])"
      ]
     },
     "execution_count": 6,
     "metadata": {},
     "output_type": "execute_result"
    }
   ],
   "source": [
    "x[:, np.newaxis]"
   ]
  }
 ],
 "metadata": {
  "kernelspec": {
   "display_name": "Python 3 (ipykernel)",
   "language": "python",
   "name": "python3"
  },
  "language_info": {
   "codemirror_mode": {
    "name": "ipython",
    "version": 3
   },
   "file_extension": ".py",
   "mimetype": "text/x-python",
   "name": "python",
   "nbconvert_exporter": "python",
   "pygments_lexer": "ipython3",
   "version": "3.10.8"
  }
 },
 "nbformat": 4,
 "nbformat_minor": 5
}
