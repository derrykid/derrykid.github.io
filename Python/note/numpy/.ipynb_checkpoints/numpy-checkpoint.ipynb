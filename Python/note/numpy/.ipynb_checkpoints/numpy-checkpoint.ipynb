{
 "cells": [
  {
   "cell_type": "markdown",
   "id": "ce6e6a89-5e43-4980-8cf7-a26ef70f9ace",
   "metadata": {},
   "source": [
    ">`Numpy` is the core library for scientific computing in Python. It provides a high-performance multidimensional array object, and tools for working with these arrays."
   ]
  },
  {
   "cell_type": "code",
   "execution_count": 2,
   "id": "e2f6c719-ddd9-4814-851b-945a82d390de",
   "metadata": {},
   "outputs": [],
   "source": [
    "import numpy as np"
   ]
  },
  {
   "cell_type": "markdown",
   "id": "87a06e7d-359e-4dca-82f8-e87fd76adf51",
   "metadata": {},
   "source": [
    "## Arrays\n",
    "A numpy array is a grid of values. It’s all the same type.\n",
    "\n",
    "It’s indexed by a tuple of non-negative integers."
   ]
  },
  {
   "cell_type": "markdown",
   "id": "f3f64dc6-293e-4948-b08e-7cde24cdd66f",
   "metadata": {},
   "source": [
    "## Create a numpy array"
   ]
  },
  {
   "cell_type": "markdown",
   "id": "4bf432d5-352d-4129-943b-e089a8657e5c",
   "metadata": {},
   "source": [
    "- np.array()"
   ]
  },
  {
   "cell_type": "code",
   "execution_count": 3,
   "id": "050198b2-cfb6-4ca3-96d2-544b12d89880",
   "metadata": {},
   "outputs": [
    {
     "data": {
      "text/plain": [
       "2"
      ]
     },
     "execution_count": 3,
     "metadata": {},
     "output_type": "execute_result"
    }
   ],
   "source": [
    "a = np.array([1, 2, 3])\n",
    "a[1]"
   ]
  },
  {
   "cell_type": "markdown",
   "id": "f8167c10-403e-4984-bfd2-1d3af8e4b3e7",
   "metadata": {},
   "source": [
    "- `np.arange(start, end_exclude, step)`"
   ]
  },
  {
   "cell_type": "code",
   "execution_count": 5,
   "id": "30378b1f-96d2-44d0-b788-8a630e96cf21",
   "metadata": {},
   "outputs": [
    {
     "data": {
      "text/plain": [
       "array([1, 3, 5, 7, 9])"
      ]
     },
     "execution_count": 5,
     "metadata": {},
     "output_type": "execute_result"
    }
   ],
   "source": [
    "# 3 param\n",
    "x = np.arange(1, 10, 2)\n",
    "x"
   ]
  },
  {
   "cell_type": "markdown",
   "id": "1e4882ce-7570-4676-88a8-2965739f4088",
   "metadata": {},
   "source": [
    "- `np.linspace(start, end, num)` "
   ]
  },
  {
   "cell_type": "code",
   "execution_count": 6,
   "id": "9e8942aa-8dfb-4a84-94b4-b5221cafb287",
   "metadata": {},
   "outputs": [
    {
     "data": {
      "text/plain": [
       "array([0. , 2.5, 5. ])"
      ]
     },
     "execution_count": 6,
     "metadata": {},
     "output_type": "execute_result"
    }
   ],
   "source": [
    "np.linspace(0, 5, 3)"
   ]
  },
  {
   "cell_type": "markdown",
   "id": "b5842fb4-09fd-4aaf-b0df-35add965cf3d",
   "metadata": {},
   "source": [
    "### Access the array element\n",
    "\n",
    "2 ways to access the element"
   ]
  },
  {
   "cell_type": "code",
   "execution_count": 6,
   "id": "d92e0607-d342-4f46-940d-5c06768ba057",
   "metadata": {},
   "outputs": [
    {
     "data": {
      "text/plain": [
       "4"
      ]
     },
     "execution_count": 6,
     "metadata": {},
     "output_type": "execute_result"
    }
   ],
   "source": [
    "arr = np.array([[0, 0, 0],\n",
    "                [2, 2, 2],\n",
    "                [4, 4, 4]])\n",
    "arr[2][2]"
   ]
  },
  {
   "cell_type": "code",
   "execution_count": 7,
   "id": "123d2570-1725-4dce-bc35-7edad51e0d2b",
   "metadata": {},
   "outputs": [
    {
     "data": {
      "text/plain": [
       "4"
      ]
     },
     "execution_count": 7,
     "metadata": {},
     "output_type": "execute_result"
    }
   ],
   "source": [
    "arr[2, 2]"
   ]
  },
  {
   "cell_type": "markdown",
   "id": "122ff501-cd97-4e43-ba9f-e0d3b7020e9c",
   "metadata": {},
   "source": [
    "## Attributes"
   ]
  },
  {
   "cell_type": "markdown",
   "id": "87043059-36af-46fa-9dc3-9916c1178a90",
   "metadata": {},
   "source": [
    "3 dimensions array example"
   ]
  },
  {
   "cell_type": "code",
   "execution_count": 8,
   "id": "3bb3a0d6-4f2c-495f-9e1d-60cd1468b2e2",
   "metadata": {},
   "outputs": [
    {
     "data": {
      "text/plain": [
       "array([[[9, 9, 7, 5],\n",
       "        [6, 0, 4, 3],\n",
       "        [7, 5, 9, 4]],\n",
       "\n",
       "       [[0, 8, 6, 5],\n",
       "        [8, 2, 4, 8],\n",
       "        [0, 6, 9, 8]]])"
      ]
     },
     "execution_count": 8,
     "metadata": {},
     "output_type": "execute_result"
    }
   ],
   "source": [
    "x = np.random.randint(10, size=(2, 3, 4))\n",
    "x"
   ]
  },
  {
   "cell_type": "code",
   "execution_count": 9,
   "id": "c97006c0-f7da-40f4-a162-e0605da2e30a",
   "metadata": {},
   "outputs": [
    {
     "data": {
      "text/plain": [
       "dtype('int64')"
      ]
     },
     "execution_count": 9,
     "metadata": {},
     "output_type": "execute_result"
    }
   ],
   "source": [
    "x.dtype"
   ]
  },
  {
   "cell_type": "code",
   "execution_count": 10,
   "id": "e5100a05-e457-4c55-b5ec-37091fe66de9",
   "metadata": {},
   "outputs": [
    {
     "data": {
      "text/plain": [
       "3"
      ]
     },
     "execution_count": 10,
     "metadata": {},
     "output_type": "execute_result"
    }
   ],
   "source": [
    "x.ndim"
   ]
  },
  {
   "cell_type": "code",
   "execution_count": 11,
   "id": "1acfd338-a90d-420e-9451-020de3cae3a0",
   "metadata": {},
   "outputs": [
    {
     "data": {
      "text/plain": [
       "(2, 3, 4)"
      ]
     },
     "execution_count": 11,
     "metadata": {},
     "output_type": "execute_result"
    }
   ],
   "source": [
    "x.shape"
   ]
  },
  {
   "cell_type": "code",
   "execution_count": 12,
   "id": "ead48a83-da9a-4d88-8c47-1dc4f0920a68",
   "metadata": {},
   "outputs": [
    {
     "data": {
      "text/plain": [
       "24"
      ]
     },
     "execution_count": 12,
     "metadata": {},
     "output_type": "execute_result"
    }
   ],
   "source": [
    "x.size"
   ]
  },
  {
   "cell_type": "markdown",
   "id": "1ca66ca3-fc3e-4cfa-a360-c8913828a178",
   "metadata": {
    "tags": []
   },
   "source": [
    "### Array slicing: accessing subarrays\n",
    "\n",
    "Syntax\n",
    "`x[start:end:step]`\n",
    "If any of these are unspecified, defaults are:\n",
    "`x[0,stop=size of dimension, step=1]`"
   ]
  },
  {
   "cell_type": "code",
   "execution_count": 17,
   "id": "eec463b4-5749-4f62-bc45-9d0e9dcbc110",
   "metadata": {},
   "outputs": [],
   "source": [
    "x = np.arange(10)"
   ]
  },
  {
   "cell_type": "code",
   "execution_count": 19,
   "id": "d5dae413-f07f-43ed-9aa2-2b9906819107",
   "metadata": {},
   "outputs": [
    {
     "data": {
      "text/plain": [
       "array([0, 1, 2, 3, 4])"
      ]
     },
     "execution_count": 19,
     "metadata": {},
     "output_type": "execute_result"
    }
   ],
   "source": [
    "x[:5]"
   ]
  },
  {
   "cell_type": "code",
   "execution_count": 20,
   "id": "ad8b8e95-ff7b-4a6e-83cc-b2feb089d7d0",
   "metadata": {},
   "outputs": [
    {
     "data": {
      "text/plain": [
       "array([5, 6, 7, 8, 9])"
      ]
     },
     "execution_count": 20,
     "metadata": {},
     "output_type": "execute_result"
    }
   ],
   "source": [
    "x[5:]"
   ]
  },
  {
   "cell_type": "code",
   "execution_count": 21,
   "id": "d9106c8d-1407-4113-bddc-34e068e5c61f",
   "metadata": {},
   "outputs": [
    {
     "data": {
      "text/plain": [
       "array([2, 3])"
      ]
     },
     "execution_count": 21,
     "metadata": {},
     "output_type": "execute_result"
    }
   ],
   "source": [
    "x[2:4]"
   ]
  },
  {
   "cell_type": "code",
   "execution_count": 22,
   "id": "15aac5e6-ff71-4641-94c7-9ad6e99b7181",
   "metadata": {},
   "outputs": [
    {
     "data": {
      "text/plain": [
       "array([0, 2, 4, 6, 8])"
      ]
     },
     "execution_count": 22,
     "metadata": {},
     "output_type": "execute_result"
    }
   ],
   "source": [
    "x[::2] # with step 2: every other element"
   ]
  },
  {
   "cell_type": "code",
   "execution_count": 23,
   "id": "2a270475-2f14-4173-bc8e-0de381a58730",
   "metadata": {},
   "outputs": [
    {
     "data": {
      "text/plain": [
       "array([1, 3, 5, 7, 9])"
      ]
     },
     "execution_count": 23,
     "metadata": {},
     "output_type": "execute_result"
    }
   ],
   "source": [
    "x[1::2] # start with 1, every other element"
   ]
  },
  {
   "cell_type": "markdown",
   "id": "e895b18e-57e9-4416-ac3d-1e5f7a06e225",
   "metadata": {},
   "source": [
    "A confusing case is when the `step` is negative.\n",
    "**This is going backwards**."
   ]
  },
  {
   "cell_type": "code",
   "execution_count": 24,
   "id": "1f45ecb8-6df7-49ac-aaa3-7dbe358483dd",
   "metadata": {},
   "outputs": [
    {
     "data": {
      "text/plain": [
       "array([9, 8, 7, 6, 5, 4, 3, 2, 1, 0])"
      ]
     },
     "execution_count": 24,
     "metadata": {},
     "output_type": "execute_result"
    }
   ],
   "source": [
    "x[::-1]"
   ]
  },
  {
   "cell_type": "code",
   "execution_count": 25,
   "id": "d78ed3fa-53ca-4680-b7fc-42644753084e",
   "metadata": {},
   "outputs": [
    {
     "data": {
      "text/plain": [
       "array([5, 4, 3, 2, 1, 0])"
      ]
     },
     "execution_count": 25,
     "metadata": {},
     "output_type": "execute_result"
    }
   ],
   "source": [
    "x[5::-1]"
   ]
  },
  {
   "cell_type": "markdown",
   "id": "bc932843-d2b2-4b78-a112-54b0bb77113d",
   "metadata": {},
   "source": [
    "### Multi-dimentional subarrays\n",
    "\n",
    "Multi-dimensional slices **works with \"comma.\"**\n",
    "\n",
    "Syntax, take 2d array: `x[{theActionToFirstDimention},{theActionToSecondDimention}]`"
   ]
  },
  {
   "cell_type": "code",
   "execution_count": 26,
   "id": "15044e7f-0575-4d9e-b55a-3845ac0ec8e3",
   "metadata": {},
   "outputs": [
    {
     "data": {
      "text/plain": [
       "array([[ 3,  5,  7],\n",
       "       [ 4,  6,  8],\n",
       "       [10, 13, 18]])"
      ]
     },
     "execution_count": 26,
     "metadata": {},
     "output_type": "execute_result"
    }
   ],
   "source": [
    "x2 = np.array([[3, 5, 7],\n",
    "               [4, 6, 8],\n",
    "               [10, 13, 18]])\n",
    "x2"
   ]
  },
  {
   "cell_type": "markdown",
   "id": "ff827a8e-d1b1-403a-ab2a-1eb61475446d",
   "metadata": {},
   "source": [
    "First x2[a, b]: we want the elements of first array from 0 ~ 2. And everything from second array:"
   ]
  },
  {
   "cell_type": "code",
   "execution_count": 27,
   "id": "314b2019-d839-4973-b00a-e3381edb7972",
   "metadata": {},
   "outputs": [
    {
     "data": {
      "text/plain": [
       "array([[3, 5, 7],\n",
       "       [4, 6, 8]])"
      ]
     },
     "execution_count": 27,
     "metadata": {},
     "output_type": "execute_result"
    }
   ],
   "source": [
    "x2[:2, :]"
   ]
  },
  {
   "cell_type": "markdown",
   "id": "f6f0660e-385e-4843-9113-ac4d49b0a372",
   "metadata": {},
   "source": [
    "Want the last element of the 2d array, and make it reverse"
   ]
  },
  {
   "cell_type": "code",
   "execution_count": 28,
   "id": "3036b436-093b-4b48-95c0-7b2af9c9c4a7",
   "metadata": {},
   "outputs": [
    {
     "data": {
      "text/plain": [
       "array([[18, 13, 10]])"
      ]
     },
     "execution_count": 28,
     "metadata": {},
     "output_type": "execute_result"
    }
   ],
   "source": [
    "x2[-1::,::-1]"
   ]
  },
  {
   "cell_type": "markdown",
   "id": "73fa8a88-d298-4195-a069-6d7b0d369522",
   "metadata": {},
   "source": [
    "Reverse all elements in the array"
   ]
  },
  {
   "cell_type": "code",
   "execution_count": 29,
   "id": "b503d64c-4acc-4832-bc1e-023fb126ef83",
   "metadata": {},
   "outputs": [
    {
     "data": {
      "text/plain": [
       "array([[18, 13, 10],\n",
       "       [ 8,  6,  4],\n",
       "       [ 7,  5,  3]])"
      ]
     },
     "execution_count": 29,
     "metadata": {},
     "output_type": "execute_result"
    }
   ],
   "source": [
    "x2[::-1, ::-1]"
   ]
  },
  {
   "cell_type": "markdown",
   "id": "f9932172-7c93-45da-b747-c720fdc64456",
   "metadata": {
    "tags": []
   },
   "source": [
    "## Common methods"
   ]
  },
  {
   "cell_type": "markdown",
   "id": "11d562d6-f80e-4262-96bb-5810499f02af",
   "metadata": {},
   "source": [
    "### `np.ravel()`"
   ]
  },
  {
   "cell_type": "markdown",
   "id": "83b01ce5-5fbb-43f1-8b77-452c53002e4b",
   "metadata": {},
   "source": [
    "np.ravel()\n",
    "> Returns a contiguous flattened array"
   ]
  },
  {
   "cell_type": "code",
   "execution_count": 44,
   "id": "7e30cfed-5c98-4e90-a9de-d519c2277211",
   "metadata": {},
   "outputs": [
    {
     "data": {
      "text/plain": [
       "array([1, 2, 3, 4, 5, 6])"
      ]
     },
     "execution_count": 44,
     "metadata": {},
     "output_type": "execute_result"
    }
   ],
   "source": [
    "x = np.array([[1, 2, 3], [4, 5, 6]])\n",
    "np.ravel(x)"
   ]
  },
  {
   "cell_type": "markdown",
   "id": "ecca2058-de31-4596-bd73-28e42c26c31b",
   "metadata": {},
   "source": [
    "### np.meshgrid(x, y)\n",
    "![mesh](data:image/jpeg;base64,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)\n",
    "\n",
    "[stackoverflow](https://stackoverflow.com/questions/36013063/what-is-the-purpose-of-meshgrid-in-python-numpy/36014586#36014586)\n",
    "\n",
    ">The purpose of meshgrid is to create a rectangular grid out of an array of x values and an array of y values.\n",
    "\n",
    "Create an array like:\n",
    "```python\n",
    "x =   0 1 2 3 4        y =   0 0 0 0 0\n",
    "      0 1 2 3 4              1 1 1 1 1\n",
    "      0 1 2 3 4              2 2 2 2 2\n",
    "      0 1 2 3 4              3 3 3 3 3\n",
    "      0 1 2 3 4              4 4 4 4 4\n",
    "\n",
    "# to code\n",
    "x[0,0] = 0    y[0,0] = 0\n",
    "x[0,1] = 1    y[0,1] = 0\n",
    "x[0,2] = 2    y[0,2] = 0\n",
    "x[0,3] = 3    y[0,3] = 0\n",
    "x[0,4] = 4    y[0,4] = 0\n",
    "x[1,0] = 0    y[1,0] = 1\n",
    "x[1,1] = 1    y[1,1] = 1\n",
    "...\n",
    "x[4,3] = 3    y[4,3] = 4\n",
    "x[4,4] = 4    y[4,4] = 4\n",
    "```\n",
    "\n",
    "But with `meshgrid()` it's easier"
   ]
  },
  {
   "cell_type": "code",
   "execution_count": 45,
   "id": "3ace22c8-70ba-483e-be15-57684eafb663",
   "metadata": {},
   "outputs": [],
   "source": [
    "xvalues = np.array([0, 1, 2, 3, 4])\n",
    "yvalues = np.array([0, 1, 2, 3, 4])\n",
    "xx, yy = np.meshgrid(xvalues, yvalues)"
   ]
  },
  {
   "cell_type": "code",
   "execution_count": 46,
   "id": "634dead5-9b25-44f5-bc3e-e30718c2d42d",
   "metadata": {},
   "outputs": [
    {
     "data": {
      "text/plain": [
       "array([[0, 1, 2, 3, 4],\n",
       "       [0, 1, 2, 3, 4],\n",
       "       [0, 1, 2, 3, 4],\n",
       "       [0, 1, 2, 3, 4],\n",
       "       [0, 1, 2, 3, 4]])"
      ]
     },
     "execution_count": 46,
     "metadata": {},
     "output_type": "execute_result"
    }
   ],
   "source": [
    "xx"
   ]
  },
  {
   "cell_type": "code",
   "execution_count": 47,
   "id": "24f2c275-5e9a-4c51-ae23-728dbc8fa066",
   "metadata": {},
   "outputs": [
    {
     "data": {
      "text/plain": [
       "array([[0, 0, 0, 0, 0],\n",
       "       [1, 1, 1, 1, 1],\n",
       "       [2, 2, 2, 2, 2],\n",
       "       [3, 3, 3, 3, 3],\n",
       "       [4, 4, 4, 4, 4]])"
      ]
     },
     "execution_count": 47,
     "metadata": {},
     "output_type": "execute_result"
    }
   ],
   "source": [
    "yy"
   ]
  },
  {
   "cell_type": "markdown",
   "id": "1c61ba75-8688-4e1d-b180-253ff3c85b95",
   "metadata": {},
   "source": [
    "### `np.linspace(start, stop, num)\n",
    ">It creates a evenly spaced values within a defined interval."
   ]
  },
  {
   "cell_type": "code",
   "execution_count": 48,
   "id": "9e71ac53-d73b-4888-94ae-2d84ac53d4b3",
   "metadata": {},
   "outputs": [
    {
     "data": {
      "text/plain": [
       "array([  0.,  25.,  50.,  75., 100.])"
      ]
     },
     "execution_count": 48,
     "metadata": {},
     "output_type": "execute_result"
    }
   ],
   "source": [
    "np.linspace(start = 0, stop = 100, num =5)"
   ]
  },
  {
   "cell_type": "markdown",
   "id": "780aed98-cab8-4f4c-9757-1fea10b3c515",
   "metadata": {},
   "source": [
    "### `np.zeros_like(x)`\n",
    ">Return an array of zeros with the same shape and type as a given array."
   ]
  },
  {
   "cell_type": "code",
   "execution_count": 49,
   "id": "3b89f058-8aee-47c2-9f63-fe9cb1ede8d0",
   "metadata": {},
   "outputs": [
    {
     "data": {
      "text/plain": [
       "array([0, 1, 2, 3, 4, 5])"
      ]
     },
     "execution_count": 49,
     "metadata": {},
     "output_type": "execute_result"
    }
   ],
   "source": [
    "x = np.arange(6)\n",
    "x"
   ]
  },
  {
   "cell_type": "code",
   "execution_count": 50,
   "id": "65532ab5-e8ba-4a11-9a05-d44e52a4859a",
   "metadata": {},
   "outputs": [
    {
     "data": {
      "text/plain": [
       "array([[0, 1, 2],\n",
       "       [3, 4, 5]])"
      ]
     },
     "execution_count": 50,
     "metadata": {},
     "output_type": "execute_result"
    }
   ],
   "source": [
    "x = x.reshape((2, 3))\n",
    "x"
   ]
  },
  {
   "cell_type": "code",
   "execution_count": null,
   "id": "76146b5c-79ea-42ae-89f1-76806eadf475",
   "metadata": {},
   "outputs": [],
   "source": []
  }
 ],
 "metadata": {
  "kernelspec": {
   "display_name": "Python 3 (ipykernel)",
   "language": "python",
   "name": "python3"
  },
  "language_info": {
   "codemirror_mode": {
    "name": "ipython",
    "version": 3
   },
   "file_extension": ".py",
   "mimetype": "text/x-python",
   "name": "python",
   "nbconvert_exporter": "python",
   "pygments_lexer": "ipython3",
   "version": "3.10.8"
  }
 },
 "nbformat": 4,
 "nbformat_minor": 5
}
