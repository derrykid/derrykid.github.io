{
 "cells": [
  {
   "cell_type": "code",
   "execution_count": 1,
   "id": "983da4a6-3eb5-4532-806b-fa784e76b5eb",
   "metadata": {},
   "outputs": [],
   "source": [
    "import numpy as np"
   ]
  },
  {
   "cell_type": "markdown",
   "id": "434a62f0-ceb3-46b2-aa16-1bf3c1adaf20",
   "metadata": {
    "tags": []
   },
   "source": [
    "## Creating a copy\n",
    "\n",
    "By copying, you bypass the behaviour that the slicing changes will take effect on the origin array."
   ]
  },
  {
   "cell_type": "code",
   "execution_count": 9,
   "id": "207f0771-f6d7-4c8d-8fce-d09c4a9977f9",
   "metadata": {},
   "outputs": [],
   "source": [
    "x = np.arange(1, 10, 1)\n",
    "\n",
    "copy = x[:].copy()\n",
    "copy[3] = 100"
   ]
  },
  {
   "cell_type": "code",
   "execution_count": 10,
   "id": "2d0f00ea-9412-43a8-8b0f-580f4697bcd3",
   "metadata": {},
   "outputs": [
    {
     "data": {
      "text/plain": [
       "array([  1,   2,   3, 100,   5,   6,   7,   8,   9])"
      ]
     },
     "execution_count": 10,
     "metadata": {},
     "output_type": "execute_result"
    }
   ],
   "source": [
    "copy"
   ]
  }
 ],
 "metadata": {
  "kernelspec": {
   "display_name": "Python 3 (ipykernel)",
   "language": "python",
   "name": "python3"
  },
  "language_info": {
   "codemirror_mode": {
    "name": "ipython",
    "version": 3
   },
   "file_extension": ".py",
   "mimetype": "text/x-python",
   "name": "python",
   "nbconvert_exporter": "python",
   "pygments_lexer": "ipython3",
   "version": "3.10.8"
  }
 },
 "nbformat": 4,
 "nbformat_minor": 5
}
