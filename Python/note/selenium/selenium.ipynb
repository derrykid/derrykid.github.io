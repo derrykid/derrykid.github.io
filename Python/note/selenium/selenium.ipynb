{
 "cells": [
  {
   "cell_type": "code",
   "execution_count": 5,
   "id": "3f326513-32e5-4452-ae85-0be0ece52cae",
   "metadata": {},
   "outputs": [
    {
     "name": "stderr",
     "output_type": "stream",
     "text": [
      "/tmp/ipykernel_185753/3066668714.py:7: DeprecationWarning: executable_path has been deprecated, please pass in a Service object\n",
      "  driver = webdriver.Chrome(executable_path=r'/home/derry/Backend/Python/note/selenium/chromedriver', options=options)\n"
     ]
    }
   ],
   "source": [
    "from selenium import webdriver\n",
    "from selenium.webdriver.chrome.options import Options\n",
    "\n",
    "options = Options()\n",
    "options.add_argument(\"start-maximized\")\n",
    "options.binary_location=r'/usr/bin/vivaldi-stable'\n",
    "driver = webdriver.Chrome(executable_path=r'/home/derry/Backend/Python/note/selenium/chromedriver', options=options)\n",
    "driver.get('http://google.com/')"
   ]
  },
  {
   "cell_type": "code",
   "execution_count": null,
   "id": "24d90a4a-fa69-45f4-88ea-8fb27aa995d0",
   "metadata": {},
   "outputs": [],
   "source": []
  }
 ],
 "metadata": {
  "kernelspec": {
   "display_name": "Python 3 (ipykernel)",
   "language": "python",
   "name": "python3"
  },
  "language_info": {
   "codemirror_mode": {
    "name": "ipython",
    "version": 3
   },
   "file_extension": ".py",
   "mimetype": "text/x-python",
   "name": "python",
   "nbconvert_exporter": "python",
   "pygments_lexer": "ipython3",
   "version": "3.10.8"
  }
 },
 "nbformat": 4,
 "nbformat_minor": 5
}
