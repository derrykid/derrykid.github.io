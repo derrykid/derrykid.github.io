{
 "cells": [
  {
   "cell_type": "markdown",
   "id": "92c5337b-afab-4729-825f-3e159f7cfb9f",
   "metadata": {},
   "source": [
    "# Python - List\n",
    "\n",
    "- surround with square brackets\n",
    "- can story any types\n",
    "- String can be view as list, e.g. \"hello\", can be used as `[h, e, l, l, o]`"
   ]
  },
  {
   "cell_type": "code",
   "execution_count": 1,
   "id": "86ba87e3-72aa-43a7-a89b-18a0b1c9af6c",
   "metadata": {},
   "outputs": [],
   "source": [
    "ListA = [1, 2, 3] \n",
    "ListB = [['cat', 'bat'], [10, 20, 30, 40, 50]]\n",
    "spam = ['a', 'b', 'c', 'd', 'e']"
   ]
  },
  {
   "cell_type": "markdown",
   "id": "7a6492d8-45b4-43d0-be72-9d6dfdfca3a7",
   "metadata": {
    "tags": []
   },
   "source": [
    "## Item manipulation"
   ]
  },
  {
   "cell_type": "markdown",
   "id": "835c32f2-78f2-4387-8537-0c3afb4d813b",
   "metadata": {},
   "source": [
    "### Create list"
   ]
  },
  {
   "cell_type": "code",
   "execution_count": 2,
   "id": "c92a1c39-dfce-409b-a9b9-a2321fe88879",
   "metadata": {},
   "outputs": [
    {
     "data": {
      "text/plain": [
       "list"
      ]
     },
     "execution_count": 2,
     "metadata": {},
     "output_type": "execute_result"
    }
   ],
   "source": [
    "aList = []\n",
    "type(aList)"
   ]
  },
  {
   "cell_type": "code",
   "execution_count": 3,
   "id": "15913421-58a7-4a18-a61f-89023abc916a",
   "metadata": {},
   "outputs": [
    {
     "data": {
      "text/plain": [
       "['A', 'A', 'A']"
      ]
     },
     "execution_count": 3,
     "metadata": {},
     "output_type": "execute_result"
    }
   ],
   "source": [
    "['A'] * 3 "
   ]
  },
  {
   "cell_type": "markdown",
   "id": "89b23ba5-51b4-4784-b627-68b5b2531ff2",
   "metadata": {},
   "source": [
    "### Access an item"
   ]
  },
  {
   "cell_type": "code",
   "execution_count": 4,
   "id": "0c73292b-98b1-46b7-bb29-137afe7a1b46",
   "metadata": {},
   "outputs": [
    {
     "data": {
      "text/plain": [
       "'elephant'"
      ]
     },
     "execution_count": 4,
     "metadata": {},
     "output_type": "execute_result"
    }
   ],
   "source": [
    "['cat', 'bat', 'rat', 'elephant'][3] # elephant"
   ]
  },
  {
   "cell_type": "code",
   "execution_count": 5,
   "id": "0b21c402-2547-450b-8025-c37f4237bc36",
   "metadata": {},
   "outputs": [
    {
     "data": {
      "text/plain": [
       "2"
      ]
     },
     "execution_count": 5,
     "metadata": {},
     "output_type": "execute_result"
    }
   ],
   "source": [
    "ListA[1]"
   ]
  },
  {
   "cell_type": "markdown",
   "id": "07ba5254-0f64-4798-b0a5-2f4a68198d85",
   "metadata": {},
   "source": [
    "### `append()` - Add item"
   ]
  },
  {
   "cell_type": "code",
   "execution_count": 6,
   "id": "e409fd6b-0cb6-41a9-b00b-08393b5e51d1",
   "metadata": {},
   "outputs": [
    {
     "data": {
      "text/plain": [
       "['a', 'b', 'c', 'd', 'e', 'moose']"
      ]
     },
     "execution_count": 6,
     "metadata": {},
     "output_type": "execute_result"
    }
   ],
   "source": [
    "spam.append('moose')\n",
    "spam"
   ]
  },
  {
   "cell_type": "markdown",
   "id": "77463d84-f7b3-4bd7-aaa7-ac759b47ba71",
   "metadata": {},
   "source": [
    "### Modify the value"
   ]
  },
  {
   "cell_type": "code",
   "execution_count": 7,
   "id": "aeb50d30-98be-4ca9-9472-290f867fb382",
   "metadata": {},
   "outputs": [
    {
     "data": {
      "text/plain": [
       "['a', 'changed', 'c', 'd', 'e', 'moose']"
      ]
     },
     "execution_count": 7,
     "metadata": {},
     "output_type": "execute_result"
    }
   ],
   "source": [
    "spam[1] = 'changed'\n",
    "spam"
   ]
  },
  {
   "cell_type": "markdown",
   "id": "587112e1-d11f-4cd3-a9c2-5a3955cfcb55",
   "metadata": {},
   "source": [
    "### Insert item"
   ]
  },
  {
   "cell_type": "code",
   "execution_count": 8,
   "id": "f5cac6c1-e297-49b3-9c6a-7e2c1ee9badb",
   "metadata": {},
   "outputs": [
    {
     "data": {
      "text/plain": [
       "['a', 'chicken', 'changed', 'c', 'd', 'e', 'moose']"
      ]
     },
     "execution_count": 8,
     "metadata": {},
     "output_type": "execute_result"
    }
   ],
   "source": [
    "spam.insert(1, 'chicken')\n",
    "spam"
   ]
  },
  {
   "cell_type": "markdown",
   "id": "c002a81e-61d6-452a-bde8-36d953f3145c",
   "metadata": {},
   "source": [
    "### concatenate "
   ]
  },
  {
   "cell_type": "code",
   "execution_count": 9,
   "id": "ba1f6541-109f-4069-99a6-ad942bde854d",
   "metadata": {},
   "outputs": [
    {
     "data": {
      "text/plain": [
       "[1, 2, 3, 'A', 'B', 'C']"
      ]
     },
     "execution_count": 9,
     "metadata": {},
     "output_type": "execute_result"
    }
   ],
   "source": [
    "[1, 2, 3] + ['A', 'B', 'C']"
   ]
  },
  {
   "cell_type": "markdown",
   "id": "ab0ea1db-2cec-4039-b325-44db88531509",
   "metadata": {},
   "source": [
    "### `extend()` - extend the list with another list"
   ]
  },
  {
   "cell_type": "code",
   "execution_count": 26,
   "id": "2e7b76ff-3015-4a86-8069-53472141933f",
   "metadata": {},
   "outputs": [
    {
     "data": {
      "text/plain": [
       "['a', 'b', 'c', 'd']"
      ]
     },
     "execution_count": 26,
     "metadata": {},
     "output_type": "execute_result"
    }
   ],
   "source": [
    "a = ['a', 'b']\n",
    "b = ['c', 'd']\n",
    "a.extend(b)\n",
    "a"
   ]
  },
  {
   "cell_type": "markdown",
   "id": "bee5b733-442c-49df-a4e3-96f24e658a92",
   "metadata": {},
   "source": [
    "### Remove item\n",
    "\n",
    "- `del spam[i]`\n",
    "- `spam.remove(item)`"
   ]
  },
  {
   "cell_type": "code",
   "execution_count": 10,
   "id": "1e5f0733-789b-4214-92ff-a7ed5f22c579",
   "metadata": {},
   "outputs": [],
   "source": [
    "spam = ['cat', 'bat', 'rat', 'elephant']\n",
    "spam.remove('rat') # remove by value"
   ]
  },
  {
   "cell_type": "markdown",
   "id": "d700832e-0f44-4a7d-8303-f3d1c89fbbf3",
   "metadata": {},
   "source": [
    "## read array"
   ]
  },
  {
   "cell_type": "markdown",
   "id": "3fea6a6d-bc95-4519-a845-a42393bd7bd3",
   "metadata": {},
   "source": [
    "### length"
   ]
  },
  {
   "cell_type": "code",
   "execution_count": 11,
   "id": "0c478de9-5c24-4e65-b3dd-d17fb4907ab5",
   "metadata": {},
   "outputs": [
    {
     "data": {
      "text/plain": [
       "3"
      ]
     },
     "execution_count": 11,
     "metadata": {},
     "output_type": "execute_result"
    }
   ],
   "source": [
    "len(spam)"
   ]
  },
  {
   "cell_type": "markdown",
   "id": "b1f3b499-a327-4e6c-a5c0-dfe937ff61d5",
   "metadata": {},
   "source": [
    "### index of an item"
   ]
  },
  {
   "cell_type": "code",
   "execution_count": 12,
   "id": "40d8aac0-b3c8-4d6d-a939-16f16577e0a1",
   "metadata": {},
   "outputs": [
    {
     "data": {
      "text/plain": [
       "2"
      ]
     },
     "execution_count": 12,
     "metadata": {},
     "output_type": "execute_result"
    }
   ],
   "source": [
    "spam.index('elephant')"
   ]
  },
  {
   "cell_type": "markdown",
   "id": "5b129019-a2fa-4e32-a7c0-2510b0e3bb46",
   "metadata": {},
   "source": [
    "### negative index"
   ]
  },
  {
   "cell_type": "code",
   "execution_count": 13,
   "id": "49219473-4fae-4dd4-bf9c-c5c33e5f2e43",
   "metadata": {},
   "outputs": [
    {
     "data": {
      "text/plain": [
       "3"
      ]
     },
     "execution_count": 13,
     "metadata": {},
     "output_type": "execute_result"
    }
   ],
   "source": [
    "ListA = [1, 2, 3]\n",
    "ListA[-1]"
   ]
  },
  {
   "cell_type": "markdown",
   "id": "e854d86a-7132-4461-9888-e1c95a30e0e9",
   "metadata": {},
   "source": [
    "### slice"
   ]
  },
  {
   "cell_type": "code",
   "execution_count": 14,
   "id": "927d14eb-6fa7-4b4f-b0a6-0e0a98163739",
   "metadata": {},
   "outputs": [
    {
     "data": {
      "text/plain": [
       "['cat', 'bat', 'rat', 'elephant']"
      ]
     },
     "execution_count": 14,
     "metadata": {},
     "output_type": "execute_result"
    }
   ],
   "source": [
    "spam = ['cat', 'bat', 'rat', 'elephant']\n",
    "spam[0:4]   # get ['cat', 'bat', 'rat', 'elephant']\n",
    "spam[-1]    # 'elephant'\n",
    "spam[:]     # everything in the list"
   ]
  },
  {
   "cell_type": "markdown",
   "id": "121ff87e-e77f-4f33-8e26-8371bbab1e33",
   "metadata": {},
   "source": [
    "### iterate through each item"
   ]
  },
  {
   "cell_type": "code",
   "execution_count": 15,
   "id": "71874d1e-ca2e-4f2f-8683-122a801bbf61",
   "metadata": {},
   "outputs": [
    {
     "name": "stdout",
     "output_type": "stream",
     "text": [
      "list[0]\n",
      "list[1]\n",
      "list[2]\n",
      "list[3]\n"
     ]
    }
   ],
   "source": [
    "for i in range(len(spam)):\n",
    "    print(list[i])"
   ]
  },
  {
   "cell_type": "markdown",
   "id": "a72eff16-466c-4888-8007-a2338e7de648",
   "metadata": {},
   "source": [
    "### check existance\n",
    "> Use `in` or `not in` to check"
   ]
  },
  {
   "cell_type": "code",
   "execution_count": 16,
   "id": "db1828af-a249-46bd-8b2a-8e1c956949d2",
   "metadata": {},
   "outputs": [
    {
     "data": {
      "text/plain": [
       "True"
      ]
     },
     "execution_count": 16,
     "metadata": {},
     "output_type": "execute_result"
    }
   ],
   "source": [
    "spam = ['hello', 'hi', 'howdy', 'heyas'] \n",
    "'howdy' in spam          # return True\n",
    "'hohoho' not in  spam"
   ]
  },
  {
   "cell_type": "markdown",
   "id": "3339ac8a-514a-49e9-845f-3fc38612c28c",
   "metadata": {},
   "source": [
    "### return a tuple, unpack the value\n",
    "\n",
    "Python supports to unpack the list easily"
   ]
  },
  {
   "cell_type": "code",
   "execution_count": 17,
   "id": "d02b075a-c243-4db9-8b95-7e7bf29ea699",
   "metadata": {},
   "outputs": [
    {
     "data": {
      "text/plain": [
       "'fat'"
      ]
     },
     "execution_count": 17,
     "metadata": {},
     "output_type": "execute_result"
    }
   ],
   "source": [
    "cat = ['fat', 'gray', 'loud']\n",
    "\n",
    "# not surround with bracket\n",
    "size, color, disposition = cat\n",
    "\n",
    "# or surround\n",
    "(size, color, disposition) = cat\n",
    "\n",
    "size"
   ]
  },
  {
   "cell_type": "markdown",
   "id": "14bb9d71-3d22-4ff8-8629-f061762bfaac",
   "metadata": {},
   "source": [
    "### `enumerate()` to get index and item"
   ]
  },
  {
   "cell_type": "code",
   "execution_count": 18,
   "id": "30fde76e-2278-4691-bb65-1fee0bb33a21",
   "metadata": {},
   "outputs": [
    {
     "name": "stdout",
     "output_type": "stream",
     "text": [
      "0 is pens\n",
      "1 is staplers\n",
      "2 is flamethrowers\n",
      "3 is binders\n"
     ]
    }
   ],
   "source": [
    "supplies = ['pens', 'staplers', 'flamethrowers', 'binders']\n",
    "for index, item in enumerate(supplies):\n",
    "    print(str(index) + \" is \" + item)"
   ]
  },
  {
   "cell_type": "markdown",
   "id": "a04de456-99f4-495f-b7e6-08ee2eb6c0ef",
   "metadata": {},
   "source": [
    "## misc"
   ]
  },
  {
   "cell_type": "markdown",
   "id": "446e4806-c5df-451e-b5f1-48f3ddd09fcd",
   "metadata": {},
   "source": [
    "### get a random item from list"
   ]
  },
  {
   "cell_type": "code",
   "execution_count": 19,
   "id": "61e4af41-bfd8-4c26-99ad-dfd805047670",
   "metadata": {},
   "outputs": [
    {
     "data": {
      "text/plain": [
       "'Moose'"
      ]
     },
     "execution_count": 19,
     "metadata": {},
     "output_type": "execute_result"
    }
   ],
   "source": [
    "import random\n",
    "pets = ['Dog', 'Cat', 'Moose']\n",
    "random.choice(pets)"
   ]
  },
  {
   "cell_type": "markdown",
   "id": "76b50427-d6ec-4a4b-affd-2c722aee8ce8",
   "metadata": {},
   "source": [
    "### shuffle the list"
   ]
  },
  {
   "cell_type": "code",
   "execution_count": 20,
   "id": "358c6f15-160f-4005-8c94-587bfbac7da5",
   "metadata": {},
   "outputs": [
    {
     "data": {
      "text/plain": [
       "['Bob', 'Carol', 'David', 'Alice']"
      ]
     },
     "execution_count": 20,
     "metadata": {},
     "output_type": "execute_result"
    }
   ],
   "source": [
    "import random\n",
    "people = ['Alice', 'Bob', 'Carol', 'David']\n",
    "random.shuffle(people)\n",
    "people"
   ]
  },
  {
   "cell_type": "markdown",
   "id": "b39ec4a7-caed-4981-b034-44ad6fad746c",
   "metadata": {},
   "source": [
    "### string to list"
   ]
  },
  {
   "cell_type": "code",
   "execution_count": 1,
   "id": "c757191c-f8fe-4461-b2c3-31308e6913f5",
   "metadata": {},
   "outputs": [
    {
     "data": {
      "text/plain": [
       "['h', 'e', 'l', 'l', 'o']"
      ]
     },
     "execution_count": 1,
     "metadata": {},
     "output_type": "execute_result"
    }
   ],
   "source": [
    "tolist = list('hello')\n",
    "tolist"
   ]
  },
  {
   "cell_type": "markdown",
   "id": "ff69d253-3ed2-496a-84a8-8e5d0bfb30e3",
   "metadata": {},
   "source": [
    "## Sort\n",
    "**Note: can't sort a list with values of String and integer together** \n",
    "\n",
    "Sort the integer or String with `sort()`"
   ]
  },
  {
   "cell_type": "code",
   "execution_count": 21,
   "id": "a17cba65-7c0b-4270-bbe3-b9b4c447cc52",
   "metadata": {},
   "outputs": [
    {
     "data": {
      "text/plain": [
       "[-7, 1, 2, 3.14, 5]"
      ]
     },
     "execution_count": 21,
     "metadata": {},
     "output_type": "execute_result"
    }
   ],
   "source": [
    "spam = [2, 5, 3.14, 1, -7]\n",
    "spam.sort()\n",
    "spam"
   ]
  },
  {
   "cell_type": "code",
   "execution_count": 22,
   "id": "8d15ab51-193d-4061-ba16-f5fb1bd55cb4",
   "metadata": {},
   "outputs": [
    {
     "data": {
      "text/plain": [
       "['ants', 'badgers', 'cats', 'dogs', 'elephants']"
      ]
     },
     "execution_count": 22,
     "metadata": {},
     "output_type": "execute_result"
    }
   ],
   "source": [
    "spam = ['ants', 'cats', 'dogs', 'badgers', 'elephants']\n",
    "spam.sort()\n",
    "spam"
   ]
  },
  {
   "cell_type": "markdown",
   "id": "7621f300-d1b5-43b2-bc15-b651637c48d4",
   "metadata": {},
   "source": [
    "Reverse the order\n",
    "\n",
    "- `spam.sort(reverse=True)`\n",
    "- `spam.reverse()`"
   ]
  },
  {
   "cell_type": "code",
   "execution_count": 23,
   "id": "81f24246-708e-4809-b705-a5c585d93c77",
   "metadata": {},
   "outputs": [
    {
     "data": {
      "text/plain": [
       "['elephants', 'dogs', 'cats', 'badgers', 'ants']"
      ]
     },
     "execution_count": 23,
     "metadata": {},
     "output_type": "execute_result"
    }
   ],
   "source": [
    "spam.sort(reverse=True)\n",
    "spam"
   ]
  },
  {
   "cell_type": "markdown",
   "id": "a5ee7f45-5acf-4b27-8adf-a99726320925",
   "metadata": {},
   "source": [
    "### Sort based on alphabet order"
   ]
  },
  {
   "cell_type": "code",
   "execution_count": 24,
   "id": "99dd12d7-e06a-4be6-832b-3199fb1e5aa1",
   "metadata": {},
   "outputs": [
    {
     "data": {
      "text/plain": [
       "['ants', 'badgers', 'cats', 'dogs', 'elephants']"
      ]
     },
     "execution_count": 24,
     "metadata": {},
     "output_type": "execute_result"
    }
   ],
   "source": [
    "spam = ['ants', 'cats', 'dogs', 'badgers', 'elephants']\n",
    "spam.sort(key=str.lower)\n",
    "spam"
   ]
  }
 ],
 "metadata": {
  "kernelspec": {
   "display_name": "Python 3 (ipykernel)",
   "language": "python",
   "name": "python3"
  },
  "language_info": {
   "codemirror_mode": {
    "name": "ipython",
    "version": 3
   },
   "file_extension": ".py",
   "mimetype": "text/x-python",
   "name": "python",
   "nbconvert_exporter": "python",
   "pygments_lexer": "ipython3",
   "version": "3.10.8"
  },
  "toc-autonumbering": false,
  "toc-showmarkdowntxt": false
 },
 "nbformat": 4,
 "nbformat_minor": 5
}
