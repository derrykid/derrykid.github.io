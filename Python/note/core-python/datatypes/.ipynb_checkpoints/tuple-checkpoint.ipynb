{
 "cells": [
  {
   "cell_type": "markdown",
   "id": "50edb776-4c7f-417e-987f-e6cce5ddeb64",
   "metadata": {},
   "source": [
    "# Tuple\n",
    "\n",
    "- Tuple is immutable\n",
    "- surround with ()"
   ]
  },
  {
   "cell_type": "code",
   "execution_count": 1,
   "id": "cbcb5013-48f4-40d4-a580-5bb13bb37420",
   "metadata": {},
   "outputs": [],
   "source": [
    "eggs = ('hello', 32, 0.5)"
   ]
  },
  {
   "cell_type": "markdown",
   "id": "d1be9273-6829-4088-98df-2c959be449ea",
   "metadata": {},
   "source": [
    "## Add trailing comma if there's only one value"
   ]
  },
  {
   "cell_type": "code",
   "execution_count": 2,
   "id": "06d96c57-c638-4c9e-9b2b-815d9587b563",
   "metadata": {},
   "outputs": [
    {
     "name": "stdout",
     "output_type": "stream",
     "text": [
      "tuple Type: + <class 'tuple'>\n",
      "String Type: + <class 'str'>\n"
     ]
    }
   ],
   "source": [
    "print(f\"tuple Type: + {type(('hello',))}\")\n",
    "\n",
    "print(f\"String Type: + {type(('hello'))}\")"
   ]
  },
  {
   "cell_type": "markdown",
   "id": "63b31b8f-1892-417c-90df-4ce20c268204",
   "metadata": {},
   "source": [
    "## Convert list to tuple"
   ]
  },
  {
   "cell_type": "code",
   "execution_count": 3,
   "id": "205749d2-6350-4906-97c9-26a41231350b",
   "metadata": {},
   "outputs": [
    {
     "data": {
      "text/plain": [
       "('cat', 'dog', 5)"
      ]
     },
     "execution_count": 3,
     "metadata": {},
     "output_type": "execute_result"
    }
   ],
   "source": [
    "myList = ['cat', 'dog', 5]\n",
    "convert = tuple(myList)\n",
    "convert"
   ]
  },
  {
   "cell_type": "markdown",
   "id": "10806ce2-4de1-4716-b579-7e0e16d44f3b",
   "metadata": {},
   "source": [
    "## Convert tuple to list"
   ]
  },
  {
   "cell_type": "code",
   "execution_count": 4,
   "id": "010aaa4b-0e25-4783-8989-53070d1f6432",
   "metadata": {},
   "outputs": [
    {
     "data": {
      "text/plain": [
       "['cat', 'dog', 5]"
      ]
     },
     "execution_count": 4,
     "metadata": {},
     "output_type": "execute_result"
    }
   ],
   "source": [
    "myTuple = ('cat', 'dog', 5)\n",
    "convert = list(myTuple)\n",
    "convert"
   ]
  },
  {
   "cell_type": "code",
   "execution_count": null,
   "id": "059df821-0508-43e1-b3b1-281ee15053ce",
   "metadata": {},
   "outputs": [],
   "source": []
  }
 ],
 "metadata": {
  "kernelspec": {
   "display_name": "Python 3 (ipykernel)",
   "language": "python",
   "name": "python3"
  },
  "language_info": {
   "codemirror_mode": {
    "name": "ipython",
    "version": 3
   },
   "file_extension": ".py",
   "mimetype": "text/x-python",
   "name": "python",
   "nbconvert_exporter": "python",
   "pygments_lexer": "ipython3",
   "version": "3.10.8"
  }
 },
 "nbformat": 4,
 "nbformat_minor": 5
}
