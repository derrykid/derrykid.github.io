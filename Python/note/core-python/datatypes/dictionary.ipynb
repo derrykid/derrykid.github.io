{
 "cells": [
  {
   "cell_type": "markdown",
   "id": "746d82ee-8471-47b2-901e-6b5362385d7a",
   "metadata": {},
   "source": [
    "# Dictionary\n",
    "\n",
    "> A key-value pair data structure. Similar to map or hashtable in many languages\n",
    "\n",
    "**Python dictionaries are implemented as hash tables** \n",
    "\n",
    "- Like a list, a dictionary is a mutable collection of many values\n",
    "- key-value pair\n",
    "- surround with curly braces {}\n",
    "- the key and value can be any type, mixed type"
   ]
  },
  {
   "cell_type": "code",
   "execution_count": 1,
   "id": "0fc16086-d6ee-4f23-b1d8-f1fa5f598e32",
   "metadata": {},
   "outputs": [],
   "source": [
    "myCat = {'size': 'fat', \n",
    "        'color': 'gray', \n",
    "        'disposition': 'loud'}"
   ]
  },
  {
   "cell_type": "markdown",
   "id": "1842d2f8-ce34-4eac-8ba7-cfb5beceb89d",
   "metadata": {},
   "source": [
    "## Access the dictionary"
   ]
  },
  {
   "cell_type": "markdown",
   "id": "4a14f3b2-bb69-4cd6-a62e-7373a57240f0",
   "metadata": {},
   "source": [
    "### By key\n",
    "\n",
    "- `dict.get(key)` - preferred, cuz it can set the default value if absent\n",
    "- `dict[key]`\n",
    "\n",
    "*If the key might be null, you can use `setDefault()`. See more in the section `setdefault() vs get()`*"
   ]
  },
  {
   "cell_type": "code",
   "execution_count": 2,
   "id": "1f8da235-f8eb-464a-bee3-2b89329ebb28",
   "metadata": {},
   "outputs": [
    {
     "data": {
      "text/plain": [
       "'fat'"
      ]
     },
     "execution_count": 2,
     "metadata": {},
     "output_type": "execute_result"
    }
   ],
   "source": [
    "myCat['size']"
   ]
  },
  {
   "cell_type": "code",
   "execution_count": 3,
   "id": "77dd683e-be33-4d66-9b99-6f4ea095839a",
   "metadata": {},
   "outputs": [
    {
     "data": {
      "text/plain": [
       "'Poland'"
      ]
     },
     "execution_count": 3,
     "metadata": {},
     "output_type": "execute_result"
    }
   ],
   "source": [
    "origin = myCat.get(\"origin\", \"Poland\")\n",
    "origin"
   ]
  },
  {
   "cell_type": "markdown",
   "id": "ec7118a2-b15d-4655-85da-9f8fde9ccc18",
   "metadata": {},
   "source": [
    "### `items()` - get the entrySet of tuple type"
   ]
  },
  {
   "cell_type": "code",
   "execution_count": 4,
   "id": "484c6712-7a4f-430e-94ac-f76c0e6e3f51",
   "metadata": {},
   "outputs": [
    {
     "name": "stdout",
     "output_type": "stream",
     "text": [
      "('size', 'fat')\n",
      "('color', 'gray')\n",
      "('disposition', 'loud')\n",
      "---\n",
      "size: fat\n",
      "color: gray\n",
      "disposition: loud\n"
     ]
    }
   ],
   "source": [
    "for item in myCat.items():\n",
    "    print(item)\n",
    "    \n",
    "print(\"---\")    \n",
    "for k, v in myCat.items():\n",
    "    print(f\"{k}: {v}\")"
   ]
  },
  {
   "cell_type": "markdown",
   "id": "d00c7c78-7139-4c8a-a13b-26df1c92d063",
   "metadata": {},
   "source": [
    "### `keys()` - get keys"
   ]
  },
  {
   "cell_type": "code",
   "execution_count": 5,
   "id": "5d36b6a5-71ce-46a4-b0f4-a925a2a76932",
   "metadata": {},
   "outputs": [
    {
     "data": {
      "text/plain": [
       "dict_keys(['size', 'color', 'disposition'])"
      ]
     },
     "execution_count": 5,
     "metadata": {},
     "output_type": "execute_result"
    }
   ],
   "source": [
    "myCat.keys()"
   ]
  },
  {
   "cell_type": "markdown",
   "id": "d3117e88-20f1-49ac-93b8-bfe3f59dc002",
   "metadata": {},
   "source": [
    "### `values()` - get values"
   ]
  },
  {
   "cell_type": "code",
   "execution_count": 6,
   "id": "6d3956a6-7505-45a0-97fd-192261c9218c",
   "metadata": {},
   "outputs": [
    {
     "data": {
      "text/plain": [
       "dict_values(['fat', 'gray', 'loud'])"
      ]
     },
     "execution_count": 6,
     "metadata": {},
     "output_type": "execute_result"
    }
   ],
   "source": [
    "myCat.values()"
   ]
  },
  {
   "cell_type": "markdown",
   "id": "6f726c99-a276-47d4-ad90-6d85abad8224",
   "metadata": {},
   "source": [
    "### iterate through dictionary\n",
    "\n",
    "Without any method, it gives the key.\n",
    "Simply call the `keys(), values(), items()` to perform. \n",
    "\n",
    "Note the following, it calls `keys()` here:"
   ]
  },
  {
   "cell_type": "code",
   "execution_count": 7,
   "id": "6a946e32-cf6e-4179-bfca-f1df2f7da259",
   "metadata": {},
   "outputs": [
    {
     "name": "stdout",
     "output_type": "stream",
     "text": [
      "size\n",
      "fat\n",
      "color\n",
      "gray\n",
      "disposition\n",
      "loud\n"
     ]
    }
   ],
   "source": [
    "for k in myCat:\n",
    "    print(k)\n",
    "    print(myCat[k])"
   ]
  },
  {
   "cell_type": "markdown",
   "id": "7a87326b-df24-47be-a62d-03b73c1e7a2b",
   "metadata": {},
   "source": [
    "## Update the value\n",
    "\n",
    "simply assign it to the new value"
   ]
  },
  {
   "cell_type": "code",
   "execution_count": 8,
   "id": "ff2cc836-d6e7-4445-818c-6a680fab96d8",
   "metadata": {},
   "outputs": [
    {
     "data": {
      "text/plain": [
       "{'size': 'fine', 'color': 'gray', 'disposition': 'loud'}"
      ]
     },
     "execution_count": 8,
     "metadata": {},
     "output_type": "execute_result"
    }
   ],
   "source": [
    "myCat['size'] = 'fine'\n",
    "myCat"
   ]
  },
  {
   "cell_type": "markdown",
   "id": "6d273944-e1d4-453e-956a-e291cc599def",
   "metadata": {},
   "source": [
    "## check existence"
   ]
  },
  {
   "cell_type": "code",
   "execution_count": 9,
   "id": "3303d506-5bcd-4115-ac24-4597f0bd35b0",
   "metadata": {},
   "outputs": [
    {
     "data": {
      "text/plain": [
       "True"
      ]
     },
     "execution_count": 9,
     "metadata": {},
     "output_type": "execute_result"
    }
   ],
   "source": [
    "spam = {'name': 'Zophie', 'age': 7}\n",
    "'name' in spam.keys()       # true\n",
    "'Zophie' in spam.values()   # true"
   ]
  },
  {
   "cell_type": "markdown",
   "id": "2d5af1b8-c890-4cd7-a950-fabf42a5dd61",
   "metadata": {},
   "source": [
    "## `setdefault()` vs `get()` - set the default value if null\n",
    "\n",
    "- `setdefault()` will set **and update the dict**.\n",
    "- `get(key)` will get the value, but it **won't** update the dict"
   ]
  },
  {
   "cell_type": "code",
   "execution_count": 10,
   "id": "7df54ba2-7c21-45ad-a393-eb5d5ae43774",
   "metadata": {},
   "outputs": [
    {
     "data": {
      "text/plain": [
       "20"
      ]
     },
     "execution_count": 10,
     "metadata": {},
     "output_type": "execute_result"
    }
   ],
   "source": [
    "ham = {}\n",
    "price = ham.get(\"price\", 20)\n",
    "price"
   ]
  },
  {
   "cell_type": "code",
   "execution_count": 11,
   "id": "91df3bd8-ead1-4464-b675-4b34b09d6ba8",
   "metadata": {},
   "outputs": [
    {
     "data": {
      "text/plain": [
       "'best!'"
      ]
     },
     "execution_count": 11,
     "metadata": {},
     "output_type": "execute_result"
    }
   ],
   "source": [
    "poultry = ham.setdefault('Pork', 'best!')\n",
    "poultry"
   ]
  },
  {
   "cell_type": "markdown",
   "id": "4f264515-918c-4599-be9c-0cf9dca966d5",
   "metadata": {},
   "source": [
    "And when print out the dict, the price is not there"
   ]
  },
  {
   "cell_type": "code",
   "execution_count": 12,
   "id": "eaf146ed-7bb7-444f-ab94-1ec398ac2046",
   "metadata": {},
   "outputs": [
    {
     "data": {
      "text/plain": [
       "{'Pork': 'best!'}"
      ]
     },
     "execution_count": 12,
     "metadata": {},
     "output_type": "execute_result"
    }
   ],
   "source": [
    "ham"
   ]
  },
  {
   "cell_type": "code",
   "execution_count": null,
   "id": "f54638e5-1c3f-4256-bf83-14ee3ea657b3",
   "metadata": {},
   "outputs": [],
   "source": []
  }
 ],
 "metadata": {
  "kernelspec": {
   "display_name": "Python 3 (ipykernel)",
   "language": "python",
   "name": "python3"
  },
  "language_info": {
   "codemirror_mode": {
    "name": "ipython",
    "version": 3
   },
   "file_extension": ".py",
   "mimetype": "text/x-python",
   "name": "python",
   "nbconvert_exporter": "python",
   "pygments_lexer": "ipython3",
   "version": "3.10.8"
  }
 },
 "nbformat": 4,
 "nbformat_minor": 5
}
