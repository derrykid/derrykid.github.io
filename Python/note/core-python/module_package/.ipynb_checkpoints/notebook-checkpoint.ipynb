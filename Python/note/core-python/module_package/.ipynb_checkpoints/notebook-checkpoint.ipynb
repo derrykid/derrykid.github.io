{
 "cells": [
  {
   "cell_type": "code",
   "execution_count": 1,
   "id": "fb831888-568a-4d2d-b522-9484a89a923f",
   "metadata": {},
   "outputs": [
    {
     "data": {
      "text/html": [
       "\n",
       "<style>\n",
       "    .jp-Cell-inputWrapper:has(.jp-MarkdownOutput) .jp-RenderedMarkdown {\n",
       "        border-style: dashed hidden hidden hidden;\n",
       "        border-color: red;\n",
       "    }\n",
       "</style>\n"
      ],
      "text/plain": [
       "<IPython.core.display.HTML object>"
      ]
     },
     "execution_count": 1,
     "metadata": {},
     "output_type": "execute_result"
    }
   ],
   "source": [
    "from IPython.core.display import HTML\n",
    "\n",
    "HTML(\n",
    "    \"\"\"\n",
    "<style>\n",
    "    .jp-Cell-inputWrapper:has(.jp-MarkdownOutput) .jp-RenderedMarkdown {\n",
    "        border-style: dashed hidden hidden hidden;\n",
    "        border-color: red;\n",
    "    }\n",
    "</style>\n",
    "\"\"\"\n",
    ")"
   ]
  },
  {
   "cell_type": "markdown",
   "id": "7f9f20b4-6b3f-40aa-9ef2-562153cf33d3",
   "metadata": {},
   "source": [
    "# module, package, and class\n",
    "\n",
    "- module: it's any `.py` script. Any single is considered as a module\n",
    "- package: a collection of module(s) along with `__init__.py`\n",
    "\n",
    "Tree view of current directory:\n",
    "```\n",
    ".\n",
    "├── module_package.ipynb\n",
    "├── package_and_modules\n",
    "│   ├── carspackage\n",
    "│   │   ├── cars.py\n",
    "│   │   ├── __init__.py\n",
    "│   │   ├── __main__.py\n",
    "│   │   └── suv.py\n",
    "│   │     \n",
    "│   └── cars.py\n",
    "│\n",
    "└── rabbit.py\n",
    "```"
   ]
  },
  {
   "cell_type": "markdown",
   "id": "6cc57aab-7e2d-486e-bd05-2f2849fa0c34",
   "metadata": {},
   "source": [
    "## module\n",
    "Under current directory, there is a `rabbit.py` script. \n",
    "Inside, there's a class `Rabbit`. It's consider a module:"
   ]
  },
  {
   "cell_type": "code",
   "execution_count": 2,
   "id": "dac15d0a-325f-4359-97fd-ed05baee7a09",
   "metadata": {},
   "outputs": [
    {
     "data": {
      "text/plain": [
       "module"
      ]
     },
     "execution_count": 2,
     "metadata": {},
     "output_type": "execute_result"
    }
   ],
   "source": [
    "import rabbit\n",
    "\n",
    "type(rabbit)"
   ]
  },
  {
   "cell_type": "markdown",
   "id": "a4bfcbad-09f8-478e-a7b6-5da895e65dd2",
   "metadata": {},
   "source": [
    "We are sometimes more interested in how to create an object from the class, in that regard:\n",
    "\n",
    "`obj = module.Class(args)`"
   ]
  },
  {
   "cell_type": "code",
   "execution_count": 3,
   "id": "9491526a-e986-4059-acf0-d2344a91c7da",
   "metadata": {},
   "outputs": [
    {
     "data": {
      "text/plain": [
       "A rabbit of color: white"
      ]
     },
     "execution_count": 3,
     "metadata": {},
     "output_type": "execute_result"
    }
   ],
   "source": [
    "hare = rabbit.Rabbit(color=\"white\")\n",
    "hare"
   ]
  },
  {
   "cell_type": "markdown",
   "id": "89a240b2-724c-4697-b71c-79d91ce7a8dc",
   "metadata": {},
   "source": [
    "## A module inside a directory (not a package!)\n",
    "under the directory `package_and_modules`, there is a py script:\n",
    "- `cars.py`, a single class `Car` inside\n",
    "\n",
    "```\n",
    ".\n",
    "├── module_package.ipynb\n",
    "├── package_and_modules\n",
    "│   ├── carspackage\n",
    "│   │   ├── cars.py\n",
    "│   │   ├── __init__.py\n",
    "│   │   ├── __main__.py\n",
    "│   │   └── suv.py\n",
    "│   │     \n",
    "│   └── cars.py\n",
    "│\n",
    "└── rabbit.py\n",
    "```\n",
    "\n",
    "We can make use of `from` keyword:\n",
    "```\n",
    "from package import module\n",
    "```"
   ]
  },
  {
   "cell_type": "code",
   "execution_count": 4,
   "id": "41acdf49-f134-4811-8378-da4016af3a31",
   "metadata": {},
   "outputs": [
    {
     "data": {
      "text/plain": [
       "Make Lexus, model: Lx"
      ]
     },
     "execution_count": 4,
     "metadata": {},
     "output_type": "execute_result"
    }
   ],
   "source": [
    "from package_and_modules import cars\n",
    "\n",
    "car = cars.Car(make=\"Lexus\", model=\"Lx\")\n",
    "car"
   ]
  },
  {
   "cell_type": "markdown",
   "id": "33554341-8e43-4570-95e6-508d46be714d",
   "metadata": {},
   "source": [
    "### from module import the class\n",
    "\n",
    "To remove the preceding `module.Class()`:\n",
    "```python\n",
    "from package.module import Class\n",
    "```"
   ]
  },
  {
   "cell_type": "code",
   "execution_count": 5,
   "id": "b0d3d333-37c4-4aad-8aec-c468e2eb81b6",
   "metadata": {},
   "outputs": [
    {
     "data": {
      "text/plain": [
       "Make Lambo, model: supercar"
      ]
     },
     "execution_count": 5,
     "metadata": {},
     "output_type": "execute_result"
    }
   ],
   "source": [
    "from package_and_modules.cars import Car\n",
    "\n",
    "supercar = Car(\"Lambo\", model=\"supercar\")\n",
    "supercar"
   ]
  },
  {
   "cell_type": "markdown",
   "id": "ac4f631e-f1b0-45d7-8f4b-3dd69b6eca86",
   "metadata": {},
   "source": [
    "## package"
   ]
  },
  {
   "cell_type": "markdown",
   "id": "c4a5e9d1-5029-468a-b1c7-a87e3d726f09",
   "metadata": {},
   "source": [
    "> package: a collection of module(s) along with `__init__.py`\n",
    "\n",
    "We have a directory `carspackage/` along with `__init__.py`. This is considered a python package:\n",
    "\n",
    "```\n",
    "carspackage/\n",
    "|\n",
    "├── cars.py\n",
    "├── __init__.py\n",
    "├── __main__.py\n",
    "└── suv.py\n",
    "```"
   ]
  },
  {
   "cell_type": "code",
   "execution_count": 6,
   "id": "07444643-3194-48d7-9949-3d5691ebb75e",
   "metadata": {},
   "outputs": [
    {
     "name": "stdout",
     "output_type": "stream",
     "text": [
      "/home/derry/Python/note/core-python/module_package/package_and_modules\n"
     ]
    }
   ],
   "source": [
    "%cd package_and_modules/"
   ]
  },
  {
   "cell_type": "code",
   "execution_count": 7,
   "id": "8ae7659e-381a-4e2e-b279-8ada75e6f5dc",
   "metadata": {},
   "outputs": [
    {
     "name": "stdout",
     "output_type": "stream",
     "text": [
      "I am outside the guard!\n",
      "SUV Init success!!\n"
     ]
    }
   ],
   "source": [
    "from carspackage import suv\n",
    "\n",
    "car = suv.SUV(\"suv\", \"ranger\")"
   ]
  },
  {
   "cell_type": "markdown",
   "id": "a2746344-7b5c-4128-8d01-6df2260a3eec",
   "metadata": {},
   "source": [
    "### Run the package, `__main__.py` is the starting point\n",
    "\n",
    "Instead of running `python myscript.py`, you can also run the package\n",
    "`python {package_name}`\n",
    "\n",
    "`__main__.py` will be the starting point"
   ]
  },
  {
   "cell_type": "code",
   "execution_count": 8,
   "id": "c57297f8-1c59-49f9-9dd0-05bd1ebfffcf",
   "metadata": {},
   "outputs": [
    {
     "name": "stdout",
     "output_type": "stream",
     "text": [
      "__name__:  cars\n",
      "I am outside the guard!\n",
      "Make is Toyota, Model is RAV4\n",
      "\n",
      "---------------------------\n",
      "\n",
      "\n",
      "SUV Init success!!\n",
      "Make is Lexus, Model is Renger\n",
      "\n",
      "---------------------------\n",
      "\n",
      "\n"
     ]
    }
   ],
   "source": [
    "!python carspackage"
   ]
  },
  {
   "cell_type": "markdown",
   "id": "08424c43-a4b0-4bdc-a1cb-0c893aed9d3b",
   "metadata": {},
   "source": [
    "## Difference of `__init__.py` and ` __main__.py`\n",
    "\n",
    "- `__init__.py` is run when **you import the module.**\n",
    "- `__main__.py` is run when **you directly run the module.**\n",
    "\n",
    "Again, Python recognize the directory with `__init__.py` as a module.\n",
    "\n",
    "Tree view\n",
    "```\n",
    "./app\n",
    "├── cryingout.py\n",
    "├── __init__.py\n",
    "└── __main__.py\n",
    "```\n",
    "\n",
    "From parent directory:\n",
    "```bash\n",
    "python app  # this will run __main__.py\n",
    "```\n",
    "\n",
    "In Python shell:\n",
    "```python\n",
    ">>> import app  # this will run __init__.py\n",
    ">>>\n",
    "```"
   ]
  },
  {
   "cell_type": "markdown",
   "id": "712733e1-998d-44a5-9bc8-c646e90ad8c4",
   "metadata": {
    "jp-MarkdownHeadingCollapsed": true,
    "tags": []
   },
   "source": [
    "## `__init__.py` use case\n",
    "\n",
    "`__init__.py` is run when you import the python module. For example:\n",
    "```python\n",
    ">>> import pandas as pd\n",
    "```\n",
    "\n",
    "When import `pandas` package, the `pandas.__init__.py` will run. As the name suggests, it initializes. So inside that, you can initialize any global variables, etc."
   ]
  },
  {
   "cell_type": "markdown",
   "id": "ec795dee-3e1b-496c-9d1f-2c7b27b13076",
   "metadata": {},
   "source": []
  }
 ],
 "metadata": {
  "kernelspec": {
   "display_name": "Python 3 (ipykernel)",
   "language": "python",
   "name": "python3"
  },
  "language_info": {
   "codemirror_mode": {
    "name": "ipython",
    "version": 3
   },
   "file_extension": ".py",
   "mimetype": "text/x-python",
   "name": "python",
   "nbconvert_exporter": "python",
   "pygments_lexer": "ipython3",
   "version": "3.10.8"
  }
 },
 "nbformat": 4,
 "nbformat_minor": 5
}
