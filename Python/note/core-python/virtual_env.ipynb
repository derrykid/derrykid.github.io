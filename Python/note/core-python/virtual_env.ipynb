{
 "cells": [
  {
   "cell_type": "markdown",
   "id": "f4cba49a-d872-4922-ac53-74d3d1849612",
   "metadata": {},
   "source": [
    "# virtual environment (venv)\n",
    "\n",
    "[article](https://medium.com/@dakota.lillie/an-introduction-to-virtual-environments-in-python-ce16cda92853)\n",
    "\n",
    "Virtual environment works like chroot in Linux. You create a directory, and all the dependencies from your machine along with binary of python, etc."
   ]
  },
  {
   "cell_type": "markdown",
   "id": "0495afd0-5a82-4796-a18a-945594a03bfd",
   "metadata": {},
   "source": [
    "## Create a venv\n",
    "\n",
    "1. Create a directory\n",
    "2. go into directory\n",
    "3. run the `venv` module inside it to setup\n",
    "```bash\n",
    "$ mkdir my-env/\n",
    "$ cd my-env/\n",
    "\n",
    "$ python -m venv my-env\n",
    "```\n",
    "\n",
    "Once done, you'd gain a directory structure similar to:\n",
    "```bash\n",
    "./my-env/\n",
    "│ \n",
    "├── bin\n",
    "│   ├── activate\n",
    "│   ├── activate.csh\n",
    "│   ├── activate.fish\n",
    "│   ├── easy_install\n",
    "│   ├── easy_install-3.6\n",
    "│   ├── pip\n",
    "│   ├── pip3\n",
    "│   ├── pip3.6\n",
    "│   ├── python -> python3.6\n",
    "│   ├── python3 -> python3.6\n",
    "├── include\n",
    "├── lib\n",
    "│   └── python3.6\n",
    "│       └── site-packages/*\n",
    "└── pyvenv.cfg\n",
    "```"
   ]
  },
  {
   "cell_type": "markdown",
   "id": "4b15d955-5535-4aaf-8ea6-96b6ffffbf19",
   "metadata": {},
   "source": [
    "## Activate the venv\n",
    "\n",
    "```bash\n",
    ". my-env/bin/activate\n",
    "\n",
    "# or\n",
    "source my-env/bin/activate\n",
    "```\n",
    "\n",
    "Running well!\n",
    "```bash\n",
    "(my-first-env) [derry@Man-x1 virtualenv]$ \n",
    "```\n",
    "\n",
    "Now you have a virtual environment."
   ]
  },
  {
   "cell_type": "markdown",
   "id": "fae90f60-6870-4874-8867-b8274ad4f9c7",
   "metadata": {},
   "source": [
    "## deactivate the venv\n",
    "\n",
    "```bash\n",
    "deactivate\n",
    "```"
   ]
  },
  {
   "cell_type": "code",
   "execution_count": null,
   "id": "6784c5a7-3741-4dfa-a40f-111bc31b5e44",
   "metadata": {},
   "outputs": [],
   "source": []
  }
 ],
 "metadata": {
  "kernelspec": {
   "display_name": "Python 3 (ipykernel)",
   "language": "python",
   "name": "python3"
  },
  "language_info": {
   "codemirror_mode": {
    "name": "ipython",
    "version": 3
   },
   "file_extension": ".py",
   "mimetype": "text/x-python",
   "name": "python",
   "nbconvert_exporter": "python",
   "pygments_lexer": "ipython3",
   "version": "3.10.8"
  }
 },
 "nbformat": 4,
 "nbformat_minor": 5
}
