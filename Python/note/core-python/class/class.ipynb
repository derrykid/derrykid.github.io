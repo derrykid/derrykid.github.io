{
 "cells": [
  {
   "cell_type": "code",
   "execution_count": 8,
   "id": "6c612bd1-0098-41ba-806a-11fd77da8033",
   "metadata": {},
   "outputs": [
    {
     "data": {
      "text/html": [
       "\n",
       "<style>\n",
       "    .jp-Cell-inputWrapper:has(.jp-MarkdownOutput) .jp-RenderedMarkdown {\n",
       "        border-style: dashed hidden hidden hidden;\n",
       "        border-color: red;\n",
       "    }\n",
       "</style>\n"
      ],
      "text/plain": [
       "<IPython.core.display.HTML object>"
      ]
     },
     "execution_count": 8,
     "metadata": {},
     "output_type": "execute_result"
    }
   ],
   "source": [
    "from IPython.core.display import HTML\n",
    "\n",
    "HTML(\n",
    "    \"\"\"\n",
    "<style>\n",
    "    .jp-Cell-inputWrapper:has(.jp-MarkdownOutput) .jp-RenderedMarkdown {\n",
    "        border-style: dashed hidden hidden hidden;\n",
    "        border-color: red;\n",
    "    }\n",
    "</style>\n",
    "\"\"\"\n",
    ")"
   ]
  },
  {
   "cell_type": "markdown",
   "id": "f9a7835e-3f5c-4d74-a9bb-d9aa719ba48d",
   "metadata": {},
   "source": [
    "# Class"
   ]
  },
  {
   "cell_type": "markdown",
   "id": "891e1682-77c0-4193-b0bd-81e2f64ac784",
   "metadata": {},
   "source": [
    "## Class definition"
   ]
  },
  {
   "cell_type": "code",
   "execution_count": 20,
   "id": "e3ae2c3f-16b6-4434-b495-c294a79ea150",
   "metadata": {},
   "outputs": [],
   "source": [
    "# this is okay\n",
    "class Boss:\n",
    "    def __init__(self):\n",
    "        pass\n",
    "    \n",
    "class Worker():\n",
    "    def __init__(self):\n",
    "        pass\n",
    "    \n",
    "    def work(self):\n",
    "        print('Working define from super class')\n"
   ]
  },
  {
   "cell_type": "markdown",
   "id": "b6201ff3-ae14-43e0-9a61-8f750c9d8acf",
   "metadata": {},
   "source": [
    "### Subclass"
   ]
  },
  {
   "cell_type": "code",
   "execution_count": 21,
   "id": "8aa2e6c3-9a56-4522-be2e-e57368aa9511",
   "metadata": {},
   "outputs": [
    {
     "name": "stdout",
     "output_type": "stream",
     "text": [
      "Working define from super class\n",
      "Working partime\n"
     ]
    }
   ],
   "source": [
    "# use this when subclassing\n",
    "class Part_time(Worker):\n",
    "    def __init__(self):\n",
    "        pass\n",
    "    \n",
    "    def pt_working(self):\n",
    "        print('Working partime')\n",
    "        \n",
    "jeff = Part_time()\n",
    "jeff.work()\n",
    "jeff.pt_working()"
   ]
  },
  {
   "cell_type": "markdown",
   "id": "cddaa254-b61d-45f0-b41e-43f83ee72b73",
   "metadata": {},
   "source": [
    "## Class attributes"
   ]
  },
  {
   "cell_type": "code",
   "execution_count": 2,
   "id": "94ff739d-21f3-4137-9356-d7f5fefafb58",
   "metadata": {},
   "outputs": [
    {
     "name": "stdout",
     "output_type": "stream",
     "text": [
      "1\n",
      "10\n"
     ]
    }
   ],
   "source": [
    "class Student:\n",
    "    number = 10\n",
    "    college_name = \"atu\"\n",
    "    \n",
    "    def __init__(self, year):\n",
    "        self.year = year\n",
    "    \n",
    "derry = Student(1)\n",
    "print(derry.year)\n",
    "print(derry.number)"
   ]
  },
  {
   "cell_type": "markdown",
   "id": "876478d3-fa19-481c-9052-6686da32b516",
   "metadata": {},
   "source": [
    "## `Self` parameter is basically `this`\n",
    "\n",
    "`this` exists in many languages, `Self` works like that way. Plus, you can use any name to replace `Self` as long as it's the first parameter of the function/method."
   ]
  },
  {
   "cell_type": "code",
   "execution_count": 10,
   "id": "f6f50595-e0d2-48cb-9dc6-9b3fcdb19dc1",
   "metadata": {},
   "outputs": [
    {
     "name": "stdout",
     "output_type": "stream",
     "text": [
      "Razor\n"
     ]
    }
   ],
   "source": [
    "class Keyboard(object):\n",
    "    def __init__(custom_name, name):\n",
    "        custom_name.name = name\n",
    "        \n",
    "    def __str__(abc):\n",
    "        return abc.name\n",
    "    \n",
    "razor = Keyboard('Razor')\n",
    "print(razor)"
   ]
  },
  {
   "cell_type": "markdown",
   "id": "afc04a06-e53e-4917-bccd-6c93db75bb67",
   "metadata": {},
   "source": [
    "## Constructor: `__init__()`"
   ]
  },
  {
   "cell_type": "code",
   "execution_count": 4,
   "id": "43a3e819-b4c4-4374-83e3-30e3170a4e65",
   "metadata": {},
   "outputs": [],
   "source": [
    "class Professor:\n",
    "    def __init__(self, name, age):\n",
    "        self.name = name\n",
    "        self.age = age\n",
    "        \n",
    "eoghan = Professor('Eoghan', 50)"
   ]
  },
  {
   "cell_type": "markdown",
   "id": "a73280bb-5baa-440b-a425-7cba4a4a4ed9",
   "metadata": {},
   "source": [
    "The `self.name` is the attributes. To modify it, simply do:"
   ]
  },
  {
   "cell_type": "code",
   "execution_count": 5,
   "id": "794dbb51-4de1-404a-b95e-9fdd65b36ed8",
   "metadata": {},
   "outputs": [],
   "source": [
    "eoghan.age = 46"
   ]
  },
  {
   "cell_type": "markdown",
   "id": "3d61ccb2-b3de-48fb-b901-64c7be0b7135",
   "metadata": {},
   "source": [
    "## string representation: `__str__()` and `__repr__()`\n",
    "\n",
    "- `__str()__` is for end user\n",
    "- `__repre__()` is mainly for debugging purposes"
   ]
  },
  {
   "cell_type": "code",
   "execution_count": 6,
   "id": "a58f236e-675b-4dc3-865c-8bfb2891ecaa",
   "metadata": {},
   "outputs": [
    {
     "name": "stdout",
     "output_type": "stream",
     "text": [
      "Bag name is Navy bag\n"
     ]
    }
   ],
   "source": [
    "class Bag:\n",
    "    def __init__(self, name):\n",
    "        self.name = name\n",
    "        \n",
    "    def __str__(self):\n",
    "        return f\"Bag name is {self.name}\"\n",
    "    \n",
    "    \n",
    "backpack = Bag('Navy bag')\n",
    "print(backpack)"
   ]
  },
  {
   "cell_type": "markdown",
   "id": "122efb17-e399-41f6-9f62-1d86adf175af",
   "metadata": {},
   "source": [
    "## Object method"
   ]
  },
  {
   "cell_type": "code",
   "execution_count": 7,
   "id": "c92d70aa-8c71-475f-aeef-ef5c2a9b4ac3",
   "metadata": {},
   "outputs": [
    {
     "name": "stdout",
     "output_type": "stream",
     "text": [
      "Sit on a chair\n"
     ]
    }
   ],
   "source": [
    "class Chair:\n",
    "    def sit(self):\n",
    "        print('Sit on a chair')\n",
    "        \n",
    "chair = Chair()\n",
    "chair.sit()"
   ]
  },
  {
   "cell_type": "markdown",
   "id": "c27e2e60-86ca-46c7-927b-8be03411f65a",
   "metadata": {},
   "source": [
    "## docstring - documentation\n",
    "\n",
    "Works for method, function, class\n",
    "\n",
    "The docstring must declare before the code. It can be access by `__doc__`"
   ]
  },
  {
   "cell_type": "code",
   "execution_count": 4,
   "id": "56b1f9d9-323d-406f-a529-bcdfd81d791f",
   "metadata": {},
   "outputs": [
    {
     "name": "stdout",
     "output_type": "stream",
     "text": [
      "\n",
      "    This is doctor class\n",
      "    \n",
      "\n",
      "        make appointment\n",
      "        \n"
     ]
    }
   ],
   "source": [
    "class Doctor:\n",
    "    \"\"\"\n",
    "    This is doctor class\n",
    "    \"\"\"\n",
    "    \n",
    "    def __init__(self):\n",
    "        pass\n",
    "    \n",
    "    def appoint(self):\n",
    "        \"\"\"\n",
    "        make appointment\n",
    "        \"\"\"\n",
    "        pass\n",
    "    \n",
    "    \n",
    "print(Doctor.__doc__)\n",
    "print(Doctor.appoint.__doc__)"
   ]
  },
  {
   "cell_type": "code",
   "execution_count": null,
   "id": "cab52e07-ee22-4514-b138-345eba62e7ad",
   "metadata": {},
   "outputs": [],
   "source": []
  }
 ],
 "metadata": {
  "kernelspec": {
   "display_name": "Python 3 (ipykernel)",
   "language": "python",
   "name": "python3"
  },
  "language_info": {
   "codemirror_mode": {
    "name": "ipython",
    "version": 3
   },
   "file_extension": ".py",
   "mimetype": "text/x-python",
   "name": "python",
   "nbconvert_exporter": "python",
   "pygments_lexer": "ipython3",
   "version": "3.10.8"
  }
 },
 "nbformat": 4,
 "nbformat_minor": 5
}
