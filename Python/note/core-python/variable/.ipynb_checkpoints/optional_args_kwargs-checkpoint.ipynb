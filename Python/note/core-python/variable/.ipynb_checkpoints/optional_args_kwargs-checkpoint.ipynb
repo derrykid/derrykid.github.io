{
 "cells": [
  {
   "cell_type": "markdown",
   "id": "514c8ef8-e20f-40c5-8bbf-2e627622d89b",
   "metadata": {},
   "source": [
    "[source](https://towardsdatascience.com/understanding-args-and-kwargs-in-python-321937f49c5b)\n",
    "- `*args` - used to pass in variable number of arguments\n",
    "- `**kwargs` - pass a *keywarded variable*, like key-value pair"
   ]
  },
  {
   "cell_type": "markdown",
   "id": "847797f7-0b78-428a-9369-e752a1d2c930",
   "metadata": {},
   "source": [
    "## `*args`"
   ]
  },
  {
   "cell_type": "code",
   "execution_count": 24,
   "id": "a0898d4d-adbe-48fa-9620-f70767980667",
   "metadata": {},
   "outputs": [
    {
     "name": "stdout",
     "output_type": "stream",
     "text": [
      "Hi\n",
      "this\n",
      "is\n",
      "derry\n",
      "---------\n",
      "again\n",
      "('this', 'is', 'me')\n",
      "---------\n",
      "solved!\n",
      "this\n",
      "is\n",
      "me\n",
      "---------\n",
      "Ho\n",
      "this\n",
      "is\n",
      "me\n"
     ]
    }
   ],
   "source": [
    "def do_sth(x, *args):\n",
    "    print(x)\n",
    "    for i in args:\n",
    "        print(i)\n",
    "        \n",
    "do_sth(\"Hi\", \"this\", \"is\", \"derry\")\n",
    "print('---------')\n",
    "\n",
    "# However, this doesn't work because Python will wrap the `input`\n",
    "# with additional tuple wrapper\n",
    "inputs = (\"this\", \"is\", \"me\")\n",
    "do_sth(\"again\", inputs)\n",
    "\n",
    "print('---------')\n",
    "# to bypass:\n",
    "do_sth(\"solved!\", *inputs)\n",
    "\n",
    "# or modify the method:\n",
    "print('---------')\n",
    "def do_sth_2(x, *args):\n",
    "    print(x)\n",
    "    for i in args:\n",
    "        for j in i:\n",
    "            print(j)\n",
    "            \n",
    "do_sth_2(\"Ho\", inputs)"
   ]
  },
  {
   "cell_type": "markdown",
   "id": "72e8aa1c-7a15-4adb-999d-8a80004ce638",
   "metadata": {},
   "source": [
    "## `**kwargs`\n",
    "\n",
    "The *kw* stands for keyword. To make use of this, commonly see this implementation:\n",
    "\n",
    "```python\n",
    "do_another(5, 3, x=10)\n",
    "```"
   ]
  },
  {
   "cell_type": "markdown",
   "id": "d2c51c14-773c-4145-a3a6-8723a0e00e06",
   "metadata": {},
   "source": [
    "This is the use case of `**kwargs`"
   ]
  },
  {
   "cell_type": "code",
   "execution_count": 28,
   "id": "1721caf9-e622-4859-be82-ac1c6d2e0cc1",
   "metadata": {},
   "outputs": [
    {
     "name": "stdout",
     "output_type": "stream",
     "text": [
      "4\n",
      "key: x and value: hoho\n"
     ]
    }
   ],
   "source": [
    "def do_another(num1, num2, **kwargs):\n",
    "    print(num1 + num2)\n",
    "    for k, v in kwargs.items():\n",
    "        print(\"key: {} and value: {}\".format(k, v))\n",
    "        \n",
    "do_another(1, 3, x=\"hoho\")"
   ]
  },
  {
   "cell_type": "code",
   "execution_count": null,
   "id": "1c642624-b20d-4bc0-b3df-60ca5dd68c3a",
   "metadata": {},
   "outputs": [],
   "source": []
  }
 ],
 "metadata": {
  "kernelspec": {
   "display_name": "Python 3 (ipykernel)",
   "language": "python",
   "name": "python3"
  },
  "language_info": {
   "codemirror_mode": {
    "name": "ipython",
    "version": 3
   },
   "file_extension": ".py",
   "mimetype": "text/x-python",
   "name": "python",
   "nbconvert_exporter": "python",
   "pygments_lexer": "ipython3",
   "version": "3.10.7"
  }
 },
 "nbformat": 4,
 "nbformat_minor": 5
}
