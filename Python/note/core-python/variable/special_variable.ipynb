{
 "cells": [
  {
   "cell_type": "markdown",
   "id": "3d263f2e-7924-48d4-a67d-b2add09dfefd",
   "metadata": {},
   "source": [
    "# Python special variable\n",
    "\n",
    "- `__name__`: the start point will be assigned `__main__`, and other will be assign the file name\n",
    "- `__doc__`: the comment of that class/method"
   ]
  },
  {
   "cell_type": "markdown",
   "id": "de082c1c-570e-4380-b907-f202a6c9fbf7",
   "metadata": {},
   "source": [
    "## `__name__`\n",
    "\n",
    "Tree view of package `mypackage`:\n",
    "\n",
    "```\n",
    "mypackage/\n",
    "├── __init__.py\n",
    "├── __main__.py\n",
    "├── sheep.py\n",
    "└── wolf.py\n",
    "\n",
    "```"
   ]
  },
  {
   "cell_type": "markdown",
   "id": "7854d597-52ab-4b37-b041-27ef598f80ea",
   "metadata": {},
   "source": [
    "### start with package `python {package_name}`\n",
    "\n",
    "The python interpreter will start with `__main__.py` and from there, the `__name__` will be assgined value `__main__`. \n",
    "\n",
    "Then, when `import` any other modules, the interpreter goes inside that module, `__name__` will be assgned to that module name."
   ]
  },
  {
   "cell_type": "markdown",
   "id": "e4159430-78ac-42f6-9759-a64d9b7d33c2",
   "metadata": {},
   "source": [
    "---\n",
    "`__main__.py` file\n",
    "```python\n",
    "1| from wolf import Wolf\n",
    "2| print(\"I'm in __main__:\" + __name__)\n",
    "3| w = Wolf()\n",
    "```\n",
    "---\n",
    "`wolf.py` script\n",
    "```python\n",
    "1| class Wolf:\n",
    "2|    def __init__(self):\n",
    "3|        self.name = \"Wolf\"\n",
    "4|\n",
    "5|    def __repr__(self):\n",
    "6|        return self.name + \" a bad one.\"\n",
    "7|\n",
    "8| print(__name__)\n",
    "9|\n",
    "10| if __name__ == \"__main__\":\n",
    "11|    print(\"Calling me directly\")\n",
    "```\n",
    "---"
   ]
  },
  {
   "cell_type": "markdown",
   "id": "1c66a2c8-4db9-437b-94ec-527ba28b222a",
   "metadata": {},
   "source": [
    "in terminal run: `python mypackage`\n",
    "\n",
    "Interpreter will run the following:\n",
    "\n",
    "1. go to package `mypackage` and `__main__.py`\n",
    "1. before run anything, assign `__name__ = __main__` \n",
    "1. run the first line of `__main__.py`: `from wolf import Wolf`\n",
    "1. interpreter goes to `wolf.py`, now assign `__name__ = wolf`\n",
    "1. start walking through everything in `wolf.py`\n",
    "    1. from line 1... to line 8. `print(__name__)`\n",
    "    1. print `wolf` to the console\n",
    "    1. line 10, check if `__name__` is `__main__`, but it's `wolf` \n",
    "    1. back to `mypackage.__main__.py`\n",
    "1. assign `__name__` back to `__main__`\n",
    "1. run `__main__`.line 2: print to console `I'm in __main__:__main__`\n",
    "1. run `__main__`.line 3\n",
    "---"
   ]
  },
  {
   "cell_type": "markdown",
   "id": "f9e310fd-185a-4527-a2ab-1989169ecb80",
   "metadata": {},
   "source": [
    "### A guard in class - `if __name__ == \"__main__\"`\n",
    "\n",
    "The above snippet, in `Wolf` class:\n",
    "\n",
    "```python\n",
    "10| if __name__ == \"__main__\":\n",
    "11|    print(\"Calling me directly\")\n",
    "```\n",
    "This won't run, unless you run the script **directly.**\n",
    "\n",
    "`python wolf`\n",
    "\n",
    "Because that will set `__name__` to `__main__`!"
   ]
  },
  {
   "cell_type": "markdown",
   "id": "cd15b7ad-1f17-4fae-8190-e2731973b0af",
   "metadata": {},
   "source": [
    "## `__doc__`\n",
    "\n",
    "This contains the **first string** under the class/method definition.\n",
    "\n",
    "- `Myclass.__doc__`\n",
    "- `method.__doc__`"
   ]
  },
  {
   "cell_type": "code",
   "execution_count": 1,
   "id": "e3ff6d6c-fab0-48a8-8e6f-2a5e766466f4",
   "metadata": {},
   "outputs": [],
   "source": [
    "class MyClass:\n",
    "    \"\"\"\n",
    "    few words\n",
    "    to express\n",
    "    my feeling\n",
    "    \"\"\"\n",
    "    def __init__(self):\n",
    "        \"another string when init object\"\n",
    "        self.name = \"MyClass\""
   ]
  },
  {
   "cell_type": "markdown",
   "id": "e93a56c3-d071-447c-b7ef-49af37580201",
   "metadata": {},
   "source": [
    "Note that it is *string*, *not a comment*.\n",
    "\n",
    "Get the string and simply print that out:"
   ]
  },
  {
   "cell_type": "code",
   "execution_count": 2,
   "id": "4b6f00fa-b50d-4f9f-b0ae-07bdeac91496",
   "metadata": {},
   "outputs": [
    {
     "name": "stdout",
     "output_type": "stream",
     "text": [
      "\n",
      "    few words\n",
      "    to express\n",
      "    my feeling\n",
      "    \n",
      "another string when init object\n"
     ]
    }
   ],
   "source": [
    "print(MyClass.__doc__)\n",
    "print(MyClass.__init__.__doc__)"
   ]
  },
  {
   "cell_type": "code",
   "execution_count": null,
   "id": "3a52b12d-05ce-479a-958d-317cb8071a50",
   "metadata": {},
   "outputs": [],
   "source": []
  }
 ],
 "metadata": {
  "kernelspec": {
   "display_name": "Python 3 (ipykernel)",
   "language": "python",
   "name": "python3"
  },
  "language_info": {
   "codemirror_mode": {
    "name": "ipython",
    "version": 3
   },
   "file_extension": ".py",
   "mimetype": "text/x-python",
   "name": "python",
   "nbconvert_exporter": "python",
   "pygments_lexer": "ipython3",
   "version": "3.10.8"
  }
 },
 "nbformat": 4,
 "nbformat_minor": 5
}
