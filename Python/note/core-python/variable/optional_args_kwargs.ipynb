{
 "cells": [
  {
   "cell_type": "markdown",
   "id": "514c8ef8-e20f-40c5-8bbf-2e627622d89b",
   "metadata": {},
   "source": [
    "[source](https://towardsdatascience.com/understanding-args-and-kwargs-in-python-321937f49c5b)\n",
    "\n",
    "Both are optional. Means you can pass or not pass\n",
    "- `*args` - used to pass in variable number of arguments\n",
    "- `**kwargs` - pass a *keywarded variable*, like key-value pair"
   ]
  },
  {
   "cell_type": "markdown",
   "id": "847797f7-0b78-428a-9369-e752a1d2c930",
   "metadata": {},
   "source": [
    "## `*args`"
   ]
  },
  {
   "cell_type": "code",
   "execution_count": 1,
   "id": "a0898d4d-adbe-48fa-9620-f70767980667",
   "metadata": {},
   "outputs": [
    {
     "name": "stdout",
     "output_type": "stream",
     "text": [
      "Hi\n",
      "this\n",
      "is\n",
      "derry\n"
     ]
    }
   ],
   "source": [
    "def do_sth(x, *args):\n",
    "    print(x)\n",
    "    for i in args:\n",
    "        print(i)\n",
    "        \n",
    "do_sth(\"Hi\", \"this\", \"is\", \"derry\")"
   ]
  },
  {
   "cell_type": "markdown",
   "id": "44758ef9-8647-416e-bf8b-3bde55fca2bf",
   "metadata": {},
   "source": [
    "However, this doesn't work because Python will wrap the `input`\n",
    "with additional tuple wrapper"
   ]
  },
  {
   "cell_type": "code",
   "execution_count": 2,
   "id": "46d56979-464a-4851-83c2-12ef52e37efb",
   "metadata": {},
   "outputs": [
    {
     "name": "stdout",
     "output_type": "stream",
     "text": [
      "again\n",
      "this\n",
      "is\n",
      "me\n"
     ]
    }
   ],
   "source": [
    "inputs = (\"this\", \"is\", \"me\")\n",
    "do_sth(\"again\", *inputs)"
   ]
  },
  {
   "cell_type": "markdown",
   "id": "f2ecdbd2-522d-4665-8544-940329460e4b",
   "metadata": {},
   "source": [
    "To unpack the tuple/list, use `*args`"
   ]
  },
  {
   "cell_type": "code",
   "execution_count": 3,
   "id": "64ea971e-e1b5-4e85-8f18-d1cc1453e5d4",
   "metadata": {},
   "outputs": [
    {
     "name": "stdout",
     "output_type": "stream",
     "text": [
      "solved!\n",
      "this\n",
      "is\n",
      "me\n"
     ]
    }
   ],
   "source": [
    "do_sth(\"solved!\", *inputs)"
   ]
  },
  {
   "cell_type": "markdown",
   "id": "cd255960-3184-41e0-8ef5-6eb0d2a23b7f",
   "metadata": {},
   "source": [
    "or modify the method:"
   ]
  },
  {
   "cell_type": "code",
   "execution_count": 4,
   "id": "8fda0cc2-48e7-46d6-917a-f0cd7251b0a9",
   "metadata": {},
   "outputs": [
    {
     "name": "stdout",
     "output_type": "stream",
     "text": [
      "Ho\n",
      "this\n",
      "is\n",
      "me\n"
     ]
    }
   ],
   "source": [
    "def do_sth_2(x, *args):\n",
    "    print(x)\n",
    "    for i in args:\n",
    "        for j in i:\n",
    "            print(j)\n",
    "            \n",
    "do_sth_2(\"Ho\", inputs)"
   ]
  },
  {
   "cell_type": "markdown",
   "id": "72e8aa1c-7a15-4adb-999d-8a80004ce638",
   "metadata": {},
   "source": [
    "## `**kwargs`\n",
    "\n",
    "The *kw* stands for keyword. To make use of this, commonly see this implementation:\n",
    "\n",
    "```python\n",
    "do_another(5, 3, x=10)\n",
    "```"
   ]
  },
  {
   "cell_type": "markdown",
   "id": "d2c51c14-773c-4145-a3a6-8723a0e00e06",
   "metadata": {},
   "source": [
    "This is the use case of `**kwargs`"
   ]
  },
  {
   "cell_type": "code",
   "execution_count": 7,
   "id": "1721caf9-e622-4859-be82-ac1c6d2e0cc1",
   "metadata": {},
   "outputs": [
    {
     "name": "stdout",
     "output_type": "stream",
     "text": [
      "4\n",
      "key: x and value: hoho\n"
     ]
    }
   ],
   "source": [
    "def do_another(num1, num2, **kwargs):\n",
    "    print(num1 + num2)\n",
    "    for k, v in kwargs.items():\n",
    "        print(\"key: {} and value: {}\".format(k, v))\n",
    "        \n",
    "do_another(1, 3, x=\"hoho\")"
   ]
  },
  {
   "cell_type": "code",
   "execution_count": null,
   "id": "1c642624-b20d-4bc0-b3df-60ca5dd68c3a",
   "metadata": {},
   "outputs": [],
   "source": []
  }
 ],
 "metadata": {
  "kernelspec": {
   "display_name": "Python 3 (ipykernel)",
   "language": "python",
   "name": "python3"
  },
  "language_info": {
   "codemirror_mode": {
    "name": "ipython",
    "version": 3
   },
   "file_extension": ".py",
   "mimetype": "text/x-python",
   "name": "python",
   "nbconvert_exporter": "python",
   "pygments_lexer": "ipython3",
   "version": "3.10.8"
  }
 },
 "nbformat": 4,
 "nbformat_minor": 5
}
