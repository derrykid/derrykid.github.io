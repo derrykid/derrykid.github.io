{
 "cells": [
  {
   "cell_type": "markdown",
   "id": "c32c8ee4-c2ce-4961-8165-5b6099696d42",
   "metadata": {},
   "source": [
    "## use `sys` to access another directory module\n",
    "\n",
    "Tree view\n",
    "```\n",
    ".\n",
    "├── aldi_notebooks\n",
    "│   ├── parse_product.ipynb\n",
    "│   └── search_results.ipynb\n",
    "├── crawler\n",
    "    ├── AldiCrawler.py\n",
    "    ├── Crawler.py\n",
    "    └── TescoCrawler.py\n",
    "```\n",
    "\n",
    "In directory `aldi_notebooks/`, in order to access `crawler/Crawler.py`, use:\n",
    "\n",
    "```python\n",
    "# in aldi_notebooks/\n",
    "import sys\n",
    "sys.path.append('../')\n",
    "```"
   ]
  },
  {
   "cell_type": "markdown",
   "id": "731b089b-7b4a-4a75-8409-2b1db9a99e72",
   "metadata": {},
   "source": [
    "## print source code"
   ]
  },
  {
   "cell_type": "markdown",
   "id": "75af426f-aa1b-4d1a-b100-bf7ac876a225",
   "metadata": {},
   "source": [
    "Use `inspect` module to print function or class"
   ]
  },
  {
   "cell_type": "code",
   "execution_count": 2,
   "id": "3904ea59-9642-4986-8fc9-cab22d7a660f",
   "metadata": {},
   "outputs": [
    {
     "name": "stdout",
     "output_type": "stream",
     "text": [
      "def foo():\n",
      "    print(20)\n",
      "\n"
     ]
    }
   ],
   "source": [
    "import inspect\n",
    "\n",
    "def foo():\n",
    "    print(20)\n",
    "    \n",
    "print(inspect.getsource(foo))"
   ]
  },
  {
   "cell_type": "markdown",
   "id": "c8e790a4-1f4e-4474-952f-1bb2736be6a0",
   "metadata": {},
   "source": [
    "## Get object instance by `vars()`\n",
    "\n",
    "`vars()` returns the dict view of *an object's variable name and its value*.\n",
    "Although `obj.__dict__` does the same, `vars()` is preferred."
   ]
  },
  {
   "cell_type": "code",
   "execution_count": 3,
   "id": "9d5bc873-5687-4061-a2f8-65689a24c5c9",
   "metadata": {},
   "outputs": [
    {
     "data": {
      "text/plain": [
       "{'name': 'John', 'age': 33}"
      ]
     },
     "execution_count": 3,
     "metadata": {},
     "output_type": "execute_result"
    }
   ],
   "source": [
    "class MyVars:\n",
    "    def __init__(self, name, age):\n",
    "        self.name = name\n",
    "        self.age = age\n",
    "        \n",
    "john = MyVars(\"John\", 33)\n",
    "vars(john)"
   ]
  },
  {
   "cell_type": "code",
   "execution_count": 5,
   "id": "6b75441f-2818-412e-b0f1-2fd6c4b66c11",
   "metadata": {},
   "outputs": [
    {
     "data": {
      "text/plain": [
       "True"
      ]
     },
     "execution_count": 5,
     "metadata": {},
     "output_type": "execute_result"
    }
   ],
   "source": [
    "vars(john) is john.__dict__"
   ]
  },
  {
   "cell_type": "code",
   "execution_count": null,
   "id": "97c94cd3-18a4-4e88-b0f5-05c01f396384",
   "metadata": {},
   "outputs": [],
   "source": []
  }
 ],
 "metadata": {
  "kernelspec": {
   "display_name": "Python 3 (ipykernel)",
   "language": "python",
   "name": "python3"
  },
  "language_info": {
   "codemirror_mode": {
    "name": "ipython",
    "version": 3
   },
   "file_extension": ".py",
   "mimetype": "text/x-python",
   "name": "python",
   "nbconvert_exporter": "python",
   "pygments_lexer": "ipython3",
   "version": "3.10.8"
  }
 },
 "nbformat": 4,
 "nbformat_minor": 5
}
