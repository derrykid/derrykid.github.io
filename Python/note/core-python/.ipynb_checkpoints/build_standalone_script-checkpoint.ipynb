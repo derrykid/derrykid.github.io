{
 "cells": [
  {
   "cell_type": "markdown",
   "id": "69c2225f-edf5-4073-b764-00592614d7d4",
   "metadata": {},
   "source": [
    "# Build a stand-alone executable from Python files\n",
    "\n",
    "[source](http://blog.ablepear.com/2012/10/bundling-python-files-into-stand-alone.html)\n",
    "\n",
    "> Python added this feature in 2.5 that makes it possible to bundle up a directory full of Python code into a single executable file.\n",
    "\n",
    "Tree view\n",
    "```\n",
    "./app\n",
    "├── myscript.py\n",
    "└── __main__.py\n",
    "\n",
    "```\n",
    "\n",
    "When run this in command line:\n",
    "```bash\n",
    "$ python app\n",
    "```\n",
    "\n",
    "`__main__.py` will be run because it's calling directly by its directory name.\n",
    "\n",
    "Now we can create a zip file:\n",
    "```bash\n",
    "$ cd app\n",
    "$ zip -r ../app.zip *\n",
    "$ cd ..\n",
    "```\n",
    "\n",
    "In side the `app.zip`:\n",
    "```\n",
    "./app.zip\n",
    "├── myscript.py\n",
    "└── __main__.py\n",
    "```\n",
    "\n",
    "This is it! You can run the file by the following, it will run `__main__.py`.\n",
    "```\n",
    "$ python app.zip\n",
    "```\n",
    "\n",
    "One step further:\n",
    "```bash\n",
    "$ echo '#!/usr/bin/env python3' | cat - app.zip > app\n",
    "$ chmod a+x app\n",
    "\n",
    "# now you can run it as executable\n",
    "$ ./app\n",
    "```"
   ]
  },
  {
   "cell_type": "code",
   "execution_count": null,
   "id": "b7f97359-ead6-4abe-984e-c3bb39f996e1",
   "metadata": {},
   "outputs": [],
   "source": []
  }
 ],
 "metadata": {
  "kernelspec": {
   "display_name": "Python 3 (ipykernel)",
   "language": "python",
   "name": "python3"
  },
  "language_info": {
   "codemirror_mode": {
    "name": "ipython",
    "version": 3
   },
   "file_extension": ".py",
   "mimetype": "text/x-python",
   "name": "python",
   "nbconvert_exporter": "python",
   "pygments_lexer": "ipython3",
   "version": "3.10.8"
  }
 },
 "nbformat": 4,
 "nbformat_minor": 5
}
