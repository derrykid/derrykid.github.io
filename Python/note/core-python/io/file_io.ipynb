{
 "cells": [
  {
   "cell_type": "markdown",
   "id": "ba9f52e8-c050-4688-a6fb-504578fd6e35",
   "metadata": {},
   "source": [
    "# Open file with `with open() as...` - auto close the file"
   ]
  },
  {
   "cell_type": "code",
   "execution_count": 6,
   "id": "656c29db-b47e-4d4d-b487-a524b18659f3",
   "metadata": {},
   "outputs": [
    {
     "name": "stdout",
     "output_type": "stream",
     "text": [
      "this is a file\n",
      "that helps to\n",
      "do file io\n"
     ]
    }
   ],
   "source": [
    "with open('data.txt') as file_in:\n",
    "    content = file_in.read()\n",
    "    \n",
    "print(content)"
   ]
  },
  {
   "cell_type": "markdown",
   "id": "9be22aa3-5021-4af4-ad90-cdf9e22ba620",
   "metadata": {},
   "source": [
    "## Mode\n",
    "\n",
    "[stackoverflow more explain in details](https://stackoverflow.com/questions/1466000/difference-between-modes-a-a-w-w-and-r-in-built-in-open-function)\n",
    "\n",
    "r - Open a file for reading. (default)\n",
    "\n",
    "w - Open a file for writing. Creates a new file if it does not exist or truncates the file if it exists.\n",
    "\n",
    "x - Open a file for exclusive creation. If the file already exists, the operation fails.\n",
    "\n",
    "a - Open a file for appending at the end of the file without truncating it. Creates a new file if it does not exist. \n",
    "\n",
    "t - Open in text mode. (default) \n",
    "\n",
    "b - Open in binary mode.\n",
    "\n",
    "`+` - Open a file for updating (reading and writing)"
   ]
  },
  {
   "cell_type": "markdown",
   "id": "396f7e26-b970-4e67-91aa-c583c6895d39",
   "metadata": {},
   "source": [
    "## Read mode"
   ]
  },
  {
   "cell_type": "code",
   "execution_count": 7,
   "id": "a17b17a6-3246-463c-bc29-16709df9fcfe",
   "metadata": {},
   "outputs": [
    {
     "name": "stdout",
     "output_type": "stream",
     "text": [
      "this is a file\n",
      "that helps to\n",
      "do file io\n"
     ]
    }
   ],
   "source": [
    "with open('data.txt') as file_in:\n",
    "    content = file_in.read()\n",
    "    \n",
    "print(content)"
   ]
  },
  {
   "cell_type": "markdown",
   "id": "8b9205ed-6e47-4920-b2b5-6c9a6fcf7845",
   "metadata": {},
   "source": [
    "### `readline()`vs `readlines()` vs `read()`\n",
    "\n",
    "- `read()` - read to a big long string\n",
    "- `readline()` - iterator\n",
    "- `readlines()` - read everything into a list, sep by `\\n`\n"
   ]
  },
  {
   "cell_type": "code",
   "execution_count": 42,
   "id": "bbd03786-1323-406a-bedf-c7ebc74a5ccb",
   "metadata": {},
   "outputs": [
    {
     "name": "stdout",
     "output_type": "stream",
     "text": [
      "this is a file\n",
      "that helps to\n",
      "do file io\n",
      "this is a file\n",
      "\n",
      "that helps to\n",
      "\n",
      "do file io\n"
     ]
    }
   ],
   "source": [
    "with open(\"data.txt\", \"r\") as file:\n",
    "    line = file.readline()\n",
    "    while line:\n",
    "        # use strip() because the end of each line is \\n\n",
    "        # and print() will add \\n to it as well\n",
    "        print(line.strip())\n",
    "        line = file.readline()\n",
    "        \n",
    "        \n",
    "###\n",
    "### same as this\n",
    "###\n",
    "with open('data.txt') as file_in:\n",
    "    for l in file_in:\n",
    "        print(l)"
   ]
  },
  {
   "cell_type": "code",
   "execution_count": 37,
   "id": "e07a8ac8-6584-4889-90fc-8e8eda386b3a",
   "metadata": {},
   "outputs": [
    {
     "name": "stdout",
     "output_type": "stream",
     "text": [
      "['this is a file\\n', 'that helps to\\n', 'do file io']\n"
     ]
    }
   ],
   "source": [
    "with open('data.txt') as file_in:\n",
    "    o = file_in.readlines()\n",
    "    print(o)"
   ]
  },
  {
   "cell_type": "code",
   "execution_count": 38,
   "id": "baedc5cc-6073-49a1-ac85-22215e00f7a2",
   "metadata": {},
   "outputs": [
    {
     "name": "stdout",
     "output_type": "stream",
     "text": [
      "this is a file\n",
      "that helps to\n",
      "do file io\n"
     ]
    }
   ],
   "source": [
    "with open('data.txt') as file_in:\n",
    "    o = file_in.read()\n",
    "    print(o)"
   ]
  },
  {
   "cell_type": "markdown",
   "id": "3c6412af-a71e-4daa-837a-0c79569aee7d",
   "metadata": {},
   "source": [
    "## Write mode\n",
    "\n",
    "**This will erase the content.** If want to append, use `a`"
   ]
  },
  {
   "cell_type": "code",
   "execution_count": 14,
   "id": "085c1e11-07cc-4589-abcc-03ef9ec86da0",
   "metadata": {},
   "outputs": [],
   "source": [
    "with open('data1.txt', 'w') as file_out:\n",
    "    text = 'hello'\n",
    "    file_out.write(text)"
   ]
  },
  {
   "cell_type": "markdown",
   "id": "0906b194-3c15-44fa-a8be-a026d111c8ba",
   "metadata": {},
   "source": [
    "## Append mode"
   ]
  },
  {
   "cell_type": "code",
   "execution_count": 17,
   "id": "3e295a20-32a9-4897-a6be-269564420cef",
   "metadata": {},
   "outputs": [],
   "source": [
    "with open('data2.txt', 'a') as file_out:\n",
    "    text = 'hello'\n",
    "    file_out.write(text)"
   ]
  },
  {
   "cell_type": "code",
   "execution_count": null,
   "id": "55f55dfe-b811-40cb-b146-b314af717b27",
   "metadata": {},
   "outputs": [],
   "source": []
  }
 ],
 "metadata": {
  "kernelspec": {
   "display_name": "Python 3 (ipykernel)",
   "language": "python",
   "name": "python3"
  },
  "language_info": {
   "codemirror_mode": {
    "name": "ipython",
    "version": 3
   },
   "file_extension": ".py",
   "mimetype": "text/x-python",
   "name": "python",
   "nbconvert_exporter": "python",
   "pygments_lexer": "ipython3",
   "version": "3.10.8"
  }
 },
 "nbformat": 4,
 "nbformat_minor": 5
}
