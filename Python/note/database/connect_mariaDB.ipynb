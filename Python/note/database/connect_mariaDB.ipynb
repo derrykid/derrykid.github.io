{
 "cells": [
  {
   "cell_type": "markdown",
   "metadata": {},
   "source": [
    "# Connect to MySQL"
   ]
  },
  {
   "cell_type": "code",
   "execution_count": 1,
   "metadata": {},
   "outputs": [
    {
     "name": "stdout",
     "output_type": "stream",
     "text": [
      "(1, 'Kabul', 'AFG', 'Kabol', b'{\"Population\": 1780000}')\n"
     ]
    }
   ],
   "source": [
    "import mysql.connector\n",
    "from mysql.connector import Error\n",
    "\n",
    "try:\n",
    "    connection = mysql.connector.connect(host = 'localhost', \n",
    "                                 user = 'root', \n",
    "                                 password = 'root', \n",
    "                                 database=\"world_x\",\n",
    "                                 port = 3306)\n",
    "    \n",
    "    \n",
    "    if connection.is_connected():\n",
    "        cursor = connection.cursor()\n",
    "        cursor.execute(\"select * from city\")\n",
    "        record = cursor.fetchone()\n",
    "        print(record)\n",
    "        \n",
    "except Error as e:\n",
    "    print(f\"Error {e}\")\n",
    "    "
   ]
  },
  {
   "cell_type": "code",
   "execution_count": null,
   "metadata": {},
   "outputs": [],
   "source": []
  }
 ],
 "metadata": {
  "kernelspec": {
   "display_name": "Python 3 (ipykernel)",
   "language": "python",
   "name": "python3"
  },
  "language_info": {
   "codemirror_mode": {
    "name": "ipython",
    "version": 3
   },
   "file_extension": ".py",
   "mimetype": "text/x-python",
   "name": "python",
   "nbconvert_exporter": "python",
   "pygments_lexer": "ipython3",
   "version": "3.11.1"
  }
 },
 "nbformat": 4,
 "nbformat_minor": 1
}
