{
 "cells": [
  {
   "cell_type": "markdown",
   "id": "472ee091-0071-436d-bb8b-2f9b00d57082",
   "metadata": {},
   "source": [
    "# Python scripting\n",
    "\n",
    "## shebang\n",
    "includes this for the first line"
   ]
  },
  {
   "cell_type": "code",
   "execution_count": 4,
   "id": "3daf026f-c288-4e82-be6c-3ef66b2f5af1",
   "metadata": {},
   "outputs": [],
   "source": [
    "#! /usr/bin/env python3"
   ]
  },
  {
   "cell_type": "markdown",
   "id": "a562cc6b-b605-4937-8fee-de295ede40de",
   "metadata": {},
   "source": [
    "## ls"
   ]
  },
  {
   "cell_type": "code",
   "execution_count": null,
   "id": "f0e5972f-38aa-419d-a793-33d73aad8ad3",
   "metadata": {},
   "outputs": [],
   "source": [
    "import os\n",
    "os.listdir()"
   ]
  },
  {
   "cell_type": "markdown",
   "id": "a48c69a9-413d-4af9-bd5d-f1bc8d76f447",
   "metadata": {},
   "source": [
    "## cd"
   ]
  },
  {
   "cell_type": "code",
   "execution_count": null,
   "id": "545e8345-fa64-4a7f-93d1-074b80a41b21",
   "metadata": {},
   "outputs": [],
   "source": [
    "os.chdir('/home/derry')"
   ]
  },
  {
   "cell_type": "markdown",
   "id": "8ac25fc0-9cb1-4099-b097-e538ba1ce042",
   "metadata": {},
   "source": [
    "## pwd"
   ]
  },
  {
   "cell_type": "code",
   "execution_count": null,
   "id": "e7fe2a8d-7c71-4d7a-96e9-f727c86f23b5",
   "metadata": {},
   "outputs": [],
   "source": [
    "os.getcwd()"
   ]
  },
  {
   "cell_type": "markdown",
   "id": "70c37c63-73a8-48db-9837-eaf4e395fb83",
   "metadata": {},
   "source": [
    "## mkdir"
   ]
  },
  {
   "cell_type": "code",
   "execution_count": null,
   "id": "e4e4428d-fdab-4e3d-b400-85fcacaf1667",
   "metadata": {},
   "outputs": [],
   "source": [
    "os.mkdir('/tmp/newdir')"
   ]
  },
  {
   "cell_type": "markdown",
   "id": "5581303a-8f9b-4ae7-b960-3672a0329cad",
   "metadata": {},
   "source": [
    "## rm a file"
   ]
  },
  {
   "cell_type": "code",
   "execution_count": null,
   "id": "e6b11224-4c5e-4d5c-9241-bfc05da39e08",
   "metadata": {},
   "outputs": [],
   "source": [
    "os.remove('/path/to/file')"
   ]
  },
  {
   "cell_type": "markdown",
   "id": "2965ac83-3577-4eeb-bd82-f9afac51668b",
   "metadata": {},
   "source": [
    "## cp"
   ]
  },
  {
   "cell_type": "code",
   "execution_count": null,
   "id": "023f1523-1e9a-4b22-803a-e76475da5927",
   "metadata": {},
   "outputs": [],
   "source": [
    "import shutil\n",
    "\n",
    "# Set the source and destination file paths\n",
    "src_file = '/path/to/source/file'\n",
    "dst_file = '/path/to/destination/file'\n",
    "\n",
    "# Copy the file\n",
    "shutil.copy(src_file, dst_file)"
   ]
  },
  {
   "cell_type": "markdown",
   "id": "136772b0-9c12-4488-a5f1-946a2993e8d6",
   "metadata": {},
   "source": [
    "## mv\n",
    "\n",
    "rename or move"
   ]
  },
  {
   "cell_type": "code",
   "execution_count": null,
   "id": "61660e85-f9d2-4107-8f7d-c24aa4762ca5",
   "metadata": {},
   "outputs": [],
   "source": [
    "shutil.move(src_file, dst_file)"
   ]
  },
  {
   "cell_type": "markdown",
   "id": "000d45b6-1c8d-4d24-bb31-9879a2ed5142",
   "metadata": {},
   "source": [
    "## cat"
   ]
  },
  {
   "cell_type": "code",
   "execution_count": null,
   "id": "20874d49-9308-40d3-a84b-c51a830638d1",
   "metadata": {},
   "outputs": [],
   "source": [
    "with open('/path/to/file', 'r') as f:\n",
    "    contents = f.read()\n",
    "    print(contents)"
   ]
  },
  {
   "cell_type": "markdown",
   "id": "9ac37b1e-9906-42d8-8f1e-36357343652c",
   "metadata": {},
   "source": [
    "## subprocess\n",
    "\n",
    "1. pass by arguments\n",
    "2. or full string, but specify `shell=True`"
   ]
  },
  {
   "cell_type": "code",
   "execution_count": null,
   "id": "e14ae5f6-3b87-468f-a4f0-a0cbc89ae01c",
   "metadata": {},
   "outputs": [],
   "source": [
    "import subprocess"
   ]
  },
  {
   "cell_type": "code",
   "execution_count": null,
   "id": "649c2a11-1b60-4d7e-851a-f967d6d464f5",
   "metadata": {},
   "outputs": [],
   "source": [
    "subprocess.run(['ls', '-la'])"
   ]
  },
  {
   "cell_type": "markdown",
   "id": "f137c520-87f7-4271-89f6-a2807b0ec305",
   "metadata": {},
   "source": [
    "### chown"
   ]
  },
  {
   "cell_type": "code",
   "execution_count": null,
   "id": "bac9b4fb-f659-489f-8acf-16438828db0e",
   "metadata": {},
   "outputs": [],
   "source": [
    "subprocess.run(['chown', f'{new_owner_id}:{new_group_id}', file_path])"
   ]
  },
  {
   "cell_type": "markdown",
   "id": "618438a3-d780-402b-b4d8-6e577c3cba03",
   "metadata": {},
   "source": [
    "### chmod"
   ]
  },
  {
   "cell_type": "code",
   "execution_count": null,
   "id": "76e57090-bffb-4135-887f-ec42f5cc236a",
   "metadata": {},
   "outputs": [],
   "source": [
    "subprocess.run(['chmod', 755, file_path])"
   ]
  }
 ],
 "metadata": {
  "kernelspec": {
   "display_name": "Python 3 (ipykernel)",
   "language": "python",
   "name": "python3"
  },
  "language_info": {
   "codemirror_mode": {
    "name": "ipython",
    "version": 3
   },
   "file_extension": ".py",
   "mimetype": "text/x-python",
   "name": "python",
   "nbconvert_exporter": "python",
   "pygments_lexer": "ipython3",
   "version": "3.10.8"
  }
 },
 "nbformat": 4,
 "nbformat_minor": 5
}
