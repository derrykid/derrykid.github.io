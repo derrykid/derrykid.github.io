{
 "cells": [
  {
   "cell_type": "markdown",
   "id": "e4d93044-1f29-42a4-82be-08c3ab0021b8",
   "metadata": {},
   "source": [
    "It's easy to convert notebook to:\n",
    "1. python script\n",
    "2. markdown file\n",
    "3. and more"
   ]
  },
  {
   "cell_type": "markdown",
   "id": "eebebd17-ef6a-463d-9309-e8dd3fd736f4",
   "metadata": {},
   "source": [
    "Run this commands in terminal\n",
    "\n",
    "```bash\n",
    "// to .py\n",
    "jupyter nbconvert --to script 'target.ipynb'\n",
    "\n",
    "// to .md\n",
    "jupyter nbconvert --to markdown 'target.ipynb'\n",
    "```"
   ]
  },
  {
   "cell_type": "code",
   "execution_count": null,
   "id": "f4403e79-cac4-4db3-897c-42d4c4efdd21",
   "metadata": {},
   "outputs": [],
   "source": []
  }
 ],
 "metadata": {
  "kernelspec": {
   "display_name": "Python 3 (ipykernel)",
   "language": "python",
   "name": "python3"
  },
  "language_info": {
   "codemirror_mode": {
    "name": "ipython",
    "version": 3
   },
   "file_extension": ".py",
   "mimetype": "text/x-python",
   "name": "python",
   "nbconvert_exporter": "python",
   "pygments_lexer": "ipython3",
   "version": "3.10.8"
  }
 },
 "nbformat": 4,
 "nbformat_minor": 5
}
