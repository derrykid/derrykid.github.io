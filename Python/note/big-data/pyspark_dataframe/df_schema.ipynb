{
 "cells": [
  {
   "cell_type": "markdown",
   "id": "f2e232dd-9394-4cff-9ad1-56117fc03c7a",
   "metadata": {},
   "source": [
    "This notebook shows how to specify schema for `pyspark.dataframe`"
   ]
  },
  {
   "cell_type": "code",
   "execution_count": 1,
   "id": "2d61a710-4055-44d9-9384-da33debd9a01",
   "metadata": {
    "tags": []
   },
   "outputs": [
    {
     "name": "stderr",
     "output_type": "stream",
     "text": [
      "Setting default log level to \"WARN\".\n",
      "To adjust logging level use sc.setLogLevel(newLevel). For SparkR, use setLogLevel(newLevel).\n"
     ]
    },
    {
     "name": "stdout",
     "output_type": "stream",
     "text": [
      "23/01/20 05:15:45 WARN NativeCodeLoader: Unable to load native-hadoop library for your platform... using builtin-java classes where applicable\n",
      "23/01/20 05:15:46 WARN Utils: Service 'SparkUI' could not bind on port 4040. Attempting port 4041.\n",
      "23/01/20 05:15:46 WARN Utils: Service 'SparkUI' could not bind on port 4041. Attempting port 4042.\n",
      "23/01/20 05:15:46 WARN Utils: Service 'SparkUI' could not bind on port 4042. Attempting port 4043.\n"
     ]
    }
   ],
   "source": [
    "from pyspark.sql import SparkSession\n",
    "\n",
    "spark = SparkSession.builder.appName('BDA').getOrCreate()"
   ]
  },
  {
   "cell_type": "markdown",
   "id": "be28eaa4-dbb7-446d-b235-87cc4f91cea0",
   "metadata": {},
   "source": [
    "# `StructType` - defines the structure of the dataframe\n",
    "\n",
    "The [structType](https://sparkbyexamples.com/pyspark/pyspark-structtype-and-structfield/) is a collection or list of `StructField` objects.\n",
    "\n",
    "use `PySpark.printSchema()` to shows the `StructType` columns as struct"
   ]
  },
  {
   "cell_type": "markdown",
   "id": "fce524cf-a114-406f-8ce2-57285e24150b",
   "metadata": {},
   "source": [
    "## `StructField` - metadata of the dataframe columns\n",
    "\n",
    "Syntax:\n",
    "```python\n",
    "from pyspark.sql.types import *\n",
    "\n",
    "StructField(name:str, column_type:DataType, nullable: Boolean)\n",
    "```\n",
    "\n",
    "[Available datatype links](https://spark.apache.org/docs/latest/sql-ref-datatypes.html)\n",
    "\n",
    "Short list:\n",
    "- StringType()\n",
    "- IntegerType()\n",
    "- FloatType()\n",
    "- DoubleType()\n",
    "- TimestampType()\n",
    "- DateType()\n",
    "\n",
    "etc"
   ]
  },
  {
   "cell_type": "code",
   "execution_count": 2,
   "id": "68d300e4-0cc7-4b1c-8c5e-42f5c70a608c",
   "metadata": {},
   "outputs": [],
   "source": [
    "from pyspark.sql.types import *\n",
    "\n",
    "data = [(\"James\",\"\",\"Smith\",\"36636\",\"M\",3000),\n",
    "    (\"Michael\",\"Rose\",\"\",\"40288\",\"M\",4000),\n",
    "    (\"Robert\",\"\",\"Williams\",\"42114\",\"M\",4000),\n",
    "    (\"Maria\",\"Anne\",\"Jones\",\"39192\",\"F\",4000),\n",
    "    (\"Jen\",\"Mary\",\"Brown\",\"\",\"F\",-1)]\n",
    "\n",
    "schema = StructType([ \\\n",
    "    StructField(\"firstname\",StringType(),True), \\\n",
    "    StructField(\"middlename\",StringType(),True), \\\n",
    "    StructField(\"lastname\",StringType(),True), \\\n",
    "    StructField(\"id\", StringType(), True), \\\n",
    "    StructField(\"gender\", StringType(), True), \\\n",
    "    StructField(\"salary\", IntegerType(), True) \\\n",
    "  ])\n",
    "\n",
    "psdf = spark.createDataFrame(data, schema=schema)"
   ]
  },
  {
   "cell_type": "markdown",
   "id": "5fc5bbce-ca97-4da6-a8b8-eca80c3edd40",
   "metadata": {},
   "source": [
    "Schema:"
   ]
  },
  {
   "cell_type": "code",
   "execution_count": 3,
   "id": "766dfcee-944a-42b6-97d8-2d9e66f66235",
   "metadata": {},
   "outputs": [
    {
     "name": "stdout",
     "output_type": "stream",
     "text": [
      "root\n",
      " |-- firstname: string (nullable = true)\n",
      " |-- middlename: string (nullable = true)\n",
      " |-- lastname: string (nullable = true)\n",
      " |-- id: string (nullable = true)\n",
      " |-- gender: string (nullable = true)\n",
      " |-- salary: integer (nullable = true)\n",
      "\n"
     ]
    }
   ],
   "source": [
    "psdf.printSchema()"
   ]
  },
  {
   "cell_type": "markdown",
   "id": "fd051cb1-4dc4-42d3-b104-5725d07aedc6",
   "metadata": {},
   "source": [
    "Dataframe:"
   ]
  },
  {
   "cell_type": "code",
   "execution_count": 4,
   "id": "640f8ebd-8be6-4a72-b83f-e77f2528eef0",
   "metadata": {},
   "outputs": [
    {
     "name": "stderr",
     "output_type": "stream",
     "text": [
      "                                                                                \r"
     ]
    },
    {
     "name": "stdout",
     "output_type": "stream",
     "text": [
      "+---------+----------+--------+-----+------+------+\n",
      "|firstname|middlename|lastname|   id|gender|salary|\n",
      "+---------+----------+--------+-----+------+------+\n",
      "|    James|          |   Smith|36636|     M|  3000|\n",
      "|  Michael|      Rose|        |40288|     M|  4000|\n",
      "|   Robert|          |Williams|42114|     M|  4000|\n",
      "|    Maria|      Anne|   Jones|39192|     F|  4000|\n",
      "|      Jen|      Mary|   Brown|     |     F|    -1|\n",
      "+---------+----------+--------+-----+------+------+\n",
      "\n"
     ]
    }
   ],
   "source": [
    "psdf.show()"
   ]
  },
  {
   "cell_type": "markdown",
   "id": "4cd02a7e-df3a-4b14-88e4-9ff8a107c006",
   "metadata": {},
   "source": [
    "Alternatively, we can pass a struct string:\n",
    "\n",
    "[stackoverflow](https://stackoverflow.com/a/71279635)"
   ]
  },
  {
   "cell_type": "code",
   "execution_count": 5,
   "id": "4caae882-3a5e-4adc-9203-c6e8dda961be",
   "metadata": {},
   "outputs": [
    {
     "name": "stdout",
     "output_type": "stream",
     "text": [
      "root\n",
      " |-- firstname: string (nullable = true)\n",
      " |-- middlename: string (nullable = true)\n",
      " |-- lastname: string (nullable = true)\n",
      " |-- id: string (nullable = true)\n",
      " |-- gender: string (nullable = true)\n",
      " |-- salary: long (nullable = true)\n",
      "\n"
     ]
    }
   ],
   "source": [
    "psdf2 = spark.createDataFrame(data, schema=\"firstname string, middlename string, lastname string, id string, gender string, salary long\")\n",
    "psdf2.printSchema()"
   ]
  },
  {
   "cell_type": "markdown",
   "id": "d0a3a6e5-670b-4825-8d99-8fc82c1cd541",
   "metadata": {},
   "source": [
    "## Nested `StructType` structure\n",
    "\n",
    "In the following example, we have a data structure that has a nested data, we can create a nested `StructField`:"
   ]
  },
  {
   "cell_type": "code",
   "execution_count": 6,
   "id": "76fade57-1d0e-4bf0-ae6c-abcb8293c90e",
   "metadata": {},
   "outputs": [
    {
     "name": "stdout",
     "output_type": "stream",
     "text": [
      "root\n",
      " |-- name: struct (nullable = true)\n",
      " |    |-- firstname: string (nullable = true)\n",
      " |    |-- middlename: string (nullable = true)\n",
      " |    |-- lastname: string (nullable = true)\n",
      " |-- id: string (nullable = true)\n",
      " |-- gender: string (nullable = true)\n",
      " |-- salary: integer (nullable = true)\n",
      "\n",
      "+--------------------+-----+------+------+\n",
      "|name                |id   |gender|salary|\n",
      "+--------------------+-----+------+------+\n",
      "|{James, , Smith}    |36636|M     |3100  |\n",
      "|{Michael, Rose, }   |40288|M     |4300  |\n",
      "|{Robert, , Williams}|42114|M     |1400  |\n",
      "|{Maria, Anne, Jones}|39192|F     |5500  |\n",
      "|{Jen, Mary, Brown}  |     |F     |-1    |\n",
      "+--------------------+-----+------+------+\n",
      "\n"
     ]
    }
   ],
   "source": [
    "\n",
    "structureData = [\n",
    "    ((\"James\",\"\",\"Smith\"),\"36636\",\"M\",3100),\n",
    "    ((\"Michael\",\"Rose\",\"\"),\"40288\",\"M\",4300),\n",
    "    ((\"Robert\",\"\",\"Williams\"),\"42114\",\"M\",1400),\n",
    "    ((\"Maria\",\"Anne\",\"Jones\"),\"39192\",\"F\",5500),\n",
    "    ((\"Jen\",\"Mary\",\"Brown\"),\"\",\"F\",-1)\n",
    "  ]\n",
    "structureSchema = StructType([\n",
    "        StructField('name', StructType([\n",
    "             StructField('firstname', StringType(), True),\n",
    "             StructField('middlename', StringType(), True),\n",
    "             StructField('lastname', StringType(), True)\n",
    "             ])),\n",
    "         StructField('id', StringType(), True),\n",
    "         StructField('gender', StringType(), True),\n",
    "         StructField('salary', IntegerType(), True)\n",
    "         ])\n",
    "\n",
    "psdf2 = spark.createDataFrame(data=structureData,schema=structureSchema)\n",
    "psdf2.printSchema()\n",
    "psdf2.show(truncate=False)"
   ]
  },
  {
   "cell_type": "markdown",
   "id": "ee08a928-b98a-4930-8a1a-8f768031f139",
   "metadata": {},
   "source": [
    "## `StructType` in JSON\n",
    "\n",
    "[example](https://sparkbyexamples.com/pyspark/pyspark-structtype-and-structfield#schema-from-json)\n",
    "\n",
    "If the schema is large enough, you can save it as json file and load it later"
   ]
  },
  {
   "cell_type": "code",
   "execution_count": 7,
   "id": "b3191e09-40b1-4052-889e-a1b8a463b920",
   "metadata": {},
   "outputs": [
    {
     "name": "stdout",
     "output_type": "stream",
     "text": [
      "root\n",
      " |-- name: struct (nullable = true)\n",
      " |    |-- firstname: string (nullable = true)\n",
      " |    |-- middlename: string (nullable = true)\n",
      " |    |-- lastname: string (nullable = true)\n",
      " |-- id: string (nullable = true)\n",
      " |-- gender: string (nullable = true)\n",
      " |-- salary: integer (nullable = true)\n",
      "\n"
     ]
    }
   ],
   "source": [
    "schema_json = psdf2.schema.json()\n",
    "# save it somewhere\n",
    "\n",
    "import json\n",
    "\n",
    "schemaFromJson = StructType.fromJson(json.loads(schema_json))\n",
    "df3 = spark.createDataFrame(\n",
    "        spark.sparkContext.parallelize(structureData),schemaFromJson)\n",
    "df3.printSchema()"
   ]
  },
  {
   "cell_type": "markdown",
   "id": "62df454b-7147-474c-8548-48ca76e6ed33",
   "metadata": {},
   "source": [
    "# Schema inference"
   ]
  },
  {
   "cell_type": "code",
   "execution_count": 8,
   "id": "d4ab8333-3f48-460a-91b1-a745b43af38c",
   "metadata": {},
   "outputs": [
    {
     "data": {
      "text/plain": [
       "pyspark.rdd.RDD"
      ]
     },
     "execution_count": 8,
     "metadata": {},
     "output_type": "execute_result"
    }
   ],
   "source": [
    "lines = spark.sparkContext.textFile(\"../sample.csv\")\n",
    "type(lines)"
   ]
  },
  {
   "cell_type": "code",
   "execution_count": 18,
   "id": "dbd75e3b-77a9-4a91-acf8-08f2478f416d",
   "metadata": {},
   "outputs": [
    {
     "data": {
      "text/plain": [
       "Row(age='age', name='name')"
      ]
     },
     "execution_count": 18,
     "metadata": {},
     "output_type": "execute_result"
    },
    {
     "name": "stdout",
     "output_type": "stream",
     "text": [
      "23/01/20 20:40:56 WARN HeartbeatReceiver: Removing executor driver with no recent heartbeats: 723074 ms exceeds timeout 120000 ms\n",
      "23/01/20 20:40:56 WARN SparkContext: Killing executors is not supported by current scheduler.\n"
     ]
    }
   ],
   "source": [
    "peopleRDD = lines.map(lambda e : e.split(\",\")) \\\n",
    "                 .map(lambda p : Row(age=(p[0]), name=(p[1])))\n",
    "peopleDF = spark.createDataFrame(peopleRDD)\n",
    "peopleDF.first()"
   ]
  },
  {
   "cell_type": "code",
   "execution_count": null,
   "id": "a0c72359-4a19-46f5-b531-383c750daf1a",
   "metadata": {},
   "outputs": [],
   "source": []
  },
  {
   "cell_type": "markdown",
   "id": "40809bef-658f-4de6-9be8-4e62aaab3658",
   "metadata": {},
   "source": [
    "## Remove first row from dataframe\n",
    "\n",
    "[stackoverflow](https://stackoverflow.com/a/61782141)"
   ]
  },
  {
   "cell_type": "code",
   "execution_count": null,
   "id": "b52daf72-b156-4b98-9fe0-6e4150cf33f6",
   "metadata": {},
   "outputs": [],
   "source": []
  }
 ],
 "metadata": {
  "kernelspec": {
   "display_name": "Python 3 (ipykernel)",
   "language": "python",
   "name": "python3"
  },
  "language_info": {
   "codemirror_mode": {
    "name": "ipython",
    "version": 3
   },
   "file_extension": ".py",
   "mimetype": "text/x-python",
   "name": "python",
   "nbconvert_exporter": "python",
   "pygments_lexer": "ipython3",
   "version": "3.10.8"
  }
 },
 "nbformat": 4,
 "nbformat_minor": 5
}
