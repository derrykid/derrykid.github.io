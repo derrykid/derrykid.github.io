{
 "cells": [
  {
   "cell_type": "code",
   "execution_count": 1,
   "id": "3e7e000b-9274-4d46-8b5f-b60414b07b89",
   "metadata": {},
   "outputs": [
    {
     "name": "stderr",
     "output_type": "stream",
     "text": [
      "Setting default log level to \"WARN\".\n",
      "To adjust logging level use sc.setLogLevel(newLevel). For SparkR, use setLogLevel(newLevel).\n"
     ]
    },
    {
     "name": "stdout",
     "output_type": "stream",
     "text": [
      "23/01/21 02:32:46 WARN NativeCodeLoader: Unable to load native-hadoop library for your platform... using builtin-java classes where applicable\n"
     ]
    },
    {
     "name": "stderr",
     "output_type": "stream",
     "text": [
      "                                                                                \r"
     ]
    }
   ],
   "source": [
    "from pyspark.sql import SparkSession\n",
    "\n",
    "spark = SparkSession.builder.getOrCreate()\n",
    "\n",
    "sparkDF = spark.read.csv('data/data.csv', header=True)"
   ]
  },
  {
   "cell_type": "markdown",
   "id": "cd69d7aa-2933-4bfe-986d-79d69209eb4d",
   "metadata": {},
   "source": [
    "## how many records"
   ]
  },
  {
   "cell_type": "code",
   "execution_count": 2,
   "id": "c65b611e-dd41-4941-a340-77edf049de54",
   "metadata": {},
   "outputs": [],
   "source": [
    "from pyspark.sql.functions import *"
   ]
  },
  {
   "cell_type": "code",
   "execution_count": 3,
   "id": "0d28979c-bb79-472a-9315-3b93821e59f3",
   "metadata": {},
   "outputs": [
    {
     "name": "stderr",
     "output_type": "stream",
     "text": [
      "                                                                                \r"
     ]
    },
    {
     "data": {
      "text/plain": [
       "541909"
      ]
     },
     "execution_count": 3,
     "metadata": {},
     "output_type": "execute_result"
    }
   ],
   "source": [
    "sparkDF.count()"
   ]
  },
  {
   "cell_type": "markdown",
   "id": "89dd563b-b08b-441c-9bc6-92e512b8959e",
   "metadata": {},
   "source": [
    "where does the most customers come from"
   ]
  },
  {
   "cell_type": "code",
   "execution_count": 4,
   "id": "eabd873b-6a86-4039-b2fa-a71d8faa58a9",
   "metadata": {},
   "outputs": [
    {
     "name": "stderr",
     "output_type": "stream",
     "text": [
      "[Stage 6:>                                                          (0 + 1) / 1]\r"
     ]
    },
    {
     "name": "stdout",
     "output_type": "stream",
     "text": [
      "+---------------+-------------+\n",
      "|        Country|country_count|\n",
      "+---------------+-------------+\n",
      "| United Kingdom|         3950|\n",
      "|        Germany|           95|\n",
      "|         France|           87|\n",
      "|          Spain|           31|\n",
      "|        Belgium|           25|\n",
      "|    Switzerland|           21|\n",
      "|       Portugal|           19|\n",
      "|          Italy|           15|\n",
      "|        Finland|           12|\n",
      "|        Austria|           11|\n",
      "|         Norway|           10|\n",
      "|Channel Islands|            9|\n",
      "|      Australia|            9|\n",
      "|    Netherlands|            9|\n",
      "|        Denmark|            9|\n",
      "|         Cyprus|            8|\n",
      "|          Japan|            8|\n",
      "|         Sweden|            8|\n",
      "|         Poland|            6|\n",
      "|         Greece|            4|\n",
      "+---------------+-------------+\n",
      "only showing top 20 rows\n",
      "\n"
     ]
    },
    {
     "name": "stderr",
     "output_type": "stream",
     "text": [
      "                                                                                \r"
     ]
    }
   ],
   "source": [
    "sparkDF.groupBy(\"Country\") \\\n",
    "        .agg(countDistinct('CustomerID').alias('country_count')) \\\n",
    "        .orderBy(desc('country_count'))\\\n",
    "        .show()"
   ]
  },
  {
   "cell_type": "markdown",
   "id": "6a0b1331-3d81-4f28-9b9f-e81a16eed3a5",
   "metadata": {},
   "source": [
    "most recent purchase"
   ]
  },
  {
   "cell_type": "code",
   "execution_count": 22,
   "id": "c8aaa5b2-64cf-4c5f-825c-6a7571056b6f",
   "metadata": {},
   "outputs": [
    {
     "name": "stdout",
     "output_type": "stream",
     "text": [
      "23/01/21 04:28:20 WARN CacheManager: Asked to cache already cached data.\n",
      "+-------------------+\n",
      "|               date|\n",
      "+-------------------+\n",
      "|2011-12-09 12:50:00|\n",
      "+-------------------+\n",
      "\n"
     ]
    }
   ],
   "source": [
    "spark.sql(\"set spark.sql.legacy.timeParserPolicy=LEGACY\")\n",
    "sparkDF.select(max(to_timestamp('InvoiceDate', \"MM/d/yyyy H:mm\")).alias(\"date\")).cache().show()"
   ]
  },
  {
   "cell_type": "code",
   "execution_count": null,
   "id": "5955823a-bb4b-4e05-b649-e89a3a41b6bd",
   "metadata": {},
   "outputs": [],
   "source": [
    "import pyspark.pandas as pd\n",
    "sparkDF = sparkDF.withColumn(\"from_date\", lit(\"12/1/10 08:26\"))\n",
    "\n",
    "# transform from_date to timestamp\n",
    "sparkDF = sparkDF.withColumn('from_date',to_timestamp(\"from_date\", 'yy/MM/dd HH:mm'))\n",
    "\n",
    "sparkDF2 = sparkDF.withColumn('from_date',to_timestamp(col('from_date')))\\\n",
    ".withColumn('recency', col(\"InvoiceDate\").cast(\"long\") - col('from_date').cast(\"long\"))\n",
    "\n",
    "sparkDF2.show()"
   ]
  },
  {
   "cell_type": "code",
   "execution_count": 29,
   "id": "674bfd15-99b3-4fac-ac9b-df63f655fbda",
   "metadata": {},
   "outputs": [
    {
     "name": "stderr",
     "output_type": "stream",
     "text": [
      "[Stage 40:==============>                                           (1 + 3) / 4]\r"
     ]
    },
    {
     "name": "stdout",
     "output_type": "stream",
     "text": [
      "+----------+------------------+\n",
      "|CustomerID|count(InvoiceDate)|\n",
      "+----------+------------------+\n",
      "|     16250|                24|\n",
      "+----------+------------------+\n",
      "only showing top 1 row\n",
      "\n"
     ]
    },
    {
     "name": "stderr",
     "output_type": "stream",
     "text": [
      "                                                                                \r"
     ]
    }
   ],
   "source": [
    "df_freq = sparkDF.groupBy(\"CustomerID\").agg(count('InvoiceDate')).alias(\"Frequency\")\n",
    "df_freq.show(1)"
   ]
  },
  {
   "cell_type": "code",
   "execution_count": 34,
   "id": "56072273-e870-4709-a046-e3235f121d6d",
   "metadata": {},
   "outputs": [
    {
     "name": "stderr",
     "output_type": "stream",
     "text": [
      "                                                                                \r"
     ]
    },
    {
     "name": "stdout",
     "output_type": "stream",
     "text": [
      "+----------+---------+---------+--------------------+--------+--------------+---------+--------------+-------------+------------------+\n",
      "|CustomerID|InvoiceNo|StockCode|         Description|Quantity|   InvoiceDate|UnitPrice|       Country|    from_date|count(InvoiceDate)|\n",
      "+----------+---------+---------+--------------------+--------+--------------+---------+--------------+-------------+------------------+\n",
      "|     17850|   536365|   85123A|WHITE HANGING HEA...|       6|12/1/2010 8:26|     2.55|United Kingdom|12/1/10 08:26|               312|\n",
      "|     17850|   536365|    71053| WHITE METAL LANTERN|       6|12/1/2010 8:26|     3.39|United Kingdom|12/1/10 08:26|               312|\n",
      "|     17850|   536365|   84406B|CREAM CUPID HEART...|       8|12/1/2010 8:26|     2.75|United Kingdom|12/1/10 08:26|               312|\n",
      "|     17850|   536365|   84029G|KNITTED UNION FLA...|       6|12/1/2010 8:26|     3.39|United Kingdom|12/1/10 08:26|               312|\n",
      "|     17850|   536365|   84029E|RED WOOLLY HOTTIE...|       6|12/1/2010 8:26|     3.39|United Kingdom|12/1/10 08:26|               312|\n",
      "+----------+---------+---------+--------------------+--------+--------------+---------+--------------+-------------+------------------+\n",
      "only showing top 5 rows\n",
      "\n"
     ]
    }
   ],
   "source": [
    "sparkDF = sparkDF.join(df_freq, on=\"CustomerID\", how='inner')\n",
    "sparkDF.show(5)"
   ]
  },
  {
   "cell_type": "code",
   "execution_count": 36,
   "id": "51aa242b-e510-4af8-ba4a-1c6cef5dd557",
   "metadata": {},
   "outputs": [
    {
     "name": "stderr",
     "output_type": "stream",
     "text": [
      "[Stage 59:=============================>                            (2 + 2) / 4]\r"
     ]
    },
    {
     "name": "stdout",
     "output_type": "stream",
     "text": [
      "+----------+------------------+\n",
      "|CustomerID|  sum(Total_spent)|\n",
      "+----------+------------------+\n",
      "|     16250|389.44000000000005|\n",
      "|     15574| 702.2500000000002|\n",
      "|     15555|4758.2000000000035|\n",
      "|     15271|           2485.82|\n",
      "|     17714|             153.0|\n",
      "+----------+------------------+\n",
      "only showing top 5 rows\n",
      "\n"
     ]
    },
    {
     "name": "stderr",
     "output_type": "stream",
     "text": [
      "                                                                                \r"
     ]
    }
   ],
   "source": [
    "m_val = sparkDF.withColumn('Total_spent', col('Quantity') * col('UnitPrice') )\n",
    "m_val = m_val.groupBy(\"CustomerID\").agg(sum('Total_spent')).alias(\"monetary_value\")\n",
    "m_val.show(5)"
   ]
  },
  {
   "cell_type": "code",
   "execution_count": 37,
   "id": "c909c810-f7a5-4af6-805a-8090a417ec3f",
   "metadata": {},
   "outputs": [
    {
     "name": "stderr",
     "output_type": "stream",
     "text": [
      "[Stage 73:==============>                                           (1 + 3) / 4]\r"
     ]
    },
    {
     "name": "stdout",
     "output_type": "stream",
     "text": [
      "+----------+------------------+---------+---------+--------------------+--------+--------------+---------+--------------+-------------+------------------+\n",
      "|CustomerID|  sum(Total_spent)|InvoiceNo|StockCode|         Description|Quantity|   InvoiceDate|UnitPrice|       Country|    from_date|count(InvoiceDate)|\n",
      "+----------+------------------+---------+---------+--------------------+--------+--------------+---------+--------------+-------------+------------------+\n",
      "|     16250|389.44000000000005|   536388|    21754|HOME BUILDING BLO...|       3|12/1/2010 9:59|     5.95|United Kingdom|12/1/10 08:26|                24|\n",
      "|     16250|389.44000000000005|   536388|    21755|LOVE BUILDING BLO...|       3|12/1/2010 9:59|     5.95|United Kingdom|12/1/10 08:26|                24|\n",
      "|     16250|389.44000000000005|   536388|    21523|DOORMAT FANCY FON...|       2|12/1/2010 9:59|     7.95|United Kingdom|12/1/10 08:26|                24|\n",
      "+----------+------------------+---------+---------+--------------------+--------+--------------+---------+--------------+-------------+------------------+\n",
      "only showing top 3 rows\n",
      "\n"
     ]
    },
    {
     "name": "stderr",
     "output_type": "stream",
     "text": [
      "                                                                                \r"
     ]
    }
   ],
   "source": [
    "finalDF = m_val.join(sparkDF, on=\"CustomerID\", how=\"inner\")\n",
    "finalDF.show(3)"
   ]
  },
  {
   "cell_type": "code",
   "execution_count": 40,
   "id": "aa0d51b9-20e7-44ae-8bc9-44ba30008c88",
   "metadata": {},
   "outputs": [
    {
     "name": "stderr",
     "output_type": "stream",
     "text": [
      "                                                                                \r"
     ]
    },
    {
     "name": "stdout",
     "output_type": "stream",
     "text": [
      "+----------+------------------+------------------+\n",
      "|CustomerID|  sum(Total_spent)|count(InvoiceDate)|\n",
      "+----------+------------------+------------------+\n",
      "|     16250|389.44000000000005|                24|\n",
      "|     15574| 702.2500000000002|               168|\n",
      "|     15555|4758.2000000000035|               925|\n",
      "+----------+------------------+------------------+\n",
      "only showing top 3 rows\n",
      "\n"
     ]
    }
   ],
   "source": [
    "finalDF.select(['CustomerID', 'sum(Total_spent)', 'count(InvoiceDate)']).distinct().show(3)"
   ]
  },
  {
   "cell_type": "code",
   "execution_count": 50,
   "id": "23a8ce03-aae5-437e-a863-1c8d5398cab4",
   "metadata": {},
   "outputs": [
    {
     "name": "stderr",
     "output_type": "stream",
     "text": [
      "[Stage 253:>                                                        (0 + 1) / 1]\r"
     ]
    },
    {
     "name": "stdout",
     "output_type": "stream",
     "text": [
      "+----------+------------------+------------------+--------------------------+\n",
      "|CustomerID|sum(Total_spent)  |count(InvoiceDate)|features                  |\n",
      "+----------+------------------+------------------+--------------------------+\n",
      "|16250     |389.44000000000005|24                |[389.44000000000005,24.0] |\n",
      "|15574     |702.2500000000002 |168               |[702.2500000000002,168.0] |\n",
      "|15555     |4758.2000000000035|925               |[4758.2000000000035,925.0]|\n",
      "|15271     |2485.82           |275               |[2485.82,275.0]           |\n",
      "|17714     |153.0             |10                |[153.0,10.0]              |\n",
      "|17686     |5739.46           |286               |[5739.46,286.0]           |\n",
      "|13865     |501.56000000000006|30                |[501.56000000000006,30.0] |\n",
      "|14157     |400.4300000000001 |49                |[400.4300000000001,49.0]  |\n",
      "|13610     |1115.4299999999996|228               |[1115.4299999999996,228.0]|\n",
      "|17757     |5585.490000000003 |742               |[5585.490000000003,742.0] |\n",
      "|17551     |306.84            |43                |[306.84,43.0]             |\n",
      "|13187     |236.01999999999995|37                |[236.01999999999995,37.0] |\n",
      "|16549     |4154.64           |981               |[4154.64,981.0]           |\n",
      "|12637     |5953.250000000001 |394               |[5953.250000000001,394.0] |\n",
      "|15052     |215.78            |30                |[215.78,30.0]             |\n",
      "|15448     |494.64000000000004|28                |[494.64000000000004,28.0] |\n",
      "|13985     |7024.529999999999 |353               |[7024.529999999999,353.0] |\n",
      "|12888     |313.77            |7                 |[313.77,7.0]              |\n",
      "|14525     |4221.370000000001 |298               |[4221.370000000001,298.0] |\n",
      "|18283     |2094.8799999999997|756               |[2094.8799999999997,756.0]|\n",
      "+----------+------------------+------------------+--------------------------+\n",
      "only showing top 20 rows\n",
      "\n"
     ]
    },
    {
     "name": "stderr",
     "output_type": "stream",
     "text": [
      "                                                                                \r"
     ]
    }
   ],
   "source": [
    "from pyspark.ml.feature import VectorAssembler, StandardScaler\n",
    "\n",
    "assemble = VectorAssembler(inputCols=[\"sum(Total_spent)\", \"count(InvoiceDate)\"], outputCol=\"features\")\n",
    "assemble_data = assemble.transform(finalDF)\n",
    "\n",
    "scale = StandardScaler(inputCol=\"features\", outputCol=\"Standardized\")\n",
    "data_scale = scale.fit(assemble_data)\n",
    "data_scale_output = data_scale.transform(assemble_data)\n",
    "data_scale_output.select(['CustomerID', 'sum(Total_spent)', 'count(InvoiceDate)', 'features']).distinct().show(truncate=False)"
   ]
  },
  {
   "cell_type": "code",
   "execution_count": 51,
   "id": "3fb5564b-36ee-41ca-acdd-c93d334baf27",
   "metadata": {},
   "outputs": [
    {
     "name": "stderr",
     "output_type": "stream",
     "text": [
      "                                                                                \r"
     ]
    },
    {
     "name": "stdout",
     "output_type": "stream",
     "text": [
      "+-------------------------------------------+\n",
      "|standardized                               |\n",
      "+-------------------------------------------+\n",
      "|[0.012919022820330257,0.016306497628822223]|\n",
      "|[0.012919022820330257,0.016306497628822223]|\n",
      "|[0.012919022820330257,0.016306497628822223]|\n",
      "|[0.012919022820330257,0.016306497628822223]|\n",
      "|[0.012919022820330257,0.016306497628822223]|\n",
      "|[0.012919022820330257,0.016306497628822223]|\n",
      "|[0.012919022820330257,0.016306497628822223]|\n",
      "|[0.012919022820330257,0.016306497628822223]|\n",
      "|[0.012919022820330257,0.016306497628822223]|\n",
      "|[0.012919022820330257,0.016306497628822223]|\n",
      "|[0.012919022820330257,0.016306497628822223]|\n",
      "|[0.012919022820330257,0.016306497628822223]|\n",
      "|[0.012919022820330257,0.016306497628822223]|\n",
      "|[0.012919022820330257,0.016306497628822223]|\n",
      "|[0.012919022820330257,0.016306497628822223]|\n",
      "|[0.012919022820330257,0.016306497628822223]|\n",
      "|[0.012919022820330257,0.016306497628822223]|\n",
      "|[0.012919022820330257,0.016306497628822223]|\n",
      "|[0.012919022820330257,0.016306497628822223]|\n",
      "|[0.012919022820330257,0.016306497628822223]|\n",
      "+-------------------------------------------+\n",
      "only showing top 20 rows\n",
      "\n"
     ]
    }
   ],
   "source": [
    "data_scale_output.select(\"standardized\").show(truncate=False)"
   ]
  },
  {
   "cell_type": "code",
   "execution_count": 54,
   "id": "ebbaa86e-5fe6-4e36-8454-ee90ca72baf7",
   "metadata": {},
   "outputs": [
    {
     "name": "stderr",
     "output_type": "stream",
     "text": [
      "                                                                                \r"
     ]
    },
    {
     "name": "stdout",
     "output_type": "stream",
     "text": [
      "23/01/21 15:15:10 WARN InstanceBuilder$JavaBLAS: Failed to load implementation from:dev.ludovic.netlib.blas.VectorBLAS\n"
     ]
    },
    {
     "name": "stderr",
     "output_type": "stream",
     "text": [
      "                                                                                \r"
     ]
    }
   ],
   "source": [
    "from pyspark.ml.clustering import KMeans\n",
    "from pyspark.ml.evaluation import ClusteringEvaluator\n",
    "import numpy as np\n",
    "\n",
    "cost = np.zeros(10)\n",
    "\n",
    "evaluator = ClusteringEvaluator(predictionCol='prediction', featuresCol='Standardized', metricName='silhouette'\n",
    "                               ,distanceMeasure='squaredEuclidean')\n",
    "\n",
    "for i in range(2, 10):\n",
    "    KMeans_algo = KMeans(featuresCol='Standardized', k=i)\n",
    "    KMeans_fit = KMeans_algo.fit(data_scale_output)\n",
    "    output = KMeans_fit.transform(data_scale_output)\n",
    "    cost[i] = KMeans_fit.summary.trainingCost"
   ]
  },
  {
   "cell_type": "code",
   "execution_count": 55,
   "id": "10add3b5-74e4-4e40-a47e-beff0f913dc2",
   "metadata": {},
   "outputs": [
    {
     "data": {
      "image/png": "[encoded data removed]",
      "text/plain": [
       "<Figure size 432x288 with 1 Axes>"
      ]
     },
     "metadata": {
      "needs_background": "light"
     },
     "output_type": "display_data"
    }
   ],
   "source": [
    "import pandas as pd\n",
    "import pylab as pl\n",
    "\n",
    "df_cost = pd.DataFrame(cost[2:])\n",
    "df_cost.columns = [\"cost\"]\n",
    "new_col = range(2,10)\n",
    "df_cost.insert(0, 'cluster', new_col)\n",
    "pl.plot(df_cost.cluster, df_cost.cost)\n",
    "pl.xlabel('Number of Clusters')\n",
    "pl.ylabel('Score')\n",
    "pl.title('Elbow Curve')\n",
    "pl.show()"
   ]
  },
  {
   "cell_type": "code",
   "execution_count": null,
   "id": "85e7de30-ecaa-4eb6-9731-7a6cad3ca477",
   "metadata": {},
   "outputs": [],
   "source": []
  }
 ],
 "metadata": {
  "kernelspec": {
   "display_name": "Python 3 (ipykernel)",
   "language": "python",
   "name": "python3"
  },
  "language_info": {
   "codemirror_mode": {
    "name": "ipython",
    "version": 3
   },
   "file_extension": ".py",
   "mimetype": "text/x-python",
   "name": "python",
   "nbconvert_exporter": "python",
   "pygments_lexer": "ipython3",
   "version": "3.10.8"
  }
 },
 "nbformat": 4,
 "nbformat_minor": 5
}
