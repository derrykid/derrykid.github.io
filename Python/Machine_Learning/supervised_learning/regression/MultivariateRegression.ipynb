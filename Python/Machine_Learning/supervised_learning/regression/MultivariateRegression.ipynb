{
 "cells": [
  {
   "cell_type": "markdown",
   "metadata": {},
   "source": [
    "# Multivariate Regression\n",
    "\n",
    "[multivariate regression vs multiple regression](https://stats.stackexchange.com/a/2363)"
   ]
  },
  {
   "cell_type": "markdown",
   "metadata": {
    "deletable": true,
    "editable": true
   },
   "source": [
    "function: $MR= c_1 * x_1 + c_2 * x_2 + ... + c_n * x_n$\n",
    "\n",
    "It's very possible that you have many feature variables. For example, to predict the weight, you might provide the information of \n",
    "\n",
    "- height\n",
    "- age\n",
    "- sleep hours"
   ]
  },
  {
   "cell_type": "markdown",
   "metadata": {},
   "source": [
    "## One degree of multivariate regression"
   ]
  },
  {
   "cell_type": "markdown",
   "metadata": {},
   "source": [
    "## Use linear regression \n",
    "\n",
    "We now have 2 features, so there are 2 variables$(x_1, x_2)$. And it's linear, so we won't have like $x^2$, etc\n",
    "\n",
    "$y = constant+ a* x_1 + b* x_2$"
   ]
  },
  {
   "cell_type": "code",
   "execution_count": 1,
   "metadata": {},
   "outputs": [],
   "source": [
    "import numpy as np\n",
    "\n",
    "np.random.seed(1)\n",
    "x_1 = np.absolute(np.random.randn(100) * 10)\n",
    "x_2 = np.absolute(np.random.randn(100) * 30)\n",
    "y = 2*x_1**2 + 3*x_1 + 2 + np.random.randn(100)*20"
   ]
  },
  {
   "cell_type": "code",
   "execution_count": 2,
   "metadata": {},
   "outputs": [
    {
     "data": {
      "text/plain": [
       "Text(0.5, 0.98, 'Origin data points')"
      ]
     },
     "execution_count": 2,
     "metadata": {},
     "output_type": "execute_result"
    },
    {
     "data": {
      "image/png": "[encoded data removed]",
      "text/plain": [
       "<Figure size 1000x400 with 2 Axes>"
      ]
     },
     "metadata": {},
     "output_type": "display_data"
    }
   ],
   "source": [
    "import matplotlib.pyplot as plt\n",
    "\n",
    "fig, axes = plt.subplots(nrows=1, ncols=2, figsize=(10, 4))\n",
    "axes[0].scatter(x_1, y)\n",
    "axes[1].scatter(x_2, y)\n",
    "axes[0].set_title(\"x_1 plotted\")\n",
    "axes[1].set_title(\"x_2 plotted\")\n",
    "fig.suptitle(\"Origin data points\")"
   ]
  },
  {
   "cell_type": "code",
   "execution_count": 3,
   "metadata": {},
   "outputs": [],
   "source": [
    "from sklearn.model_selection import train_test_split\n",
    "from sklearn.linear_model import LinearRegression\n",
    "\n",
    "X_train, X_test, y_train, y_test = train_test_split(np.vstack((x_1, x_2)).T, y, test_size=0.3, random_state=1)\n",
    "\n",
    "lin_reg_model = LinearRegression()\n",
    "lin_reg_model.fit(X_train, y_train)\n",
    "\n",
    "lin_reg_y_predicted = lin_reg_model.predict(X_test)"
   ]
  },
  {
   "cell_type": "code",
   "execution_count": 4,
   "metadata": {},
   "outputs": [
    {
     "name": "stdout",
     "output_type": "stream",
     "text": [
      "coef: [44.09490348  0.23140658]\n",
      "intercept: -135.34790492219486\n",
      "y = -135.34790492219486 + 44.09490348419605 * x1 + 0.23140658078404447 * x2\n"
     ]
    }
   ],
   "source": [
    "print(f\"coef: {lin_reg_model.coef_}\")\n",
    "print(f\"intercept: {lin_reg_model.intercept_}\")\n",
    "# function\n",
    "print(f\"y = {lin_reg_model.intercept_} + {lin_reg_model.coef_[0]} * x1 + \\\n",
    "{lin_reg_model.coef_[1]} * x2\")"
   ]
  },
  {
   "cell_type": "markdown",
   "metadata": {},
   "source": [
    "### Error by linear regression"
   ]
  },
  {
   "cell_type": "code",
   "execution_count": 5,
   "metadata": {},
   "outputs": [
    {
     "data": {
      "text/plain": [
       "68.677255206258"
      ]
     },
     "execution_count": 5,
     "metadata": {},
     "output_type": "execute_result"
    }
   ],
   "source": [
    "from sklearn.metrics import mean_squared_error\n",
    "\n",
    "np.sqrt(mean_squared_error(y_test, lin_reg_y_predicted))"
   ]
  },
  {
   "cell_type": "markdown",
   "metadata": {
    "deletable": true,
    "editable": true
   },
   "source": [
    "## Multivariate polynomial regression\n",
    "\n",
    "2 features: $x_1, x_2$\n",
    "\n",
    "Function: $y = c + w_1 x_1 + w_2 x_2 + w_3 {x_1}^2 + w_4 x_1 * x_2 + w_5 {x_2}^2$\n",
    "\n",
    "The features of X have been transformed from $(x_1, x_2)$  to $(1, x_1, x_2, {x_1}^2, x_1 x_2, {x_2}^2)$ "
   ]
  },
  {
   "cell_type": "code",
   "execution_count": 6,
   "metadata": {},
   "outputs": [],
   "source": [
    "np.random.seed(1)\n",
    "x_1 = np.absolute(np.random.randn(100) * 10)\n",
    "x_2 = np.absolute(np.random.randn(100) * 30)\n",
    "y = 2*x_1**2 + 3*x_1 + 2 + np.random.randn(100)*20"
   ]
  },
  {
   "cell_type": "markdown",
   "metadata": {},
   "source": [
    "### Prepare the data by train-test split"
   ]
  },
  {
   "cell_type": "code",
   "execution_count": 7,
   "metadata": {},
   "outputs": [],
   "source": [
    "from sklearn.model_selection import train_test_split\n",
    "from sklearn.preprocessing import PolynomialFeatures\n",
    "\n",
    "features = np.vstack((x_1, x_2)).T\n",
    "\n",
    "poly_features_transformer = PolynomialFeatures(degree=2, include_bias=False)\n",
    "poly_features = poly_features_transformer.fit_transform(features)\n",
    "X_train, X_test, y_train, y_test = train_test_split(poly_features, y, test_size=0.3, random_state=1)"
   ]
  },
  {
   "cell_type": "markdown",
   "metadata": {},
   "source": [
    "### Train the model"
   ]
  },
  {
   "cell_type": "code",
   "execution_count": 8,
   "metadata": {},
   "outputs": [],
   "source": [
    "poly_2_feature_model = LinearRegression()\n",
    "poly_2_feature_model.fit(X_train, y_train)\n",
    "\n",
    "prediction = poly_2_feature_model.predict(X_test)"
   ]
  },
  {
   "cell_type": "code",
   "execution_count": 9,
   "metadata": {},
   "outputs": [
    {
     "name": "stdout",
     "output_type": "stream",
     "text": [
      "coef: [ 4.50744307 -0.65871652  1.87379682  0.01255865  0.01062419]\n",
      "b: 6.806361225345768\n"
     ]
    }
   ],
   "source": [
    "print(f\"coef: {poly_2_feature_model.coef_}\")\n",
    "print(f\"b: {poly_2_feature_model.intercept_}\")"
   ]
  },
  {
   "cell_type": "markdown",
   "metadata": {},
   "source": [
    "### Error"
   ]
  },
  {
   "cell_type": "code",
   "execution_count": 10,
   "metadata": {},
   "outputs": [
    {
     "data": {
      "text/plain": [
       "18.959461842833374"
      ]
     },
     "execution_count": 10,
     "metadata": {},
     "output_type": "execute_result"
    }
   ],
   "source": [
    "from sklearn.metrics import mean_squared_error\n",
    "\n",
    "np.sqrt(mean_squared_error(y_test, prediction))"
   ]
  },
  {
   "cell_type": "markdown",
   "metadata": {},
   "source": [
    "The error is less in this model, so this one is preferred."
   ]
  },
  {
   "cell_type": "code",
   "execution_count": null,
   "metadata": {},
   "outputs": [],
   "source": []
  }
 ],
 "metadata": {
  "kernelspec": {
   "display_name": "Python 3 (ipykernel)",
   "language": "python",
   "name": "python3"
  },
  "language_info": {
   "codemirror_mode": {
    "name": "ipython",
    "version": 3
   },
   "file_extension": ".py",
   "mimetype": "text/x-python",
   "name": "python",
   "nbconvert_exporter": "python",
   "pygments_lexer": "ipython3",
   "version": "3.10.8"
  }
 },
 "nbformat": 4,
 "nbformat_minor": 4
}
