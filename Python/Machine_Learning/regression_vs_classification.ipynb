{
 "cells": [
  {
   "cell_type": "markdown",
   "id": "d8ce753c-7c43-4caa-b6f5-cf7480322e6f",
   "metadata": {},
   "source": [
    "# Regression vs classification\n",
    "\n",
    "> The most significant difference between regression vs classification is that while regression helps predict a continuous quantity, classification predicts discrete class labels. There are also some overlaps between the two types of machine learning algorithms.\n",
    "\n",
    "![regression vs classification](images/regression_vs_classification.png)"
   ]
  },
  {
   "cell_type": "code",
   "execution_count": null,
   "id": "55443c46-cde5-4a8f-8da2-2fa06f67b17b",
   "metadata": {},
   "outputs": [],
   "source": []
  }
 ],
 "metadata": {
  "kernelspec": {
   "display_name": "Python 3 (ipykernel)",
   "language": "python",
   "name": "python3"
  },
  "language_info": {
   "codemirror_mode": {
    "name": "ipython",
    "version": 3
   },
   "file_extension": ".py",
   "mimetype": "text/x-python",
   "name": "python",
   "nbconvert_exporter": "python",
   "pygments_lexer": "ipython3",
   "version": "3.10.8"
  }
 },
 "nbformat": 4,
 "nbformat_minor": 5
}
