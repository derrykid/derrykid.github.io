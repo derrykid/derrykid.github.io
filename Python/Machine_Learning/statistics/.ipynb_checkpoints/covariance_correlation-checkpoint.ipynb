{
 "cells": [
  {
   "cell_type": "markdown",
   "id": "af37a543-41a0-4821-bb89-a23156734b68",
   "metadata": {},
   "source": [
    "# Covariance and Correlation\n",
    "\n",
    "[article](https://careerfoundry.com/en/blog/data-analytics/covariance-vs-correlation/) \n",
    "\n",
    "*Covariance* and *correlation* is a way to see if 2 dataset are related. \n",
    "\n",
    "High covariance and correlation **does not mean there is a casualty.**\n",
    "\n",
    "## Covariance\n",
    "\n",
    "Given 2 variable (x, y), if x grows, so does y, and if they grow in the same manner, etc, increase or decrease in tandem.\n"
   ]
  },
  {
   "cell_type": "code",
   "execution_count": 1,
   "id": "389c4ba7-8e35-4f2e-b4eb-26603a0da1d9",
   "metadata": {},
   "outputs": [
    {
     "data": {
      "text/plain": [
       "array([[1.        , 0.96076892],\n",
       "       [0.96076892, 1.        ]])"
      ]
     },
     "execution_count": 1,
     "metadata": {},
     "output_type": "execute_result"
    }
   ],
   "source": [
    "import numpy as np\n",
    "\n",
    "arr1 = np.array([3, 6, 9])\n",
    "arr2 = np.array([4, 7, 8])\n",
    "\n",
    "corr = np.corrcoef(arr1, arr2)\n",
    "corr"
   ]
  },
  {
   "cell_type": "markdown",
   "id": "cb01d54d-4bb0-4904-b550-a5c71a554d3f",
   "metadata": {},
   "source": [
    "The 2d matrix Pearson product-moment correlation coefficients.\n",
    "\n",
    "While, top-right, is the corr between arr1 and arr2.\n",
    "bottom-left, is also the corr between arr1 and arr2."
   ]
  },
  {
   "cell_type": "code",
   "execution_count": 2,
   "id": "b2fd59d6-8bd1-441d-8f6a-37c4e4aa1277",
   "metadata": {},
   "outputs": [
    {
     "name": "stdout",
     "output_type": "stream",
     "text": [
      "Correlation between the arr1 and arr2: 0.9607689228305228\n"
     ]
    }
   ],
   "source": [
    "print(f\"Correlation between the arr1 and arr2: {corr[0][1]}\")"
   ]
  },
  {
   "cell_type": "markdown",
   "id": "cfb9bf80-a700-4b1f-bd6d-a660fb003f88",
   "metadata": {},
   "source": [
    "## Correlation\n",
    "\n",
    "Go a step further from covariance, correlation tells us both the strength and the direction of this relationship.\n",
    "\n",
    "![chart](https://dpbnri2zg3lc2.cloudfront.net/en/wp-content/uploads/2021/05/correlation_coefficient_table.png) "
   ]
  },
  {
   "cell_type": "code",
   "execution_count": 1,
   "id": "e1d6a306-22ba-4071-b231-17ebdb78a971",
   "metadata": {},
   "outputs": [
    {
     "data": {
      "image/png": "[encoded data removed]",
      "text/plain": [
       "<Figure size 432x288 with 1 Axes>"
      ]
     },
     "metadata": {
      "needs_background": "light"
     },
     "output_type": "display_data"
    }
   ],
   "source": [
    "import numpy as np\n",
    "import matplotlib.pyplot as plt\n",
    "\n",
    "pageSpeed = np.random.normal(3, 1, 1000)\n",
    "purchaseAmount = np.random.normal(50, 10, 1000) / pageSpeed\n",
    "\n",
    "plt.scatter(pageSpeed, purchaseAmount)\n",
    "plt.show()"
   ]
  },
  {
   "cell_type": "markdown",
   "id": "769047b2-cb1a-4ace-8fe2-3d0100909e5b",
   "metadata": {},
   "source": [
    "## Compute the correlation with `numpy.corrcoef()`"
   ]
  },
  {
   "cell_type": "code",
   "execution_count": 2,
   "id": "17b545ac-cb8d-4e59-938a-e0857ed5d470",
   "metadata": {},
   "outputs": [
    {
     "data": {
      "text/plain": [
       "array([[ 1.        , -0.72223445],\n",
       "       [-0.72223445,  1.        ]])"
      ]
     },
     "execution_count": 2,
     "metadata": {},
     "output_type": "execute_result"
    }
   ],
   "source": [
    "np.corrcoef(pageSpeed, purchaseAmount)"
   ]
  },
  {
   "cell_type": "code",
   "execution_count": null,
   "id": "2970337f-33e5-41e3-b442-aaeb35478eb8",
   "metadata": {},
   "outputs": [],
   "source": []
  }
 ],
 "metadata": {
  "kernelspec": {
   "display_name": "Python 3 (ipykernel)",
   "language": "python",
   "name": "python3"
  },
  "language_info": {
   "codemirror_mode": {
    "name": "ipython",
    "version": 3
   },
   "file_extension": ".py",
   "mimetype": "text/x-python",
   "name": "python",
   "nbconvert_exporter": "python",
   "pygments_lexer": "ipython3",
   "version": "3.10.8"
  }
 },
 "nbformat": 4,
 "nbformat_minor": 5
}
