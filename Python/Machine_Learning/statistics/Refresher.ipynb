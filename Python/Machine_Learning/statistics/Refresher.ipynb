{
 "cells": [
  {
   "cell_type": "markdown",
   "id": "93c5f97f-9526-4ce1-b20e-c3b6b1fe6b5a",
   "metadata": {},
   "source": [
    "## Mean, median, mode\n",
    "\n",
    "- *mean* - average\n",
    "- *median* - the data in the middle\n",
    "- *mode* - count the numbers, give the highest one\n",
    "\n",
    "Few examples of calculating with numpy:"
   ]
  },
  {
   "cell_type": "code",
   "execution_count": 4,
   "id": "07359ab7-789c-4c56-970b-ffe3ecde8c78",
   "metadata": {},
   "outputs": [
    {
     "data": {
      "text/plain": [
       "100.40610892626047"
      ]
     },
     "execution_count": 4,
     "metadata": {},
     "output_type": "execute_result"
    }
   ],
   "source": [
    "import numpy as np\n",
    "s = np.random.normal(100, 20, 50)\n",
    "\n",
    "np.mean(s)\n",
    "np.median(s)"
   ]
  },
  {
   "cell_type": "markdown",
   "id": "4f4b1ffe-2902-441b-b104-d74b10941ea0",
   "metadata": {},
   "source": [
    "## Variance\n",
    "\n",
    "> to tell how \"spread-out\" the data is\n",
    "\n",
    "1. find the mean\n",
    "2. find the difference from the mean (subtract the num with mean)\n",
    "3. squared the difference\n",
    "4. find the average of the squared differences"
   ]
  },
  {
   "cell_type": "code",
   "execution_count": 6,
   "id": "201335a9-16d8-49e7-8207-2fdcc32fbee6",
   "metadata": {},
   "outputs": [
    {
     "data": {
      "text/plain": [
       "98.30815242523478"
      ]
     },
     "execution_count": 6,
     "metadata": {},
     "output_type": "execute_result"
    }
   ],
   "source": [
    "mean = 100\n",
    "stand_deviation = 10\n",
    "size = 20  # size means, how many values in the array\n",
    "s = np.random.normal(mean, stand_deviation, size)\n",
    "\n",
    "# by object method\n",
    "s.var()\n",
    "\n",
    "# by numpy function\n",
    "np.var(s)"
   ]
  },
  {
   "cell_type": "markdown",
   "id": "9cb1a48d-cf85-45a6-a344-50ebb8c320da",
   "metadata": {},
   "source": [
    "## Standard deviation\n",
    "\n",
    "標準差\n",
    "\n",
    "**The square root of the variance** - variance 開根號\n",
    "\n",
    "**Example:** \n",
    "2 classes: A and B. Class A with 5 students, scored (20, 80, 10, 90, 50). Class B with 5 students, scored (50, 49, 51, 52, 48). Even though the average is 50 respectively, but the standard deviation of these 2 classes are very far apart.\n",
    "\n",
    "- It's usually used as a way to identify outliers. Some data of 1 standard deviation can be considered unusual. Some might consider 1.5, or more."
   ]
  },
  {
   "cell_type": "code",
   "execution_count": 8,
   "id": "f2b5ef57-dd2a-49e1-9638-3bb69b884240",
   "metadata": {},
   "outputs": [
    {
     "data": {
      "text/plain": [
       "8.869444775629821"
      ]
     },
     "execution_count": 8,
     "metadata": {},
     "output_type": "execute_result"
    }
   ],
   "source": [
    "s = np.random.normal(100, 10, 20)\n",
    "d = s.std()\n",
    "\n",
    "# or numpy method\n",
    "np.std(s)"
   ]
  },
  {
   "cell_type": "markdown",
   "id": "20bf82b4-e48e-4946-8097-8e6bd56acb54",
   "metadata": {},
   "source": [
    "### Sample variance, divide by `N-1`\n",
    "\n",
    "The complete dataset calculate the variance by how many records are. For example, if it's 7, then divide by 7.\n",
    "\n",
    "However, if you're sampling, divide by *N-1*. In the above example, divide by `7-1 = 6`."
   ]
  },
  {
   "cell_type": "markdown",
   "id": "58efde8f-dc90-415d-bd08-e43f78a9a91a",
   "metadata": {},
   "source": [
    "## Percentile\n",
    "\n",
    "> The point at which x% of value is less than the given value\n",
    "\n",
    "More generally speaking, it's: upto this point, it's x% of data.\n",
    "\n",
    "Percentile 30% equals to `$20000`. It means upto 30% of people earn less than `$20000`."
   ]
  },
  {
   "cell_type": "code",
   "execution_count": 9,
   "id": "ade66945-438c-497d-b198-19ae97aac6e8",
   "metadata": {},
   "outputs": [
    {
     "data": {
      "text/plain": [
       "-0.8399415333957866"
      ]
     },
     "execution_count": 9,
     "metadata": {},
     "output_type": "execute_result"
    }
   ],
   "source": [
    "mu = 0\n",
    "std = 1\n",
    "size = 100_000\n",
    "x = np.random.normal(mu, std, size)\n",
    "\n",
    "np.percentile(x, 20)"
   ]
  },
  {
   "cell_type": "markdown",
   "id": "a89d490c-5fa2-452c-9ca0-965051a1c74b",
   "metadata": {},
   "source": [
    "### Quartile\n",
    "\n",
    "Quartile 1 (Q1) and quartile 3 (Q3) in the middle are just the points that contain together 50% of the data, so 25% are on left side of the median and 25% are on the right side of the median. \n",
    "\n",
    "That can short for *interquartile range (IQR)*"
   ]
  },
  {
   "cell_type": "markdown",
   "id": "3b9dc9ed-2009-4f55-811d-f05a377839e6",
   "metadata": {},
   "source": [
    "## Moments\n",
    "\n",
    "4 moments in statistics. It's a quantitative measures of the shape of a probability density function \n",
    "\n",
    "1. mean - `np.mean(data)`\n",
    "2. variance - `np.var(data)`\n",
    "2. skew - `np.skew(data)`\n",
    "3. kurtosis - `np.kurtosis(data)`"
   ]
  },
  {
   "cell_type": "markdown",
   "id": "83361e3d-677c-41b9-a7a3-5588aef3cafa",
   "metadata": {},
   "source": [
    "### Skew\n",
    "\n",
    "> Skew is associated with the shape of the distribution, not its actual offset in X.\n",
    "\n",
    "if I have a longer tail on the left, that is a negative skew. If I have a longer tail on the right then,that's a positive skew.\n",
    "\n",
    "- negative skew\n",
    "- positive skew\n",
    "\n",
    "The dotted lines show what the shape of a normal distribution would look like without skew. The dotted line out on the left side then I end up with a negative skew, or on the other side, a positive skew in that example. \n",
    "\n",
    "![skew](https://upload.wikimedia.org/wikipedia/commons/thumb/f/f8/Negative_and_positive_skew_diagrams_%28English%29.svg/446px-Negative_and_positive_skew_diagrams_%28English%29.svg.png) "
   ]
  },
  {
   "cell_type": "code",
   "execution_count": 10,
   "id": "7efe216d-2523-4737-9f2e-3043dbc0c92b",
   "metadata": {},
   "outputs": [
    {
     "data": {
      "text/plain": [
       "-0.09576016940475295"
      ]
     },
     "execution_count": 10,
     "metadata": {},
     "output_type": "execute_result"
    }
   ],
   "source": [
    "import scipy.stats as sp\n",
    "\n",
    "nums = np.random.normal(100, 2, 300);\n",
    "\n",
    "sp.skew(nums)"
   ]
  },
  {
   "cell_type": "markdown",
   "id": "1f778f91-253e-4153-86df-af5e6bd502be",
   "metadata": {},
   "source": [
    "### Kurtosis\n",
    "\n",
    "Kurtosis: how thick is the tail, how sharp is the peak, compared to normal distribution?\n",
    "\n",
    "![kurtosis](https://www.daytrading.com/wp-content/uploads/2021/09/Kurtosis.jpg) "
   ]
  },
  {
   "cell_type": "code",
   "execution_count": 11,
   "id": "f745f911-3938-4077-8576-796100d3de08",
   "metadata": {},
   "outputs": [
    {
     "data": {
      "text/plain": [
       "-0.10957535296411258"
      ]
     },
     "execution_count": 11,
     "metadata": {},
     "output_type": "execute_result"
    }
   ],
   "source": [
    "import scipy.stats as sp\n",
    "sp.kurtosis(nums)"
   ]
  },
  {
   "cell_type": "code",
   "execution_count": null,
   "id": "fcb2fcb1-482e-4bc8-a348-8e9508a0a064",
   "metadata": {},
   "outputs": [],
   "source": []
  }
 ],
 "metadata": {
  "kernelspec": {
   "display_name": "Python 3 (ipykernel)",
   "language": "python",
   "name": "python3"
  },
  "language_info": {
   "codemirror_mode": {
    "name": "ipython",
    "version": 3
   },
   "file_extension": ".py",
   "mimetype": "text/x-python",
   "name": "python",
   "nbconvert_exporter": "python",
   "pygments_lexer": "ipython3",
   "version": "3.10.8"
  }
 },
 "nbformat": 4,
 "nbformat_minor": 5
}
