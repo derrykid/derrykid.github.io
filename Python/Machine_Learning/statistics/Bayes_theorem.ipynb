{
 "cells": [
  {
   "cell_type": "markdown",
   "id": "de2da4b1-fe80-4356-9013-2fa57eae6d2b",
   "metadata": {},
   "source": [
    "# Bayes Theorem\n",
    "\n",
    "[Youtube](https://www.youtube.com/watch?v=HZGCoVF3YvM)"
   ]
  },
  {
   "cell_type": "code",
   "execution_count": null,
   "id": "69098a49-ce42-427c-b16c-68868f4b267a",
   "metadata": {},
   "outputs": [],
   "source": []
  }
 ],
 "metadata": {
  "kernelspec": {
   "display_name": "Python 3 (ipykernel)",
   "language": "python",
   "name": "python3"
  },
  "language_info": {
   "codemirror_mode": {
    "name": "ipython",
    "version": 3
   },
   "file_extension": ".py",
   "mimetype": "text/x-python",
   "name": "python",
   "nbconvert_exporter": "python",
   "pygments_lexer": "ipython3",
   "version": "3.10.8"
  }
 },
 "nbformat": 4,
 "nbformat_minor": 5
}
