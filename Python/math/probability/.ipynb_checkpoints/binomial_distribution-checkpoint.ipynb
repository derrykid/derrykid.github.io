{
 "cells": [
  {
   "cell_type": "code",
   "execution_count": 5,
   "id": "a6f70c70-2bcb-4670-ac42-b3ae52522dde",
   "metadata": {},
   "outputs": [],
   "source": [
    "import numpy as np\n",
    "import matplotlib.pyplot as plt\n",
    "\n",
    "x = np.random.rand(1000, 10)\n",
    "\n",
    "probability = {\n",
    "    1:0,\n",
    "    2:0,\n",
    "    3:0,\n",
    "    4:0,\n",
    "    5:0,\n",
    "    6:0,\n",
    "    7:0,\n",
    "    8:0,\n",
    "    9:0,\n",
    "    10:0\n",
    "}\n",
    "\n",
    "for series in x:\n",
    "    fail = 0\n",
    "    for _ in series:\n",
    "        if _ >= 0.95:\n",
    "            fail = fail + 1\n",
    "    \n",
    "    if fail == 0:\n",
    "        probability[10] = probability[10] + 1\n",
    "    else:\n",
    "        success_probability = (1 - fail / 10) * 10\n",
    "        probability[success_probability] +=  1\n",
    "        \n",
    "\n",
    "def convert_probability(probability_dictionary, size):\n",
    "    prob = probability_dictionary\n",
    "    count = size\n",
    "    for each in prob.keys():\n",
    "        prob[each] = (prob[each] / count ) * 100\n",
    "        \n",
    "    return prob\n",
    "\n",
    "probability = convert_probability(probability, x.shape[0])"
   ]
  },
  {
   "cell_type": "code",
   "execution_count": 6,
   "id": "20f5bf27-9801-4223-89f4-e66d6eccd675",
   "metadata": {},
   "outputs": [
    {
     "data": {
      "image/png": "[encoded data removed]",
      "text/plain": [
       "<Figure size 800x400 with 1 Axes>"
      ]
     },
     "metadata": {},
     "output_type": "display_data"
    }
   ],
   "source": [
    "plt.figure(figsize=(8, 4))\n",
    "plt.bar(x=probability.keys(), height=probability.values(), width=0.5)\n",
    "plt.xticks(np.arange(1, 11, 1))\n",
    "plt.show()"
   ]
  },
  {
   "cell_type": "code",
   "execution_count": null,
   "id": "a7161e87-9468-40db-b07f-71259764731f",
   "metadata": {},
   "outputs": [],
   "source": []
  }
 ],
 "metadata": {
  "kernelspec": {
   "display_name": "Python 3 (ipykernel)",
   "language": "python",
   "name": "python3"
  },
  "language_info": {
   "codemirror_mode": {
    "name": "ipython",
    "version": 3
   },
   "file_extension": ".py",
   "mimetype": "text/x-python",
   "name": "python",
   "nbconvert_exporter": "python",
   "pygments_lexer": "ipython3",
   "version": "3.10.8"
  }
 },
 "nbformat": 4,
 "nbformat_minor": 5
}
