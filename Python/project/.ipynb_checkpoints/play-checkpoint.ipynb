{
 "cells": [
  {
   "cell_type": "markdown",
   "id": "255ce90b-91f6-4522-a86e-da2ca31f51da",
   "metadata": {},
   "source": [
    "This is code cell"
   ]
  },
  {
   "cell_type": "code",
   "execution_count": null,
   "id": "c34bceb8-eb40-47b5-b6b6-bd45904de19d",
   "metadata": {},
   "outputs": [],
   "source": [
    "print(100)\n",
    "print('haha') # comments"
   ]
  }
 ],
 "metadata": {
  "kernelspec": {
   "display_name": "Python 3 (ipykernel)",
   "language": "python",
   "name": "python3"
  },
  "language_info": {
   "codemirror_mode": {
    "name": "ipython",
    "version": 3
   },
   "file_extension": ".py",
   "mimetype": "text/x-python",
   "name": "python",
   "nbconvert_exporter": "python",
   "pygments_lexer": "ipython3",
   "version": "3.10.8"
  }
 },
 "nbformat": 4,
 "nbformat_minor": 5
}
